{
 "cells": [
  {
   "cell_type": "code",
   "execution_count": 10,
   "metadata": {
    "colab": {
     "base_uri": "https://localhost:8080/"
    },
    "executionInfo": {
     "elapsed": 773,
     "status": "ok",
     "timestamp": 1620177382359,
     "user": {
      "displayName": "ISOM3400 Instructor Google Class",
      "photoUrl": "",
      "userId": "10963748770099369781"
     },
     "user_tz": -480
    },
    "id": "e0evm6tM0TJ1",
    "outputId": "7558fbd3-fec6-4834-9c47-c372fcc57343"
   },
   "outputs": [
    {
     "name": "stdout",
     "output_type": "stream",
     "text": [
      "Number of features = 10\n"
     ]
    },
    {
     "data": {
      "text/html": [
       "<div>\n",
       "<style scoped>\n",
       "    .dataframe tbody tr th:only-of-type {\n",
       "        vertical-align: middle;\n",
       "    }\n",
       "\n",
       "    .dataframe tbody tr th {\n",
       "        vertical-align: top;\n",
       "    }\n",
       "\n",
       "    .dataframe thead th {\n",
       "        text-align: right;\n",
       "    }\n",
       "</style>\n",
       "<table border=\"1\" class=\"dataframe\">\n",
       "  <thead>\n",
       "    <tr style=\"text-align: right;\">\n",
       "      <th></th>\n",
       "      <th>App</th>\n",
       "      <th>Category</th>\n",
       "      <th>Rating</th>\n",
       "      <th>Reviews</th>\n",
       "      <th>Size</th>\n",
       "      <th>Installs</th>\n",
       "      <th>Type</th>\n",
       "      <th>Price</th>\n",
       "      <th>Content Rating</th>\n",
       "      <th>Genres</th>\n",
       "    </tr>\n",
       "  </thead>\n",
       "  <tbody>\n",
       "    <tr>\n",
       "      <th>0</th>\n",
       "      <td>Photo Editor &amp; Candy Camera &amp; Grid &amp; ScrapBook</td>\n",
       "      <td>ART_AND_DESIGN</td>\n",
       "      <td>4.1</td>\n",
       "      <td>159</td>\n",
       "      <td>19000000.0</td>\n",
       "      <td>10000</td>\n",
       "      <td>Free</td>\n",
       "      <td>0</td>\n",
       "      <td>Everyone</td>\n",
       "      <td>Art &amp; Design</td>\n",
       "    </tr>\n",
       "    <tr>\n",
       "      <th>1</th>\n",
       "      <td>Coloring book moana</td>\n",
       "      <td>ART_AND_DESIGN</td>\n",
       "      <td>3.9</td>\n",
       "      <td>967</td>\n",
       "      <td>14000000.0</td>\n",
       "      <td>500000</td>\n",
       "      <td>Free</td>\n",
       "      <td>0</td>\n",
       "      <td>Everyone</td>\n",
       "      <td>Art &amp; Design;Pretend Play</td>\n",
       "    </tr>\n",
       "    <tr>\n",
       "      <th>2</th>\n",
       "      <td>U Launcher Lite â FREE Live Cool Themes, Hid...</td>\n",
       "      <td>ART_AND_DESIGN</td>\n",
       "      <td>4.7</td>\n",
       "      <td>87510</td>\n",
       "      <td>8700000.0</td>\n",
       "      <td>5000000</td>\n",
       "      <td>Free</td>\n",
       "      <td>0</td>\n",
       "      <td>Everyone</td>\n",
       "      <td>Art &amp; Design</td>\n",
       "    </tr>\n",
       "    <tr>\n",
       "      <th>3</th>\n",
       "      <td>Sketch - Draw &amp; Paint</td>\n",
       "      <td>ART_AND_DESIGN</td>\n",
       "      <td>4.5</td>\n",
       "      <td>215644</td>\n",
       "      <td>25000000.0</td>\n",
       "      <td>50000000</td>\n",
       "      <td>Free</td>\n",
       "      <td>0</td>\n",
       "      <td>Teen</td>\n",
       "      <td>Art &amp; Design</td>\n",
       "    </tr>\n",
       "    <tr>\n",
       "      <th>4</th>\n",
       "      <td>Pixel Draw - Number Art Coloring Book</td>\n",
       "      <td>ART_AND_DESIGN</td>\n",
       "      <td>4.3</td>\n",
       "      <td>967</td>\n",
       "      <td>2800000.0</td>\n",
       "      <td>100000</td>\n",
       "      <td>Free</td>\n",
       "      <td>0</td>\n",
       "      <td>Everyone</td>\n",
       "      <td>Art &amp; Design;Creativity</td>\n",
       "    </tr>\n",
       "  </tbody>\n",
       "</table>\n",
       "</div>"
      ],
      "text/plain": [
       "                                                 App        Category  Rating  \\\n",
       "0     Photo Editor & Candy Camera & Grid & ScrapBook  ART_AND_DESIGN     4.1   \n",
       "1                                Coloring book moana  ART_AND_DESIGN     3.9   \n",
       "2  U Launcher Lite â FREE Live Cool Themes, Hid...  ART_AND_DESIGN     4.7   \n",
       "3                              Sketch - Draw & Paint  ART_AND_DESIGN     4.5   \n",
       "4              Pixel Draw - Number Art Coloring Book  ART_AND_DESIGN     4.3   \n",
       "\n",
       "   Reviews        Size  Installs  Type Price Content Rating  \\\n",
       "0      159  19000000.0     10000  Free     0       Everyone   \n",
       "1      967  14000000.0    500000  Free     0       Everyone   \n",
       "2    87510   8700000.0   5000000  Free     0       Everyone   \n",
       "3   215644  25000000.0  50000000  Free     0           Teen   \n",
       "4      967   2800000.0    100000  Free     0       Everyone   \n",
       "\n",
       "                      Genres  \n",
       "0               Art & Design  \n",
       "1  Art & Design;Pretend Play  \n",
       "2               Art & Design  \n",
       "3               Art & Design  \n",
       "4    Art & Design;Creativity  "
      ]
     },
     "execution_count": 10,
     "metadata": {},
     "output_type": "execute_result"
    }
   ],
   "source": [
    "# Task 1\n",
    "\n",
    "# read data from the CSV file, which is in the current working directory\n",
    "# assign values to variables\n",
    "\n",
    "# Requirement:\n",
    "#       CSV file is placed in the current working directory\n",
    "#       do not hard code the numbers and values\n",
    "#       use as many existing variables as possible\n",
    "\n",
    "\n",
    "import pandas as pd\n",
    "import numpy as np\n",
    "\n",
    "csv_file = \"googleplaystore_v2.csv\"\n",
    "df = pd.read_csv(csv_file)                          # <- complete this one\n",
    "print(f\"Number of features = {len(df.columns)}\")           # <- complete this one\n",
    "df.head()          # <- complete this one"
   ]
  },
  {
   "cell_type": "code",
   "execution_count": null,
   "metadata": {},
   "outputs": [],
   "source": []
  },
  {
   "cell_type": "code",
   "execution_count": null,
   "metadata": {},
   "outputs": [],
   "source": [
    "# Number of features = 10, Number of samples = 10840\n",
    "#                                                  App  ...                     Genres\n",
    "# 0     Photo Editor & Candy Camera & Grid & ScrapBook  ...               Art & Design\n",
    "# 1                                Coloring book moana  ...  Art & Design;Pretend Play\n",
    "# 2  U Launcher Lite â FREE Live Cool Themes, Hid...  ...               Art & Design\n",
    "# 3                              Sketch - Draw & Paint  ...               Art & Design\n",
    "# 4              Pixel Draw - Number Art Coloring Book  ...    Art & Design;Creativity\n",
    "\n",
    "# [5 rows x 10 columns]"
   ]
  },
  {
   "cell_type": "code",
   "execution_count": 11,
   "metadata": {
    "colab": {
     "base_uri": "https://localhost:8080/"
    },
    "executionInfo": {
     "elapsed": 1216,
     "status": "ok",
     "timestamp": 1620177382808,
     "user": {
      "displayName": "ISOM3400 Instructor Google Class",
      "photoUrl": "",
      "userId": "10963748770099369781"
     },
     "user_tz": -480
    },
    "id": "ETvL0lHR0vcZ",
    "outputId": "bc9b5d7a-c2f2-45af-e1df-ea72a0fd2b4a"
   },
   "outputs": [
    {
     "name": "stdout",
     "output_type": "stream",
     "text": [
      "<class 'pandas.core.frame.DataFrame'>\n",
      "RangeIndex: 10840 entries, 0 to 10839\n",
      "Data columns (total 10 columns):\n",
      " #   Column          Non-Null Count  Dtype  \n",
      "---  ------          --------------  -----  \n",
      " 0   App             10840 non-null  object \n",
      " 1   Category        10840 non-null  object \n",
      " 2   Rating          9366 non-null   float64\n",
      " 3   Reviews         10840 non-null  int64  \n",
      " 4   Size            9145 non-null   float64\n",
      " 5   Installs        10840 non-null  int64  \n",
      " 6   Type            10839 non-null  object \n",
      " 7   Price           10840 non-null  object \n",
      " 8   Content Rating  10840 non-null  object \n",
      " 9   Genres          10840 non-null  object \n",
      "dtypes: float64(2), int64(2), object(6)\n",
      "memory usage: 847.0+ KB\n"
     ]
    }
   ],
   "source": [
    "# Task 2\n",
    "\n",
    "#Produce basic information about the dataset\n",
    "\n",
    "# Requirement:\n",
    "#       1 line\n",
    "\n",
    "df.info()\n",
    "                                   # <---- one line of code"
   ]
  },
  {
   "cell_type": "code",
   "execution_count": 30,
   "metadata": {
    "colab": {
     "base_uri": "https://localhost:8080/"
    },
    "executionInfo": {
     "elapsed": 1211,
     "status": "ok",
     "timestamp": 1620177382809,
     "user": {
      "displayName": "ISOM3400 Instructor Google Class",
      "photoUrl": "",
      "userId": "10963748770099369781"
     },
     "user_tz": -480
    },
    "id": "5hi3BPadIBaY",
    "outputId": "4056c6c4-bef2-4a8a-d345-6861208fb880"
   },
   "outputs": [
    {
     "name": "stdout",
     "output_type": "stream",
     "text": [
      "Count total number of missing values at each column\n",
      "App                  0\n",
      "Category             0\n",
      "Rating            1474\n",
      "Reviews              0\n",
      "Size              1695\n",
      "Installs             0\n",
      "Type                 1\n",
      "Price                0\n",
      "Content Rating       0\n",
      "Genres               0\n",
      "dtype: int64\n"
     ]
    }
   ],
   "source": [
    "# Task 3\n",
    "\n",
    "#Count total number of missing values at each column\n",
    "\n",
    "print(\"Count total number of missing values at each column\")\n",
    "print(df.isna().sum())                 # <- complete this one"
   ]
  },
  {
   "cell_type": "code",
   "execution_count": null,
   "metadata": {},
   "outputs": [],
   "source": []
  },
  {
   "cell_type": "code",
   "execution_count": 35,
   "metadata": {
    "colab": {
     "base_uri": "https://localhost:8080/"
    },
    "executionInfo": {
     "elapsed": 1207,
     "status": "ok",
     "timestamp": 1620177382809,
     "user": {
      "displayName": "ISOM3400 Instructor Google Class",
      "photoUrl": "",
      "userId": "10963748770099369781"
     },
     "user_tz": -480
    },
    "id": "aas0MksV4goi",
    "outputId": "9368df18-289f-4c15-ed25-5ed7194b58f4"
   },
   "outputs": [
    {
     "name": "stdout",
     "output_type": "stream",
     "text": [
      "The total number of missing values in all columns= 3170 \n"
     ]
    }
   ],
   "source": [
    "# Task 4\n",
    "\n",
    "#Count total number of missing values in all columns\n",
    "\n",
    "print(f'The total number of missing values in all columns= {df.isna().sum().sum()} ' )              # <- complete this one"
   ]
  },
  {
   "cell_type": "code",
   "execution_count": 72,
   "metadata": {
    "colab": {
     "base_uri": "https://localhost:8080/"
    },
    "executionInfo": {
     "elapsed": 1203,
     "status": "ok",
     "timestamp": 1620177382810,
     "user": {
      "displayName": "ISOM3400 Instructor Google Class",
      "photoUrl": "",
      "userId": "10963748770099369781"
     },
     "user_tz": -480
    },
    "id": "iXLbiTjX1RB5",
    "outputId": "dc4455da-22ab-4908-c8de-d67571587ece"
   },
   "outputs": [
    {
     "name": "stdout",
     "output_type": "stream",
     "text": [
      "<class 'list'>\n",
      "The total number of categories = 33\n",
      "The first one is ART_AND_DESIGN, and the last one is LIFESTYLE \n"
     ]
    }
   ],
   "source": [
    "# Task 5\n",
    "\n",
    "# Store all categories (unique names) in a list\n",
    "\n",
    "\n",
    "cat = []              # <- complete this one\n",
    "print(type(cat)      )                              # <- complete this one\n",
    "print(f\"The total number of categories = {df['Category'].describe()[1]}\")         # <- complete this one\n",
    "print(f\"The first one is {df['Category'].head()[1]}, and the last one is {df['Category'].iloc[[-1][0]]} \" )        # <- complete this one"
   ]
  },
  {
   "cell_type": "code",
   "execution_count": null,
   "metadata": {},
   "outputs": [],
   "source": []
  },
  {
   "cell_type": "code",
   "execution_count": null,
   "metadata": {
    "colab": {
     "base_uri": "https://localhost:8080/"
    },
    "executionInfo": {
     "elapsed": 1199,
     "status": "ok",
     "timestamp": 1620177382810,
     "user": {
      "displayName": "ISOM3400 Instructor Google Class",
      "photoUrl": "",
      "userId": "10963748770099369781"
     },
     "user_tz": -480
    },
    "id": "6fvdkllf1q9r",
    "outputId": "84ff0cb0-4a8d-4345-ec26-40b9cc7143e6"
   },
   "outputs": [
    {
     "name": "stdout",
     "output_type": "stream",
     "text": [
      "FAMILY                 1972\n",
      "GAME                   1144\n",
      "TOOLS                   843\n",
      "MEDICAL                 463\n",
      "BUSINESS                460\n",
      "PRODUCTIVITY            424\n",
      "PERSONALIZATION         392\n",
      "COMMUNICATION           387\n",
      "SPORTS                  384\n",
      "LIFESTYLE               382\n",
      "FINANCE                 366\n",
      "HEALTH_AND_FITNESS      341\n",
      "PHOTOGRAPHY             335\n",
      "SOCIAL                  295\n",
      "NEWS_AND_MAGAZINES      283\n",
      "SHOPPING                260\n",
      "TRAVEL_AND_LOCAL        258\n",
      "DATING                  234\n",
      "BOOKS_AND_REFERENCE     231\n",
      "VIDEO_PLAYERS           175\n",
      "EDUCATION               156\n",
      "ENTERTAINMENT           149\n",
      "MAPS_AND_NAVIGATION     137\n",
      "FOOD_AND_DRINK          127\n",
      "HOUSE_AND_HOME           88\n",
      "LIBRARIES_AND_DEMO       85\n",
      "AUTO_AND_VEHICLES        85\n",
      "WEATHER                  82\n",
      "ART_AND_DESIGN           65\n",
      "EVENTS                   64\n",
      "PARENTING                60\n",
      "COMICS                   60\n",
      "BEAUTY                   53\n",
      "Name: Category, dtype: int64\n"
     ]
    }
   ],
   "source": [
    "# Task 6\n",
    "\n",
    "# Which category of app is the MOST popular one (in term of the total number of apps in the category)?\n",
    "\n",
    "\n",
    "most_cat =            # <- complete this one\n",
    "print(most_cat)       "
   ]
  },
  {
   "cell_type": "code",
   "execution_count": 88,
   "metadata": {},
   "outputs": [
    {
     "data": {
      "text/plain": [
       "<pandas.core.groupby.generic.DataFrameGroupBy object at 0x000001F0EC03D1C0>"
      ]
     },
     "execution_count": 88,
     "metadata": {},
     "output_type": "execute_result"
    }
   ],
   "source": [
    "df.groupby('Category')"
   ]
  },
  {
   "cell_type": "code",
   "execution_count": null,
   "metadata": {},
   "outputs": [],
   "source": []
  },
  {
   "cell_type": "code",
   "execution_count": null,
   "metadata": {
    "colab": {
     "base_uri": "https://localhost:8080/"
    },
    "executionInfo": {
     "elapsed": 1194,
     "status": "ok",
     "timestamp": 1620177382810,
     "user": {
      "displayName": "ISOM3400 Instructor Google Class",
      "photoUrl": "",
      "userId": "10963748770099369781"
     },
     "user_tz": -480
    },
    "id": "Uny7mtuW2W7i",
    "outputId": "a0b25a95-e88b-4d62-bb14-c7400a9427d3"
   },
   "outputs": [
    {
     "name": "stdout",
     "output_type": "stream",
     "text": [
      "There are 460 apps in Business category.\n",
      "There are 156 apps in Education category.\n"
     ]
    }
   ],
   "source": [
    "# Task 7\n",
    "\n",
    "# How many apps were in the category\n",
    "\n",
    "print(          )          # <- complete this one\n",
    "print(          )          # <- complete this one"
   ]
  },
  {
   "cell_type": "code",
   "execution_count": 84,
   "metadata": {
    "colab": {
     "base_uri": "https://localhost:8080/"
    },
    "executionInfo": {
     "elapsed": 1190,
     "status": "ok",
     "timestamp": 1620177382811,
     "user": {
      "displayName": "ISOM3400 Instructor Google Class",
      "photoUrl": "",
      "userId": "10963748770099369781"
     },
     "user_tz": -480
    },
    "id": "g9CUJyIa2YCa",
    "outputId": "a679ec29-e106-4e89-a394-05ba333c331f"
   },
   "outputs": [
    {
     "name": "stdout",
     "output_type": "stream",
     "text": [
      "Category\n",
      "ART_AND_DESIGN           124338100\n",
      "AUTO_AND_VEHICLES         53130211\n",
      "BEAUTY                    27197050\n",
      "BOOKS_AND_REFERENCE     1921469576\n",
      "BUSINESS                1001914865\n",
      "COMICS                    56086150\n",
      "COMMUNICATION          32647276251\n",
      "DATING                   264310807\n",
      "EDUCATION                871452000\n",
      "ENTERTAINMENT           2869160000\n",
      "EVENTS                    15973161\n",
      "FAMILY                 10258263505\n",
      "FINANCE                  876648734\n",
      "FOOD_AND_DRINK           273898751\n",
      "GAME                   35086024415\n",
      "HEALTH_AND_FITNESS      1583072512\n",
      "HOUSE_AND_HOME           168712461\n",
      "LIBRARIES_AND_DEMO        62995910\n",
      "LIFESTYLE                537643539\n",
      "MAPS_AND_NAVIGATION      724281890\n",
      "MEDICAL                   53257437\n",
      "NEWS_AND_MAGAZINES      7496317760\n",
      "PARENTING                 31521110\n",
      "PERSONALIZATION         2325494782\n",
      "PHOTOGRAPHY            10088247655\n",
      "PRODUCTIVITY           14176091369\n",
      "SHOPPING                3247848785\n",
      "SOCIAL                 14069867902\n",
      "SPORTS                  1751174498\n",
      "TOOLS                  11452771915\n",
      "TRAVEL_AND_LOCAL        6868887146\n",
      "VIDEO_PLAYERS           6222002720\n",
      "WEATHER                  426100520\n",
      "Name: Installs, dtype: int64\n"
     ]
    }
   ],
   "source": [
    "# Task 8\n",
    "\n",
    "# Show the total numbers of Installs\n",
    "\n",
    "print(df.groupby('Category')['Installs'].sum())             # <- complete this one"
   ]
  },
  {
   "cell_type": "code",
   "execution_count": null,
   "metadata": {},
   "outputs": [],
   "source": []
  },
  {
   "cell_type": "code",
   "execution_count": null,
   "metadata": {},
   "outputs": [],
   "source": []
  },
  {
   "cell_type": "code",
   "execution_count": null,
   "metadata": {
    "colab": {
     "base_uri": "https://localhost:8080/",
     "height": 139
    },
    "executionInfo": {
     "elapsed": 1185,
     "status": "ok",
     "timestamp": 1620177382811,
     "user": {
      "displayName": "ISOM3400 Instructor Google Class",
      "photoUrl": "",
      "userId": "10963748770099369781"
     },
     "user_tz": -480
    },
    "id": "9Y4787oJpX7d",
    "outputId": "bdba6014-1ef2-4a34-eb2b-a6ed934bd7c3"
   },
   "outputs": [
    {
     "data": {
      "text/html": [
       "<div>\n",
       "<style scoped>\n",
       "    .dataframe tbody tr th:only-of-type {\n",
       "        vertical-align: middle;\n",
       "    }\n",
       "\n",
       "    .dataframe tbody tr th {\n",
       "        vertical-align: top;\n",
       "    }\n",
       "\n",
       "    .dataframe thead th {\n",
       "        text-align: right;\n",
       "    }\n",
       "</style>\n",
       "<table border=\"1\" class=\"dataframe\">\n",
       "  <thead>\n",
       "    <tr style=\"text-align: right;\">\n",
       "      <th></th>\n",
       "      <th>max_ratings</th>\n",
       "      <th>min_rating</th>\n",
       "    </tr>\n",
       "    <tr>\n",
       "      <th>Type</th>\n",
       "      <th></th>\n",
       "      <th></th>\n",
       "    </tr>\n",
       "  </thead>\n",
       "  <tbody>\n",
       "    <tr>\n",
       "      <th>Free</th>\n",
       "      <td>5.0</td>\n",
       "      <td>1.0</td>\n",
       "    </tr>\n",
       "    <tr>\n",
       "      <th>Paid</th>\n",
       "      <td>4.8</td>\n",
       "      <td>2.9</td>\n",
       "    </tr>\n",
       "  </tbody>\n",
       "</table>\n",
       "</div>"
      ],
      "text/plain": [
       "      max_ratings  min_rating\n",
       "Type                         \n",
       "Free          5.0         1.0\n",
       "Paid          4.8         2.9"
      ]
     },
     "execution_count": 9,
     "metadata": {
      "tags": []
     },
     "output_type": "execute_result"
    }
   ],
   "source": [
    "# Task 9a\n",
    "\n",
    "# Show the following table\n",
    "\n",
    "                      # <- complete this one (can be mulitple lines)"
   ]
  },
  {
   "cell_type": "code",
   "execution_count": null,
   "metadata": {
    "colab": {
     "base_uri": "https://localhost:8080/",
     "height": 307
    },
    "executionInfo": {
     "elapsed": 1559,
     "status": "ok",
     "timestamp": 1620177383189,
     "user": {
      "displayName": "ISOM3400 Instructor Google Class",
      "photoUrl": "",
      "userId": "10963748770099369781"
     },
     "user_tz": -480
    },
    "id": "4LCXmhnrkxF1",
    "outputId": "498307da-2a78-4c62-96c6-7cbcc10bb717"
   },
   "outputs": [
    {
     "data": {
      "text/plain": [
       "<matplotlib.axes._subplots.AxesSubplot at 0x7fd1b2246050>"
      ]
     },
     "execution_count": 10,
     "metadata": {
      "tags": []
     },
     "output_type": "execute_result"
    },
    {
     "data": {
      "image/png": "[encoded data removed]",
      "text/plain": [
       "<Figure size 432x288 with 1 Axes>"
      ]
     },
     "metadata": {
      "needs_background": "light",
      "tags": []
     },
     "output_type": "display_data"
    }
   ],
   "source": [
    "# Task 9b\n",
    "\n",
    "# Show the following table in a bar chart\n",
    "\n",
    "\n",
    "               # <- complete this one (can be mulitple lines)"
   ]
  },
  {
   "cell_type": "code",
   "execution_count": null,
   "metadata": {
    "colab": {
     "base_uri": "https://localhost:8080/",
     "height": 139
    },
    "executionInfo": {
     "elapsed": 1555,
     "status": "ok",
     "timestamp": 1620177383190,
     "user": {
      "displayName": "ISOM3400 Instructor Google Class",
      "photoUrl": "",
      "userId": "10963748770099369781"
     },
     "user_tz": -480
    },
    "id": "DTbd6L5ipeJ5",
    "outputId": "3776877b-b14c-464d-b183-7bddbba818c4"
   },
   "outputs": [
    {
     "data": {
      "text/html": [
       "<div>\n",
       "<style scoped>\n",
       "    .dataframe tbody tr th:only-of-type {\n",
       "        vertical-align: middle;\n",
       "    }\n",
       "\n",
       "    .dataframe tbody tr th {\n",
       "        vertical-align: top;\n",
       "    }\n",
       "\n",
       "    .dataframe thead th {\n",
       "        text-align: right;\n",
       "    }\n",
       "</style>\n",
       "<table border=\"1\" class=\"dataframe\">\n",
       "  <thead>\n",
       "    <tr style=\"text-align: right;\">\n",
       "      <th></th>\n",
       "      <th>max_ratings</th>\n",
       "      <th>min_rating</th>\n",
       "    </tr>\n",
       "    <tr>\n",
       "      <th>Type</th>\n",
       "      <th></th>\n",
       "      <th></th>\n",
       "    </tr>\n",
       "  </thead>\n",
       "  <tbody>\n",
       "    <tr>\n",
       "      <th>Free</th>\n",
       "      <td>4.9</td>\n",
       "      <td>3.5</td>\n",
       "    </tr>\n",
       "    <tr>\n",
       "      <th>Paid</th>\n",
       "      <td>4.9</td>\n",
       "      <td>4.7</td>\n",
       "    </tr>\n",
       "  </tbody>\n",
       "</table>\n",
       "</div>"
      ],
      "text/plain": [
       "      max_ratings  min_rating\n",
       "Type                         \n",
       "Free          4.9         3.5\n",
       "Paid          4.9         4.7"
      ]
     },
     "execution_count": 11,
     "metadata": {
      "tags": []
     },
     "output_type": "execute_result"
    }
   ],
   "source": [
    "# Task 10a\n",
    "\n",
    "# Show the following table\n",
    "\n",
    "                        # <- complete this one (can be mulitple lines)"
   ]
  },
  {
   "cell_type": "code",
   "execution_count": null,
   "metadata": {
    "colab": {
     "base_uri": "https://localhost:8080/",
     "height": 307
    },
    "executionInfo": {
     "elapsed": 1982,
     "status": "ok",
     "timestamp": 1620177383621,
     "user": {
      "displayName": "ISOM3400 Instructor Google Class",
      "photoUrl": "",
      "userId": "10963748770099369781"
     },
     "user_tz": -480
    },
    "id": "T4Vng8AVn8wG",
    "outputId": "ec978fc6-10f8-4422-df14-66a3b5065b94"
   },
   "outputs": [
    {
     "data": {
      "text/plain": [
       "<matplotlib.axes._subplots.AxesSubplot at 0x7fd1b2246a90>"
      ]
     },
     "execution_count": 12,
     "metadata": {
      "tags": []
     },
     "output_type": "execute_result"
    },
    {
     "data": {
      "image/png": "[encoded data removed]",
      "text/plain": [
       "<Figure size 432x288 with 1 Axes>"
      ]
     },
     "metadata": {
      "needs_background": "light",
      "tags": []
     },
     "output_type": "display_data"
    }
   ],
   "source": [
    "# Task 10a\n",
    "\n",
    "# Show the following table in a line chart\n",
    "\n",
    "\n",
    "             # <- complete this one (can be mulitple lines)"
   ]
  }
 ],
 "metadata": {
  "colab": {
   "collapsed_sections": [],
   "name": "Ex3_Q3.ipynb",
   "provenance": []
  },
  "kernelspec": {
   "display_name": "Python 3",
   "language": "python",
   "name": "python3"
  },
  "language_info": {
   "codemirror_mode": {
    "name": "ipython",
    "version": 3
   },
   "file_extension": ".py",
   "mimetype": "text/x-python",
   "name": "python",
   "nbconvert_exporter": "python",
   "pygments_lexer": "ipython3",
   "version": "3.8.3"
  }
 },
 "nbformat": 4,
 "nbformat_minor": 1
}
