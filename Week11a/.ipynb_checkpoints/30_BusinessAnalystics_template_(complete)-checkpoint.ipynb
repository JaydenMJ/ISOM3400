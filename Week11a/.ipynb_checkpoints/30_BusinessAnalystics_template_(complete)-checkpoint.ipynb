{
 "cells": [
  {
   "cell_type": "markdown",
   "metadata": {
    "id": "lioXXXPRvOV1"
   },
   "source": [
    "**Business Analytics - Data Exploration and Visualization**"
   ]
  },
  {
   "cell_type": "markdown",
   "metadata": {
    "id": "KQe64rmMEkwS"
   },
   "source": [
    "**1. Basic Operations**"
   ]
  },
  {
   "cell_type": "code",
   "execution_count": null,
   "metadata": {
    "id": "oKfytdaxwRbu"
   },
   "outputs": [],
   "source": [
    "# Load data from csv file"
   ]
  },
  {
   "cell_type": "code",
   "execution_count": null,
   "metadata": {
    "id": "6rG-l4Dr5J-R"
   },
   "outputs": [],
   "source": [
    "import pandas as pd\n",
    "import dateutil\n",
    "# Load data from csv file\n",
    "data = pd.read_csv('Data/phone_data.csv')"
   ]
  },
  {
   "cell_type": "code",
   "execution_count": null,
   "metadata": {
    "colab": {
     "base_uri": "https://localhost:8080/",
     "height": 199
    },
    "executionInfo": {
     "elapsed": 724,
     "status": "ok",
     "timestamp": 1619754562894,
     "user": {
      "displayName": "ISOM3400 Instructor Google Class",
      "photoUrl": "",
      "userId": "10963748770099369781"
     },
     "user_tz": -480
    },
    "id": "FgUon1Fx5RjB",
    "outputId": "51ec1b7b-8803-40ee-b61b-9009778a3d70"
   },
   "outputs": [
    {
     "data": {
      "text/html": [
       "<div>\n",
       "<style scoped>\n",
       "    .dataframe tbody tr th:only-of-type {\n",
       "        vertical-align: middle;\n",
       "    }\n",
       "\n",
       "    .dataframe tbody tr th {\n",
       "        vertical-align: top;\n",
       "    }\n",
       "\n",
       "    .dataframe thead th {\n",
       "        text-align: right;\n",
       "    }\n",
       "</style>\n",
       "<table border=\"1\" class=\"dataframe\">\n",
       "  <thead>\n",
       "    <tr style=\"text-align: right;\">\n",
       "      <th></th>\n",
       "      <th>index</th>\n",
       "      <th>date</th>\n",
       "      <th>duration</th>\n",
       "      <th>item</th>\n",
       "      <th>month</th>\n",
       "      <th>network</th>\n",
       "      <th>network_type</th>\n",
       "    </tr>\n",
       "  </thead>\n",
       "  <tbody>\n",
       "    <tr>\n",
       "      <th>0</th>\n",
       "      <td>0</td>\n",
       "      <td>15/10/14 06:58</td>\n",
       "      <td>34.429</td>\n",
       "      <td>data</td>\n",
       "      <td>2014-11</td>\n",
       "      <td>data</td>\n",
       "      <td>data</td>\n",
       "    </tr>\n",
       "    <tr>\n",
       "      <th>1</th>\n",
       "      <td>1</td>\n",
       "      <td>15/10/14 06:58</td>\n",
       "      <td>13.000</td>\n",
       "      <td>call</td>\n",
       "      <td>2014-11</td>\n",
       "      <td>Vodafone</td>\n",
       "      <td>mobile</td>\n",
       "    </tr>\n",
       "    <tr>\n",
       "      <th>2</th>\n",
       "      <td>2</td>\n",
       "      <td>15/10/14 14:46</td>\n",
       "      <td>23.000</td>\n",
       "      <td>call</td>\n",
       "      <td>2014-11</td>\n",
       "      <td>Meteor</td>\n",
       "      <td>mobile</td>\n",
       "    </tr>\n",
       "    <tr>\n",
       "      <th>3</th>\n",
       "      <td>3</td>\n",
       "      <td>15/10/14 14:48</td>\n",
       "      <td>4.000</td>\n",
       "      <td>call</td>\n",
       "      <td>2014-11</td>\n",
       "      <td>Tesco</td>\n",
       "      <td>mobile</td>\n",
       "    </tr>\n",
       "    <tr>\n",
       "      <th>4</th>\n",
       "      <td>4</td>\n",
       "      <td>15/10/14 17:27</td>\n",
       "      <td>4.000</td>\n",
       "      <td>call</td>\n",
       "      <td>2014-11</td>\n",
       "      <td>Tesco</td>\n",
       "      <td>mobile</td>\n",
       "    </tr>\n",
       "  </tbody>\n",
       "</table>\n",
       "</div>"
      ],
      "text/plain": [
       "   index            date  duration  item    month   network network_type\n",
       "0      0  15/10/14 06:58    34.429  data  2014-11      data         data\n",
       "1      1  15/10/14 06:58    13.000  call  2014-11  Vodafone       mobile\n",
       "2      2  15/10/14 14:46    23.000  call  2014-11    Meteor       mobile\n",
       "3      3  15/10/14 14:48     4.000  call  2014-11     Tesco       mobile\n",
       "4      4  15/10/14 17:27     4.000  call  2014-11     Tesco       mobile"
      ]
     },
     "execution_count": 3,
     "metadata": {
      "tags": []
     },
     "output_type": "execute_result"
    }
   ],
   "source": [
    "data.head()"
   ]
  },
  {
   "cell_type": "code",
   "execution_count": null,
   "metadata": {
    "colab": {
     "base_uri": "https://localhost:8080/",
     "height": 199
    },
    "executionInfo": {
     "elapsed": 663,
     "status": "ok",
     "timestamp": 1619754570943,
     "user": {
      "displayName": "ISOM3400 Instructor Google Class",
      "photoUrl": "",
      "userId": "10963748770099369781"
     },
     "user_tz": -480
    },
    "id": "TulF4DJm5UvN",
    "outputId": "884b679e-eb05-4ac6-9625-cebfe3969b0c"
   },
   "outputs": [
    {
     "data": {
      "text/html": [
       "<div>\n",
       "<style scoped>\n",
       "    .dataframe tbody tr th:only-of-type {\n",
       "        vertical-align: middle;\n",
       "    }\n",
       "\n",
       "    .dataframe tbody tr th {\n",
       "        vertical-align: top;\n",
       "    }\n",
       "\n",
       "    .dataframe thead th {\n",
       "        text-align: right;\n",
       "    }\n",
       "</style>\n",
       "<table border=\"1\" class=\"dataframe\">\n",
       "  <thead>\n",
       "    <tr style=\"text-align: right;\">\n",
       "      <th></th>\n",
       "      <th>index</th>\n",
       "      <th>date</th>\n",
       "      <th>duration</th>\n",
       "      <th>item</th>\n",
       "      <th>month</th>\n",
       "      <th>network</th>\n",
       "      <th>network_type</th>\n",
       "    </tr>\n",
       "  </thead>\n",
       "  <tbody>\n",
       "    <tr>\n",
       "      <th>825</th>\n",
       "      <td>825</td>\n",
       "      <td>13/03/15 00:38</td>\n",
       "      <td>1.000</td>\n",
       "      <td>sms</td>\n",
       "      <td>2015-03</td>\n",
       "      <td>world</td>\n",
       "      <td>world</td>\n",
       "    </tr>\n",
       "    <tr>\n",
       "      <th>826</th>\n",
       "      <td>826</td>\n",
       "      <td>13/03/15 00:39</td>\n",
       "      <td>1.000</td>\n",
       "      <td>sms</td>\n",
       "      <td>2015-03</td>\n",
       "      <td>Vodafone</td>\n",
       "      <td>mobile</td>\n",
       "    </tr>\n",
       "    <tr>\n",
       "      <th>827</th>\n",
       "      <td>827</td>\n",
       "      <td>13/03/15 06:58</td>\n",
       "      <td>34.429</td>\n",
       "      <td>data</td>\n",
       "      <td>2015-03</td>\n",
       "      <td>data</td>\n",
       "      <td>data</td>\n",
       "    </tr>\n",
       "    <tr>\n",
       "      <th>828</th>\n",
       "      <td>828</td>\n",
       "      <td>14/03/15 00:13</td>\n",
       "      <td>1.000</td>\n",
       "      <td>sms</td>\n",
       "      <td>2015-03</td>\n",
       "      <td>world</td>\n",
       "      <td>world</td>\n",
       "    </tr>\n",
       "    <tr>\n",
       "      <th>829</th>\n",
       "      <td>829</td>\n",
       "      <td>14/03/15 00:16</td>\n",
       "      <td>1.000</td>\n",
       "      <td>sms</td>\n",
       "      <td>2015-03</td>\n",
       "      <td>world</td>\n",
       "      <td>world</td>\n",
       "    </tr>\n",
       "  </tbody>\n",
       "</table>\n",
       "</div>"
      ],
      "text/plain": [
       "     index            date  duration  item    month   network network_type\n",
       "825    825  13/03/15 00:38     1.000   sms  2015-03     world        world\n",
       "826    826  13/03/15 00:39     1.000   sms  2015-03  Vodafone       mobile\n",
       "827    827  13/03/15 06:58    34.429  data  2015-03      data         data\n",
       "828    828  14/03/15 00:13     1.000   sms  2015-03     world        world\n",
       "829    829  14/03/15 00:16     1.000   sms  2015-03     world        world"
      ]
     },
     "execution_count": 4,
     "metadata": {
      "tags": []
     },
     "output_type": "execute_result"
    }
   ],
   "source": [
    "data.tail()"
   ]
  },
  {
   "cell_type": "code",
   "execution_count": null,
   "metadata": {
    "id": "fVmzU1Y3wWkt"
   },
   "outputs": [],
   "source": [
    "# Convert date from string to date times"
   ]
  },
  {
   "cell_type": "code",
   "execution_count": null,
   "metadata": {
    "id": "GZ0lLjaR5XLZ"
   },
   "outputs": [],
   "source": [
    "# Convert date from string to date times\n",
    "data['date'] = data['date'].apply(dateutil.parser.parse, dayfirst=True)"
   ]
  },
  {
   "cell_type": "code",
   "execution_count": null,
   "metadata": {
    "id": "hO120A8uwQBL"
   },
   "outputs": [],
   "source": [
    "# How many rows are in the dataset"
   ]
  },
  {
   "cell_type": "code",
   "execution_count": null,
   "metadata": {
    "colab": {
     "base_uri": "https://localhost:8080/"
    },
    "executionInfo": {
     "elapsed": 638,
     "status": "ok",
     "timestamp": 1619754714456,
     "user": {
      "displayName": "ISOM3400 Instructor Google Class",
      "photoUrl": "",
      "userId": "10963748770099369781"
     },
     "user_tz": -480
    },
    "id": "j3cZzKl153uy",
    "outputId": "a3758119-a751-48e2-c066-e1ab98b72b7e"
   },
   "outputs": [
    {
     "data": {
      "text/plain": [
       "0      data\n",
       "1      call\n",
       "2      call\n",
       "3      call\n",
       "4      call\n",
       "       ... \n",
       "825     sms\n",
       "826     sms\n",
       "827    data\n",
       "828     sms\n",
       "829     sms\n",
       "Name: item, Length: 830, dtype: object"
      ]
     },
     "execution_count": 10,
     "metadata": {
      "tags": []
     },
     "output_type": "execute_result"
    }
   ],
   "source": [
    "data['item']"
   ]
  },
  {
   "cell_type": "code",
   "execution_count": null,
   "metadata": {
    "colab": {
     "base_uri": "https://localhost:8080/"
    },
    "executionInfo": {
     "elapsed": 651,
     "status": "ok",
     "timestamp": 1619754725050,
     "user": {
      "displayName": "ISOM3400 Instructor Google Class",
      "photoUrl": "",
      "userId": "10963748770099369781"
     },
     "user_tz": -480
    },
    "id": "1E34LRSs56Rh",
    "outputId": "d22b40b4-7887-4641-9e82-e2414cff04e6"
   },
   "outputs": [
    {
     "data": {
      "text/plain": [
       "830"
      ]
     },
     "execution_count": 11,
     "metadata": {
      "tags": []
     },
     "output_type": "execute_result"
    }
   ],
   "source": [
    "data['item'].count()"
   ]
  },
  {
   "cell_type": "code",
   "execution_count": null,
   "metadata": {
    "colab": {
     "base_uri": "https://localhost:8080/"
    },
    "executionInfo": {
     "elapsed": 628,
     "status": "ok",
     "timestamp": 1619754764005,
     "user": {
      "displayName": "ISOM3400 Instructor Google Class",
      "photoUrl": "",
      "userId": "10963748770099369781"
     },
     "user_tz": -480
    },
    "id": "3d57IhiD6DGi",
    "outputId": "8bd05ce8-0ba9-44c1-f1eb-34773d7ea84d"
   },
   "outputs": [
    {
     "name": "stdout",
     "output_type": "stream",
     "text": [
      "830\n"
     ]
    }
   ],
   "source": [
    "# How many rows are in the dataset\n",
    "print(data['item'].count())"
   ]
  },
  {
   "cell_type": "code",
   "execution_count": null,
   "metadata": {
    "id": "gc4AW_0vwZOl"
   },
   "outputs": [],
   "source": [
    "# What was the longest phone call / data entry?"
   ]
  },
  {
   "cell_type": "code",
   "execution_count": null,
   "metadata": {
    "colab": {
     "base_uri": "https://localhost:8080/"
    },
    "executionInfo": {
     "elapsed": 671,
     "status": "ok",
     "timestamp": 1619754789711,
     "user": {
      "displayName": "ISOM3400 Instructor Google Class",
      "photoUrl": "",
      "userId": "10963748770099369781"
     },
     "user_tz": -480
    },
    "id": "-gOa4FXt6Ili",
    "outputId": "46500cee-48c6-48bd-dae3-36d7e663d8ea"
   },
   "outputs": [
    {
     "name": "stdout",
     "output_type": "stream",
     "text": [
      "10528.0\n"
     ]
    }
   ],
   "source": [
    "# What was the longest phone call / data entry?\n",
    "print(data['duration'].max())"
   ]
  },
  {
   "cell_type": "code",
   "execution_count": null,
   "metadata": {
    "id": "dBgtk2J362hq"
   },
   "outputs": [],
   "source": [
    "# How many sms in total?"
   ]
  },
  {
   "cell_type": "code",
   "execution_count": null,
   "metadata": {
    "colab": {
     "base_uri": "https://localhost:8080/"
    },
    "executionInfo": {
     "elapsed": 673,
     "status": "ok",
     "timestamp": 1619754983009,
     "user": {
      "displayName": "ISOM3400 Instructor Google Class",
      "photoUrl": "",
      "userId": "10963748770099369781"
     },
     "user_tz": -480
    },
    "id": "lSaJfsT_65Pc",
    "outputId": "16105f4b-4d29-4932-95ae-769d037ae8af"
   },
   "outputs": [
    {
     "data": {
      "text/plain": [
       "index           292\n",
       "date            292\n",
       "duration        292\n",
       "item            292\n",
       "month           292\n",
       "network         292\n",
       "network_type    292\n",
       "dtype: int64"
      ]
     },
     "execution_count": 14,
     "metadata": {
      "tags": []
     },
     "output_type": "execute_result"
    }
   ],
   "source": [
    "data[data['item']=='sms'].count()"
   ]
  },
  {
   "cell_type": "code",
   "execution_count": null,
   "metadata": {
    "colab": {
     "base_uri": "https://localhost:8080/"
    },
    "executionInfo": {
     "elapsed": 639,
     "status": "ok",
     "timestamp": 1619755182508,
     "user": {
      "displayName": "ISOM3400 Instructor Google Class",
      "photoUrl": "",
      "userId": "10963748770099369781"
     },
     "user_tz": -480
    },
    "id": "YaDq73wf7qGC",
    "outputId": "06961503-7965-463c-9f74-1a63267b2f1c"
   },
   "outputs": [
    {
     "data": {
      "text/plain": [
       "10528.0"
      ]
     },
     "execution_count": 19,
     "metadata": {
      "tags": []
     },
     "output_type": "execute_result"
    }
   ],
   "source": [
    "data[data['item']=='call']['duration'].max()"
   ]
  },
  {
   "cell_type": "code",
   "execution_count": null,
   "metadata": {
    "colab": {
     "base_uri": "https://localhost:8080/"
    },
    "executionInfo": {
     "elapsed": 656,
     "status": "ok",
     "timestamp": 1619755198077,
     "user": {
      "displayName": "ISOM3400 Instructor Google Class",
      "photoUrl": "",
      "userId": "10963748770099369781"
     },
     "user_tz": -480
    },
    "id": "07HIP0HY7ty7",
    "outputId": "d2ed624b-198b-4efd-fdbc-cc5d2e82bc8d"
   },
   "outputs": [
    {
     "name": "stdout",
     "output_type": "stream",
     "text": [
      "Total (second) for Call = 92321.0\n",
      "Total (s) for sms = 292.0\n",
      "Total (s) for data = 5164.35\n"
     ]
    }
   ],
   "source": [
    "print(\"Total (second) for Call = {}\".format(data[data['item']=='call']['duration'].sum()))\n",
    "print(\"Total (s) for sms = {}\".format(data[data['item']=='sms']['duration'].sum()))\n",
    "print(\"Total (s) for data = {}\".format(data[data['item']=='data']['duration'].sum()))"
   ]
  },
  {
   "cell_type": "code",
   "execution_count": null,
   "metadata": {
    "colab": {
     "base_uri": "https://localhost:8080/"
    },
    "executionInfo": {
     "elapsed": 650,
     "status": "ok",
     "timestamp": 1619755234090,
     "user": {
      "displayName": "ISOM3400 Instructor Google Class",
      "photoUrl": "",
      "userId": "10963748770099369781"
     },
     "user_tz": -480
    },
    "id": "Xd2GOy0x72f7",
    "outputId": "eaf28568-1203-4797-8c4c-118ea078f3e9"
   },
   "outputs": [
    {
     "name": "stdout",
     "output_type": "stream",
     "text": [
      "34.429\n"
     ]
    }
   ],
   "source": [
    "print(data[data['item']=='data']['duration'].max())"
   ]
  },
  {
   "cell_type": "code",
   "execution_count": null,
   "metadata": {
    "id": "CplCGzgpweqd"
   },
   "outputs": [],
   "source": [
    "# How many seconds of phone calls are recorded in total?"
   ]
  },
  {
   "cell_type": "code",
   "execution_count": null,
   "metadata": {
    "colab": {
     "base_uri": "https://localhost:8080/"
    },
    "executionInfo": {
     "elapsed": 675,
     "status": "ok",
     "timestamp": 1619755246397,
     "user": {
      "displayName": "ISOM3400 Instructor Google Class",
      "photoUrl": "",
      "userId": "10963748770099369781"
     },
     "user_tz": -480
    },
    "id": "1X1S_nkm75k8",
    "outputId": "e075376c-8b8a-4b61-9a99-183c6f9676bc"
   },
   "outputs": [
    {
     "name": "stdout",
     "output_type": "stream",
     "text": [
      "92321.0\n"
     ]
    }
   ],
   "source": [
    "# How many seconds of phone calls are recorded in total?\n",
    "print(data['duration'][data['item'] == 'call'].sum())"
   ]
  },
  {
   "cell_type": "code",
   "execution_count": null,
   "metadata": {
    "id": "9gkIxlkwwgSG"
   },
   "outputs": [],
   "source": [
    "# How many entries are there for each month?"
   ]
  },
  {
   "cell_type": "code",
   "execution_count": null,
   "metadata": {
    "colab": {
     "base_uri": "https://localhost:8080/"
    },
    "executionInfo": {
     "elapsed": 631,
     "status": "ok",
     "timestamp": 1619755260500,
     "user": {
      "displayName": "ISOM3400 Instructor Google Class",
      "photoUrl": "",
      "userId": "10963748770099369781"
     },
     "user_tz": -480
    },
    "id": "ot36teTk79Fa",
    "outputId": "d4dab81c-2a58-46f5-d1ba-7fad479d14e0"
   },
   "outputs": [
    {
     "name": "stdout",
     "output_type": "stream",
     "text": [
      "2014-11    230\n",
      "2015-01    205\n",
      "2014-12    157\n",
      "2015-02    137\n",
      "2015-03    101\n",
      "Name: month, dtype: int64\n"
     ]
    }
   ],
   "source": [
    "# How many entries are there for each month?\n",
    "print(data['month'].value_counts())"
   ]
  },
  {
   "cell_type": "code",
   "execution_count": null,
   "metadata": {
    "id": "v7VWNghtwh4l"
   },
   "outputs": [],
   "source": [
    "# Number of non-null unique (or different) network entries"
   ]
  },
  {
   "cell_type": "code",
   "execution_count": null,
   "metadata": {
    "colab": {
     "base_uri": "https://localhost:8080/"
    },
    "executionInfo": {
     "elapsed": 643,
     "status": "ok",
     "timestamp": 1619755361624,
     "user": {
      "displayName": "ISOM3400 Instructor Google Class",
      "photoUrl": "",
      "userId": "10963748770099369781"
     },
     "user_tz": -480
    },
    "id": "lC4PfzeH8VqE",
    "outputId": "1e3f2bcb-99d9-4a0d-a025-e8448254f5d9"
   },
   "outputs": [
    {
     "name": "stdout",
     "output_type": "stream",
     "text": [
      "9\n"
     ]
    }
   ],
   "source": [
    "# Number of non-null unique (or different) network entries\n",
    "print(data['network'].nunique())"
   ]
  },
  {
   "cell_type": "markdown",
   "metadata": {
    "id": "gHhMwWMvxIq0"
   },
   "source": [
    "**2. Data Exploration and Visualization using Groupby**\n",
    "\n",
    "\n",
    "\n"
   ]
  },
  {
   "cell_type": "code",
   "execution_count": null,
   "metadata": {
    "id": "VERDqxYvxQKV"
   },
   "outputs": [],
   "source": [
    "# Group data by month"
   ]
  },
  {
   "cell_type": "code",
   "execution_count": null,
   "metadata": {
    "colab": {
     "base_uri": "https://localhost:8080/"
    },
    "executionInfo": {
     "elapsed": 687,
     "status": "ok",
     "timestamp": 1619755485186,
     "user": {
      "displayName": "ISOM3400 Instructor Google Class",
      "photoUrl": "",
      "userId": "10963748770099369781"
     },
     "user_tz": -480
    },
    "id": "GNOu-H038xu7",
    "outputId": "9d6dad0e-4b30-490a-f761-07760cadafa2"
   },
   "outputs": [
    {
     "data": {
      "text/plain": [
       "{'2014-11': [0, 1, 2, 3, 4, 5, 6, 7, 8, 9, 10, 11, 12, 13, 14, 15, 16, 17, 18, 19, 20, 21, 22, 23, 24, 25, 26, 27, 28, 29, 30, 31, 32, 33, 34, 35, 36, 37, 38, 39, 40, 41, 42, 43, 44, 45, 46, 47, 48, 49, 50, 51, 52, 53, 54, 55, 56, 57, 58, 59, 60, 61, 62, 63, 64, 65, 66, 67, 68, 69, 70, 71, 72, 73, 74, 75, 76, 77, 78, 79, 80, 81, 82, 83, 84, 85, 86, 87, 88, 89, 90, 91, 92, 93, 94, 95, 96, 97, 98, 99, ...], '2014-12': [228, 231, 232, 233, 234, 235, 236, 237, 238, 239, 240, 241, 242, 243, 244, 245, 246, 247, 248, 249, 250, 251, 252, 253, 254, 255, 256, 257, 258, 259, 260, 261, 262, 263, 264, 265, 266, 267, 268, 269, 270, 271, 272, 273, 274, 275, 276, 277, 278, 279, 280, 281, 282, 283, 284, 285, 286, 287, 288, 289, 290, 291, 292, 293, 294, 295, 296, 297, 298, 299, 300, 301, 302, 303, 304, 305, 306, 307, 308, 309, 310, 311, 312, 313, 314, 315, 316, 317, 318, 319, 320, 321, 322, 323, 324, 325, 326, 327, 328, 329, ...], '2015-01': [381, 386, 389, 390, 391, 392, 393, 394, 395, 396, 397, 398, 399, 400, 401, 402, 403, 404, 405, 406, 407, 408, 409, 410, 411, 412, 413, 414, 415, 416, 417, 418, 419, 420, 421, 422, 423, 424, 425, 426, 427, 428, 429, 430, 431, 432, 433, 434, 435, 436, 437, 438, 439, 440, 441, 442, 443, 444, 445, 446, 447, 448, 449, 450, 451, 452, 453, 454, 455, 456, 457, 458, 459, 460, 461, 462, 463, 464, 465, 466, 467, 468, 469, 470, 471, 472, 473, 474, 475, 476, 477, 478, 479, 480, 481, 482, 483, 484, 485, 486, ...], '2015-02': [577, 586, 594, 595, 596, 597, 598, 599, 600, 601, 602, 603, 604, 605, 606, 607, 608, 609, 610, 611, 612, 613, 614, 615, 616, 617, 618, 619, 620, 621, 622, 623, 624, 625, 626, 627, 628, 629, 630, 631, 632, 633, 634, 635, 636, 637, 638, 639, 640, 641, 642, 643, 644, 645, 646, 647, 648, 649, 650, 651, 652, 653, 654, 655, 656, 657, 658, 659, 660, 661, 662, 663, 664, 665, 666, 667, 668, 669, 670, 671, 672, 673, 674, 675, 676, 677, 678, 679, 680, 681, 682, 683, 684, 685, 686, 687, 688, 689, 690, 691, ...], '2015-03': [729, 730, 731, 732, 733, 734, 735, 736, 737, 738, 739, 740, 741, 742, 743, 744, 745, 746, 747, 748, 749, 750, 751, 752, 753, 754, 755, 756, 757, 758, 759, 760, 761, 762, 763, 764, 765, 766, 767, 768, 769, 770, 771, 772, 773, 774, 775, 776, 777, 778, 779, 780, 781, 782, 783, 784, 785, 786, 787, 788, 789, 790, 791, 792, 793, 794, 795, 796, 797, 798, 799, 800, 801, 802, 803, 804, 805, 806, 807, 808, 809, 810, 811, 812, 813, 814, 815, 816, 817, 818, 819, 820, 821, 822, 823, 824, 825, 826, 827, 828, ...]}"
      ]
     },
     "execution_count": 25,
     "metadata": {
      "tags": []
     },
     "output_type": "execute_result"
    }
   ],
   "source": [
    "data.groupby(['month']).groups"
   ]
  },
  {
   "cell_type": "code",
   "execution_count": null,
   "metadata": {
    "colab": {
     "base_uri": "https://localhost:8080/"
    },
    "executionInfo": {
     "elapsed": 699,
     "status": "ok",
     "timestamp": 1619755501287,
     "user": {
      "displayName": "ISOM3400 Instructor Google Class",
      "photoUrl": "",
      "userId": "10963748770099369781"
     },
     "user_tz": -480
    },
    "id": "JSF6PtxM83nT",
    "outputId": "847095dd-1d7c-43dd-d6ca-ff401de88662"
   },
   "outputs": [
    {
     "data": {
      "text/plain": [
       "pandas.io.formats.printing.PrettyDict"
      ]
     },
     "execution_count": 26,
     "metadata": {
      "tags": []
     },
     "output_type": "execute_result"
    }
   ],
   "source": [
    "type(data.groupby(['month']).groups)"
   ]
  },
  {
   "cell_type": "code",
   "execution_count": null,
   "metadata": {
    "colab": {
     "base_uri": "https://localhost:8080/"
    },
    "executionInfo": {
     "elapsed": 655,
     "status": "ok",
     "timestamp": 1619755512404,
     "user": {
      "displayName": "ISOM3400 Instructor Google Class",
      "photoUrl": "",
      "userId": "10963748770099369781"
     },
     "user_tz": -480
    },
    "id": "Nbl1IlYa86nL",
    "outputId": "ca996085-e137-4e9f-ec3e-fb7962137968"
   },
   "outputs": [
    {
     "data": {
      "text/plain": [
       "dict_keys(['2014-11', '2014-12', '2015-01', '2015-02', '2015-03'])"
      ]
     },
     "execution_count": 27,
     "metadata": {
      "tags": []
     },
     "output_type": "execute_result"
    }
   ],
   "source": [
    "data.groupby(['month']).groups.keys()"
   ]
  },
  {
   "cell_type": "code",
   "execution_count": null,
   "metadata": {
    "colab": {
     "base_uri": "https://localhost:8080/"
    },
    "executionInfo": {
     "elapsed": 641,
     "status": "ok",
     "timestamp": 1619755525473,
     "user": {
      "displayName": "ISOM3400 Instructor Google Class",
      "photoUrl": "",
      "userId": "10963748770099369781"
     },
     "user_tz": -480
    },
    "id": "j4edp9Gy891U",
    "outputId": "7c40f83d-ad4d-48e3-80bb-54c625144879"
   },
   "outputs": [
    {
     "data": {
      "text/plain": [
       "dict_values([Int64Index([  0,   1,   2,   3,   4,   5,   6,   7,   8,   9,\n",
       "            ...\n",
       "            220, 221, 222, 223, 224, 225, 226, 227, 229, 230],\n",
       "           dtype='int64', length=230), Int64Index([228, 231, 232, 233, 234, 235, 236, 237, 238, 239,\n",
       "            ...\n",
       "            377, 378, 379, 380, 382, 383, 384, 385, 387, 388],\n",
       "           dtype='int64', length=157), Int64Index([381, 386, 389, 390, 391, 392, 393, 394, 395, 396,\n",
       "            ...\n",
       "            583, 584, 585, 587, 588, 589, 590, 591, 592, 593],\n",
       "           dtype='int64', length=205), Int64Index([577, 586, 594, 595, 596, 597, 598, 599, 600, 601,\n",
       "            ...\n",
       "            719, 720, 721, 722, 723, 724, 725, 726, 727, 728],\n",
       "           dtype='int64', length=137), Int64Index([729, 730, 731, 732, 733, 734, 735, 736, 737, 738,\n",
       "            ...\n",
       "            820, 821, 822, 823, 824, 825, 826, 827, 828, 829],\n",
       "           dtype='int64', length=101)])"
      ]
     },
     "execution_count": 28,
     "metadata": {
      "tags": []
     },
     "output_type": "execute_result"
    }
   ],
   "source": [
    "data.groupby(['month']).groups.values()"
   ]
  },
  {
   "cell_type": "code",
   "execution_count": null,
   "metadata": {
    "colab": {
     "base_uri": "https://localhost:8080/"
    },
    "executionInfo": {
     "elapsed": 708,
     "status": "ok",
     "timestamp": 1619755552906,
     "user": {
      "displayName": "ISOM3400 Instructor Google Class",
      "photoUrl": "",
      "userId": "10963748770099369781"
     },
     "user_tz": -480
    },
    "id": "YhGKFYTg9EIT",
    "outputId": "fc7b2a10-2600-48a1-a9fa-c6e01ee3fff5"
   },
   "outputs": [
    {
     "name": "stdout",
     "output_type": "stream",
     "text": [
      "2014-11 : Int64Index([  0,   1,   2,   3,   4,   5,   6,   7,   8,   9,\n",
      "            ...\n",
      "            220, 221, 222, 223, 224, 225, 226, 227, 229, 230],\n",
      "           dtype='int64', length=230)\n",
      "2014-12 : Int64Index([228, 231, 232, 233, 234, 235, 236, 237, 238, 239,\n",
      "            ...\n",
      "            377, 378, 379, 380, 382, 383, 384, 385, 387, 388],\n",
      "           dtype='int64', length=157)\n",
      "2015-01 : Int64Index([381, 386, 389, 390, 391, 392, 393, 394, 395, 396,\n",
      "            ...\n",
      "            583, 584, 585, 587, 588, 589, 590, 591, 592, 593],\n",
      "           dtype='int64', length=205)\n",
      "2015-02 : Int64Index([577, 586, 594, 595, 596, 597, 598, 599, 600, 601,\n",
      "            ...\n",
      "            719, 720, 721, 722, 723, 724, 725, 726, 727, 728],\n",
      "           dtype='int64', length=137)\n",
      "2015-03 : Int64Index([729, 730, 731, 732, 733, 734, 735, 736, 737, 738,\n",
      "            ...\n",
      "            820, 821, 822, 823, 824, 825, 826, 827, 828, 829],\n",
      "           dtype='int64', length=101)\n"
     ]
    }
   ],
   "source": [
    "for k, v in data.groupby(['month']).groups.items():\n",
    "  print(\"{} : {}\".format(k, v))"
   ]
  },
  {
   "cell_type": "code",
   "execution_count": null,
   "metadata": {
    "colab": {
     "base_uri": "https://localhost:8080/"
    },
    "executionInfo": {
     "elapsed": 649,
     "status": "ok",
     "timestamp": 1619755569908,
     "user": {
      "displayName": "ISOM3400 Instructor Google Class",
      "photoUrl": "",
      "userId": "10963748770099369781"
     },
     "user_tz": -480
    },
    "id": "jS4LGPGb9Id5",
    "outputId": "1b20911b-2c3a-4885-ec38-a8dff455b7b5"
   },
   "outputs": [
    {
     "name": "stdout",
     "output_type": "stream",
     "text": [
      "2014-11 : Int64Index([  0,   1,   2,   3,   4,   5,   6,   7,   8,   9,\n",
      "            ...\n",
      "            220, 221, 222, 223, 224, 225, 226, 227, 229, 230],\n",
      "           dtype='int64', length=230)\n",
      "2014-12 : Int64Index([228, 231, 232, 233, 234, 235, 236, 237, 238, 239,\n",
      "            ...\n",
      "            377, 378, 379, 380, 382, 383, 384, 385, 387, 388],\n",
      "           dtype='int64', length=157)\n",
      "2015-01 : Int64Index([381, 386, 389, 390, 391, 392, 393, 394, 395, 396,\n",
      "            ...\n",
      "            583, 584, 585, 587, 588, 589, 590, 591, 592, 593],\n",
      "           dtype='int64', length=205)\n",
      "2015-02 : Int64Index([577, 586, 594, 595, 596, 597, 598, 599, 600, 601,\n",
      "            ...\n",
      "            719, 720, 721, 722, 723, 724, 725, 726, 727, 728],\n",
      "           dtype='int64', length=137)\n",
      "2015-03 : Int64Index([729, 730, 731, 732, 733, 734, 735, 736, 737, 738,\n",
      "            ...\n",
      "            820, 821, 822, 823, 824, 825, 826, 827, 828, 829],\n",
      "           dtype='int64', length=101)\n"
     ]
    }
   ],
   "source": [
    "for k in data.groupby(['month']).groups:\n",
    "  print(\"{} : {}\".format(k, data.groupby(['month']).groups[k]))"
   ]
  },
  {
   "cell_type": "code",
   "execution_count": null,
   "metadata": {
    "colab": {
     "base_uri": "https://localhost:8080/"
    },
    "executionInfo": {
     "elapsed": 669,
     "status": "ok",
     "timestamp": 1619755619168,
     "user": {
      "displayName": "ISOM3400 Instructor Google Class",
      "photoUrl": "",
      "userId": "10963748770099369781"
     },
     "user_tz": -480
    },
    "id": "5bjUULZo9Twy",
    "outputId": "d3dddc67-573c-4df9-c417-7efedd7f84f4"
   },
   "outputs": [
    {
     "data": {
      "text/plain": [
       "230"
      ]
     },
     "execution_count": 31,
     "metadata": {
      "tags": []
     },
     "output_type": "execute_result"
    }
   ],
   "source": [
    "# How many data entry in the group of '2014-11'\n",
    "len(data.groupby(['month']).groups['2014-11'])"
   ]
  },
  {
   "cell_type": "code",
   "execution_count": null,
   "metadata": {
    "colab": {
     "base_uri": "https://localhost:8080/"
    },
    "executionInfo": {
     "elapsed": 656,
     "status": "ok",
     "timestamp": 1619755633008,
     "user": {
      "displayName": "ISOM3400 Instructor Google Class",
      "photoUrl": "",
      "userId": "10963748770099369781"
     },
     "user_tz": -480
    },
    "id": "l7ke8Rq29XND",
    "outputId": "599e1afe-aedb-4c41-b340-2da3d82126e0"
   },
   "outputs": [
    {
     "data": {
      "text/plain": [
       "Int64Index([  0,   1,   2,   3,   4,   5,   6,   7,   8,   9,\n",
       "            ...\n",
       "            220, 221, 222, 223, 224, 225, 226, 227, 229, 230],\n",
       "           dtype='int64', length=230)"
      ]
     },
     "execution_count": 32,
     "metadata": {
      "tags": []
     },
     "output_type": "execute_result"
    }
   ],
   "source": [
    "data.groupby(['month']).groups['2014-11']"
   ]
  },
  {
   "cell_type": "code",
   "execution_count": null,
   "metadata": {
    "id": "-RjbV61AxYPe"
   },
   "outputs": [],
   "source": [
    "# Get the first entry for each month"
   ]
  },
  {
   "cell_type": "code",
   "execution_count": null,
   "metadata": {
    "colab": {
     "base_uri": "https://localhost:8080/",
     "height": 230
    },
    "executionInfo": {
     "elapsed": 702,
     "status": "ok",
     "timestamp": 1619755733801,
     "user": {
      "displayName": "ISOM3400 Instructor Google Class",
      "photoUrl": "",
      "userId": "10963748770099369781"
     },
     "user_tz": -480
    },
    "id": "VlghWtiD9vzy",
    "outputId": "fd72f4f2-f01a-46a4-dc29-43e7fd5d3728"
   },
   "outputs": [
    {
     "data": {
      "text/html": [
       "<div>\n",
       "<style scoped>\n",
       "    .dataframe tbody tr th:only-of-type {\n",
       "        vertical-align: middle;\n",
       "    }\n",
       "\n",
       "    .dataframe tbody tr th {\n",
       "        vertical-align: top;\n",
       "    }\n",
       "\n",
       "    .dataframe thead th {\n",
       "        text-align: right;\n",
       "    }\n",
       "</style>\n",
       "<table border=\"1\" class=\"dataframe\">\n",
       "  <thead>\n",
       "    <tr style=\"text-align: right;\">\n",
       "      <th></th>\n",
       "      <th>index</th>\n",
       "      <th>date</th>\n",
       "      <th>duration</th>\n",
       "      <th>item</th>\n",
       "      <th>network</th>\n",
       "      <th>network_type</th>\n",
       "    </tr>\n",
       "    <tr>\n",
       "      <th>month</th>\n",
       "      <th></th>\n",
       "      <th></th>\n",
       "      <th></th>\n",
       "      <th></th>\n",
       "      <th></th>\n",
       "      <th></th>\n",
       "    </tr>\n",
       "  </thead>\n",
       "  <tbody>\n",
       "    <tr>\n",
       "      <th>2014-11</th>\n",
       "      <td>0</td>\n",
       "      <td>2014-10-15 06:58:00</td>\n",
       "      <td>34.429</td>\n",
       "      <td>data</td>\n",
       "      <td>data</td>\n",
       "      <td>data</td>\n",
       "    </tr>\n",
       "    <tr>\n",
       "      <th>2014-12</th>\n",
       "      <td>228</td>\n",
       "      <td>2014-11-13 06:58:00</td>\n",
       "      <td>34.429</td>\n",
       "      <td>data</td>\n",
       "      <td>data</td>\n",
       "      <td>data</td>\n",
       "    </tr>\n",
       "    <tr>\n",
       "      <th>2015-01</th>\n",
       "      <td>381</td>\n",
       "      <td>2014-12-13 06:58:00</td>\n",
       "      <td>34.429</td>\n",
       "      <td>data</td>\n",
       "      <td>data</td>\n",
       "      <td>data</td>\n",
       "    </tr>\n",
       "    <tr>\n",
       "      <th>2015-02</th>\n",
       "      <td>577</td>\n",
       "      <td>2015-01-13 06:58:00</td>\n",
       "      <td>34.429</td>\n",
       "      <td>data</td>\n",
       "      <td>data</td>\n",
       "      <td>data</td>\n",
       "    </tr>\n",
       "    <tr>\n",
       "      <th>2015-03</th>\n",
       "      <td>729</td>\n",
       "      <td>2015-02-12 20:15:00</td>\n",
       "      <td>69.000</td>\n",
       "      <td>call</td>\n",
       "      <td>landline</td>\n",
       "      <td>landline</td>\n",
       "    </tr>\n",
       "  </tbody>\n",
       "</table>\n",
       "</div>"
      ],
      "text/plain": [
       "         index                date  duration  item   network network_type\n",
       "month                                                                    \n",
       "2014-11      0 2014-10-15 06:58:00    34.429  data      data         data\n",
       "2014-12    228 2014-11-13 06:58:00    34.429  data      data         data\n",
       "2015-01    381 2014-12-13 06:58:00    34.429  data      data         data\n",
       "2015-02    577 2015-01-13 06:58:00    34.429  data      data         data\n",
       "2015-03    729 2015-02-12 20:15:00    69.000  call  landline     landline"
      ]
     },
     "execution_count": 33,
     "metadata": {
      "tags": []
     },
     "output_type": "execute_result"
    }
   ],
   "source": [
    "data.groupby('month').first()"
   ]
  },
  {
   "cell_type": "code",
   "execution_count": null,
   "metadata": {
    "colab": {
     "base_uri": "https://localhost:8080/"
    },
    "executionInfo": {
     "elapsed": 646,
     "status": "ok",
     "timestamp": 1619755753949,
     "user": {
      "displayName": "ISOM3400 Instructor Google Class",
      "photoUrl": "",
      "userId": "10963748770099369781"
     },
     "user_tz": -480
    },
    "id": "FCClOeqs91jj",
    "outputId": "7238b6bf-c592-4239-fc66-dce43a15556c"
   },
   "outputs": [
    {
     "data": {
      "text/plain": [
       "5"
      ]
     },
     "execution_count": 34,
     "metadata": {
      "tags": []
     },
     "output_type": "execute_result"
    }
   ],
   "source": [
    "len(data.groupby('month').first())"
   ]
  },
  {
   "cell_type": "code",
   "execution_count": null,
   "metadata": {
    "colab": {
     "base_uri": "https://localhost:8080/"
    },
    "executionInfo": {
     "elapsed": 664,
     "status": "ok",
     "timestamp": 1619755764804,
     "user": {
      "displayName": "ISOM3400 Instructor Google Class",
      "photoUrl": "",
      "userId": "10963748770099369781"
     },
     "user_tz": -480
    },
    "id": "ZmCVIcPl92mU",
    "outputId": "1d7dd8ec-ff81-4c8b-f9f5-227e88bbf743"
   },
   "outputs": [
    {
     "data": {
      "text/plain": [
       "index           5\n",
       "date            5\n",
       "duration        5\n",
       "item            5\n",
       "network         5\n",
       "network_type    5\n",
       "dtype: int64"
      ]
     },
     "execution_count": 35,
     "metadata": {
      "tags": []
     },
     "output_type": "execute_result"
    }
   ],
   "source": [
    "data.groupby('month').first().count()"
   ]
  },
  {
   "cell_type": "code",
   "execution_count": null,
   "metadata": {
    "colab": {
     "base_uri": "https://localhost:8080/",
     "height": 440
    },
    "executionInfo": {
     "elapsed": 653,
     "status": "ok",
     "timestamp": 1619755804457,
     "user": {
      "displayName": "ISOM3400 Instructor Google Class",
      "photoUrl": "",
      "userId": "10963748770099369781"
     },
     "user_tz": -480
    },
    "id": "M1FVBKQA-BzM",
    "outputId": "1833916f-4fdc-4e35-db41-cca6c168b83b"
   },
   "outputs": [
    {
     "data": {
      "text/html": [
       "<div>\n",
       "<style scoped>\n",
       "    .dataframe tbody tr th:only-of-type {\n",
       "        vertical-align: middle;\n",
       "    }\n",
       "\n",
       "    .dataframe tbody tr th {\n",
       "        vertical-align: top;\n",
       "    }\n",
       "\n",
       "    .dataframe thead th {\n",
       "        text-align: right;\n",
       "    }\n",
       "</style>\n",
       "<table border=\"1\" class=\"dataframe\">\n",
       "  <thead>\n",
       "    <tr style=\"text-align: right;\">\n",
       "      <th></th>\n",
       "      <th>index</th>\n",
       "      <th>duration</th>\n",
       "      <th>item</th>\n",
       "      <th>month</th>\n",
       "      <th>network</th>\n",
       "      <th>network_type</th>\n",
       "    </tr>\n",
       "    <tr>\n",
       "      <th>date</th>\n",
       "      <th></th>\n",
       "      <th></th>\n",
       "      <th></th>\n",
       "      <th></th>\n",
       "      <th></th>\n",
       "      <th></th>\n",
       "    </tr>\n",
       "  </thead>\n",
       "  <tbody>\n",
       "    <tr>\n",
       "      <th>2014-10-15 06:58:00</th>\n",
       "      <td>0</td>\n",
       "      <td>34.429</td>\n",
       "      <td>data</td>\n",
       "      <td>2014-11</td>\n",
       "      <td>data</td>\n",
       "      <td>data</td>\n",
       "    </tr>\n",
       "    <tr>\n",
       "      <th>2014-10-15 14:46:00</th>\n",
       "      <td>2</td>\n",
       "      <td>23.000</td>\n",
       "      <td>call</td>\n",
       "      <td>2014-11</td>\n",
       "      <td>Meteor</td>\n",
       "      <td>mobile</td>\n",
       "    </tr>\n",
       "    <tr>\n",
       "      <th>2014-10-15 14:48:00</th>\n",
       "      <td>3</td>\n",
       "      <td>4.000</td>\n",
       "      <td>call</td>\n",
       "      <td>2014-11</td>\n",
       "      <td>Tesco</td>\n",
       "      <td>mobile</td>\n",
       "    </tr>\n",
       "    <tr>\n",
       "      <th>2014-10-15 17:27:00</th>\n",
       "      <td>4</td>\n",
       "      <td>4.000</td>\n",
       "      <td>call</td>\n",
       "      <td>2014-11</td>\n",
       "      <td>Tesco</td>\n",
       "      <td>mobile</td>\n",
       "    </tr>\n",
       "    <tr>\n",
       "      <th>2014-10-15 18:55:00</th>\n",
       "      <td>5</td>\n",
       "      <td>4.000</td>\n",
       "      <td>call</td>\n",
       "      <td>2014-11</td>\n",
       "      <td>Tesco</td>\n",
       "      <td>mobile</td>\n",
       "    </tr>\n",
       "    <tr>\n",
       "      <th>...</th>\n",
       "      <td>...</td>\n",
       "      <td>...</td>\n",
       "      <td>...</td>\n",
       "      <td>...</td>\n",
       "      <td>...</td>\n",
       "      <td>...</td>\n",
       "    </tr>\n",
       "    <tr>\n",
       "      <th>2015-03-13 00:38:00</th>\n",
       "      <td>825</td>\n",
       "      <td>1.000</td>\n",
       "      <td>sms</td>\n",
       "      <td>2015-03</td>\n",
       "      <td>world</td>\n",
       "      <td>world</td>\n",
       "    </tr>\n",
       "    <tr>\n",
       "      <th>2015-03-13 00:39:00</th>\n",
       "      <td>826</td>\n",
       "      <td>1.000</td>\n",
       "      <td>sms</td>\n",
       "      <td>2015-03</td>\n",
       "      <td>Vodafone</td>\n",
       "      <td>mobile</td>\n",
       "    </tr>\n",
       "    <tr>\n",
       "      <th>2015-03-13 06:58:00</th>\n",
       "      <td>827</td>\n",
       "      <td>34.429</td>\n",
       "      <td>data</td>\n",
       "      <td>2015-03</td>\n",
       "      <td>data</td>\n",
       "      <td>data</td>\n",
       "    </tr>\n",
       "    <tr>\n",
       "      <th>2015-03-14 00:13:00</th>\n",
       "      <td>828</td>\n",
       "      <td>1.000</td>\n",
       "      <td>sms</td>\n",
       "      <td>2015-03</td>\n",
       "      <td>world</td>\n",
       "      <td>world</td>\n",
       "    </tr>\n",
       "    <tr>\n",
       "      <th>2015-03-14 00:16:00</th>\n",
       "      <td>829</td>\n",
       "      <td>1.000</td>\n",
       "      <td>sms</td>\n",
       "      <td>2015-03</td>\n",
       "      <td>world</td>\n",
       "      <td>world</td>\n",
       "    </tr>\n",
       "  </tbody>\n",
       "</table>\n",
       "<p>747 rows × 6 columns</p>\n",
       "</div>"
      ],
      "text/plain": [
       "                     index  duration  item    month   network network_type\n",
       "date                                                                      \n",
       "2014-10-15 06:58:00      0    34.429  data  2014-11      data         data\n",
       "2014-10-15 14:46:00      2    23.000  call  2014-11    Meteor       mobile\n",
       "2014-10-15 14:48:00      3     4.000  call  2014-11     Tesco       mobile\n",
       "2014-10-15 17:27:00      4     4.000  call  2014-11     Tesco       mobile\n",
       "2014-10-15 18:55:00      5     4.000  call  2014-11     Tesco       mobile\n",
       "...                    ...       ...   ...      ...       ...          ...\n",
       "2015-03-13 00:38:00    825     1.000   sms  2015-03     world        world\n",
       "2015-03-13 00:39:00    826     1.000   sms  2015-03  Vodafone       mobile\n",
       "2015-03-13 06:58:00    827    34.429  data  2015-03      data         data\n",
       "2015-03-14 00:13:00    828     1.000   sms  2015-03     world        world\n",
       "2015-03-14 00:16:00    829     1.000   sms  2015-03     world        world\n",
       "\n",
       "[747 rows x 6 columns]"
      ]
     },
     "execution_count": 37,
     "metadata": {
      "tags": []
     },
     "output_type": "execute_result"
    }
   ],
   "source": [
    "data.groupby('date').first()"
   ]
  },
  {
   "cell_type": "code",
   "execution_count": null,
   "metadata": {
    "colab": {
     "base_uri": "https://localhost:8080/"
    },
    "executionInfo": {
     "elapsed": 625,
     "status": "ok",
     "timestamp": 1619755894637,
     "user": {
      "displayName": "ISOM3400 Instructor Google Class",
      "photoUrl": "",
      "userId": "10963748770099369781"
     },
     "user_tz": -480
    },
    "id": "1WhZ1omA-S8k",
    "outputId": "f097e73d-114c-49e4-834b-f67a7f73308f"
   },
   "outputs": [
    {
     "data": {
      "text/plain": [
       "747"
      ]
     },
     "execution_count": 39,
     "metadata": {
      "tags": []
     },
     "output_type": "execute_result"
    }
   ],
   "source": [
    "len(data.groupby('date').first())"
   ]
  },
  {
   "cell_type": "code",
   "execution_count": null,
   "metadata": {
    "id": "aUcKfMWjxire"
   },
   "outputs": [],
   "source": [
    "# Get the sum of the durations per month"
   ]
  },
  {
   "cell_type": "code",
   "execution_count": null,
   "metadata": {
    "colab": {
     "base_uri": "https://localhost:8080/"
    },
    "executionInfo": {
     "elapsed": 655,
     "status": "ok",
     "timestamp": 1619756468790,
     "user": {
      "displayName": "ISOM3400 Instructor Google Class",
      "photoUrl": "",
      "userId": "10963748770099369781"
     },
     "user_tz": -480
    },
    "id": "YOm9F6a_AkH9",
    "outputId": "e056db7f-efa3-4b3c-9354-4451abb9f9d8"
   },
   "outputs": [
    {
     "data": {
      "text/plain": [
       "month\n",
       "2014-11    26639.441\n",
       "2014-12    14641.870\n",
       "2015-01    18223.299\n",
       "2015-02    15522.299\n",
       "2015-03    22750.441\n",
       "Name: duration, dtype: float64"
      ]
     },
     "execution_count": 54,
     "metadata": {
      "tags": []
     },
     "output_type": "execute_result"
    }
   ],
   "source": [
    "# Get the sum of the durations per month\n",
    "data.groupby('month')['duration'].sum()"
   ]
  },
  {
   "cell_type": "code",
   "execution_count": null,
   "metadata": {
    "id": "75JxvsxLxlM2"
   },
   "outputs": [],
   "source": [
    "# Get the number of dates / entries in each month"
   ]
  },
  {
   "cell_type": "code",
   "execution_count": null,
   "metadata": {
    "colab": {
     "base_uri": "https://localhost:8080/"
    },
    "executionInfo": {
     "elapsed": 828,
     "status": "ok",
     "timestamp": 1619756484978,
     "user": {
      "displayName": "ISOM3400 Instructor Google Class",
      "photoUrl": "",
      "userId": "10963748770099369781"
     },
     "user_tz": -480
    },
    "id": "k9xoog0cAjMJ",
    "outputId": "008e2ff4-6700-46b5-c278-3c63352741e6"
   },
   "outputs": [
    {
     "data": {
      "text/plain": [
       "month\n",
       "2014-11    230\n",
       "2014-12    157\n",
       "2015-01    205\n",
       "2015-02    137\n",
       "2015-03    101\n",
       "Name: date, dtype: int64"
      ]
     },
     "execution_count": 55,
     "metadata": {
      "tags": []
     },
     "output_type": "execute_result"
    }
   ],
   "source": [
    "# Get the number of dates / entries in each month\n",
    "data.groupby('month')['date'].count()"
   ]
  },
  {
   "cell_type": "code",
   "execution_count": null,
   "metadata": {
    "colab": {
     "base_uri": "https://localhost:8080/"
    },
    "executionInfo": {
     "elapsed": 649,
     "status": "ok",
     "timestamp": 1619756516903,
     "user": {
      "displayName": "ISOM3400 Instructor Google Class",
      "photoUrl": "",
      "userId": "10963748770099369781"
     },
     "user_tz": -480
    },
    "id": "EveupC2bAvxm",
    "outputId": "36ab7f0c-0195-4044-e879-8e4c4b37280c"
   },
   "outputs": [
    {
     "data": {
      "text/plain": [
       "network\n",
       "Meteor        7233.00\n",
       "Tesco        13841.00\n",
       "Three        36551.00\n",
       "Vodafone     14770.00\n",
       "data          5164.35\n",
       "landline     18433.00\n",
       "special          3.00\n",
       "voicemail     1775.00\n",
       "world            7.00\n",
       "Name: duration, dtype: float64"
      ]
     },
     "execution_count": 56,
     "metadata": {
      "tags": []
     },
     "output_type": "execute_result"
    }
   ],
   "source": [
    "data.groupby('network')['duration'].sum()"
   ]
  },
  {
   "cell_type": "code",
   "execution_count": null,
   "metadata": {
    "id": "smw9GgMmxsNv"
   },
   "outputs": [],
   "source": [
    "# What is the sum of durations, for calls only, to each network"
   ]
  },
  {
   "cell_type": "code",
   "execution_count": null,
   "metadata": {
    "colab": {
     "base_uri": "https://localhost:8080/"
    },
    "executionInfo": {
     "elapsed": 632,
     "status": "ok",
     "timestamp": 1619756538182,
     "user": {
      "displayName": "ISOM3400 Instructor Google Class",
      "photoUrl": "",
      "userId": "10963748770099369781"
     },
     "user_tz": -480
    },
    "id": "4FZuh4xpA1Dm",
    "outputId": "aef77fd4-4ba9-4b5b-b7a3-17756269f84e"
   },
   "outputs": [
    {
     "data": {
      "text/plain": [
       "network\n",
       "Meteor        7200.0\n",
       "Tesco        13828.0\n",
       "Three        36464.0\n",
       "Vodafone     14621.0\n",
       "landline     18433.0\n",
       "voicemail     1775.0\n",
       "Name: duration, dtype: float64"
      ]
     },
     "execution_count": 57,
     "metadata": {
      "tags": []
     },
     "output_type": "execute_result"
    }
   ],
   "source": [
    "# What is the sum of durations, for calls only, to each network\n",
    "data[data['item'] == 'call'].groupby('network'\n",
    "    )['duration'].sum()"
   ]
  },
  {
   "cell_type": "code",
   "execution_count": null,
   "metadata": {
    "id": "4HkTnpGlxuM2"
   },
   "outputs": [],
   "source": [
    "# What is the sum of durations, for sms only, to each network"
   ]
  },
  {
   "cell_type": "code",
   "execution_count": null,
   "metadata": {
    "colab": {
     "base_uri": "https://localhost:8080/"
    },
    "executionInfo": {
     "elapsed": 637,
     "status": "ok",
     "timestamp": 1619756563630,
     "user": {
      "displayName": "ISOM3400 Instructor Google Class",
      "photoUrl": "",
      "userId": "10963748770099369781"
     },
     "user_tz": -480
    },
    "id": "PPPmRNRJA7KB",
    "outputId": "e734713c-a23b-4da4-d98b-0918eb740d16"
   },
   "outputs": [
    {
     "data": {
      "text/plain": [
       "network\n",
       "Meteor       33.0\n",
       "Tesco        13.0\n",
       "Three        87.0\n",
       "Vodafone    149.0\n",
       "special       3.0\n",
       "world         7.0\n",
       "Name: duration, dtype: float64"
      ]
     },
     "execution_count": 58,
     "metadata": {
      "tags": []
     },
     "output_type": "execute_result"
    }
   ],
   "source": [
    "# What is the sum of durations, for sms only, to each network\n",
    "data[data['item'] == 'sms'].groupby('network'\n",
    "    )['duration'].sum()"
   ]
  },
  {
   "cell_type": "code",
   "execution_count": null,
   "metadata": {
    "id": "nOKoAI-9xwC_"
   },
   "outputs": [],
   "source": [
    "# How many calls, sms, and data entries are in each month?"
   ]
  },
  {
   "cell_type": "code",
   "execution_count": null,
   "metadata": {
    "colab": {
     "base_uri": "https://localhost:8080/"
    },
    "executionInfo": {
     "elapsed": 628,
     "status": "ok",
     "timestamp": 1619756619349,
     "user": {
      "displayName": "ISOM3400 Instructor Google Class",
      "photoUrl": "",
      "userId": "10963748770099369781"
     },
     "user_tz": -480
    },
    "id": "q1w-YMNoBI33",
    "outputId": "6433dcc5-202d-49da-a4be-2bbb537749bb"
   },
   "outputs": [
    {
     "data": {
      "text/plain": [
       "month    item\n",
       "2014-11  call    107\n",
       "         data     29\n",
       "         sms      94\n",
       "2014-12  call     79\n",
       "         data     30\n",
       "         sms      48\n",
       "2015-01  call     88\n",
       "         data     31\n",
       "         sms      86\n",
       "2015-02  call     67\n",
       "         data     31\n",
       "         sms      39\n",
       "2015-03  call     47\n",
       "         data     29\n",
       "         sms      25\n",
       "Name: date, dtype: int64"
      ]
     },
     "execution_count": 60,
     "metadata": {
      "tags": []
     },
     "output_type": "execute_result"
    }
   ],
   "source": [
    "# How many calls, sms, and data entries are in each month?\n",
    "data.groupby(['month', 'item'])['date'].count()"
   ]
  },
  {
   "cell_type": "markdown",
   "metadata": {
    "id": "oaMdAKet2Fig"
   },
   "source": [
    "**3. Groupby Output**"
   ]
  },
  {
   "cell_type": "code",
   "execution_count": null,
   "metadata": {
    "id": "gh7eqR3e2BEQ"
   },
   "outputs": [],
   "source": [
    "# Data types"
   ]
  },
  {
   "cell_type": "code",
   "execution_count": null,
   "metadata": {
    "colab": {
     "base_uri": "https://localhost:8080/",
     "height": 230
    },
    "executionInfo": {
     "elapsed": 681,
     "status": "ok",
     "timestamp": 1619756896907,
     "user": {
      "displayName": "ISOM3400 Instructor Google Class",
      "photoUrl": "",
      "userId": "10963748770099369781"
     },
     "user_tz": -480
    },
    "id": "uhGvU30FCMk3",
    "outputId": "a7fa9d94-5e83-47b4-a18f-1a36e0ef15a6"
   },
   "outputs": [
    {
     "data": {
      "text/html": [
       "<div>\n",
       "<style scoped>\n",
       "    .dataframe tbody tr th:only-of-type {\n",
       "        vertical-align: middle;\n",
       "    }\n",
       "\n",
       "    .dataframe tbody tr th {\n",
       "        vertical-align: top;\n",
       "    }\n",
       "\n",
       "    .dataframe thead th {\n",
       "        text-align: right;\n",
       "    }\n",
       "</style>\n",
       "<table border=\"1\" class=\"dataframe\">\n",
       "  <thead>\n",
       "    <tr style=\"text-align: right;\">\n",
       "      <th></th>\n",
       "      <th>duration</th>\n",
       "    </tr>\n",
       "    <tr>\n",
       "      <th>month</th>\n",
       "      <th></th>\n",
       "    </tr>\n",
       "  </thead>\n",
       "  <tbody>\n",
       "    <tr>\n",
       "      <th>2014-11</th>\n",
       "      <td>26639.441</td>\n",
       "    </tr>\n",
       "    <tr>\n",
       "      <th>2014-12</th>\n",
       "      <td>14641.870</td>\n",
       "    </tr>\n",
       "    <tr>\n",
       "      <th>2015-01</th>\n",
       "      <td>18223.299</td>\n",
       "    </tr>\n",
       "    <tr>\n",
       "      <th>2015-02</th>\n",
       "      <td>15522.299</td>\n",
       "    </tr>\n",
       "    <tr>\n",
       "      <th>2015-03</th>\n",
       "      <td>22750.441</td>\n",
       "    </tr>\n",
       "  </tbody>\n",
       "</table>\n",
       "</div>"
      ],
      "text/plain": [
       "          duration\n",
       "month             \n",
       "2014-11  26639.441\n",
       "2014-12  14641.870\n",
       "2015-01  18223.299\n",
       "2015-02  15522.299\n",
       "2015-03  22750.441"
      ]
     },
     "execution_count": 61,
     "metadata": {
      "tags": []
     },
     "output_type": "execute_result"
    }
   ],
   "source": [
    "# produces Pandas Series\n",
    "data.groupby('month')['duration'].sum()\n",
    "# Produces Pandas DataFrame\n",
    "data.groupby('month')[['duration']].sum()"
   ]
  },
  {
   "cell_type": "code",
   "execution_count": null,
   "metadata": {
    "colab": {
     "base_uri": "https://localhost:8080/"
    },
    "executionInfo": {
     "elapsed": 674,
     "status": "ok",
     "timestamp": 1619756906394,
     "user": {
      "displayName": "ISOM3400 Instructor Google Class",
      "photoUrl": "",
      "userId": "10963748770099369781"
     },
     "user_tz": -480
    },
    "id": "WM3_LSaCCO45",
    "outputId": "5f84b25f-825b-4037-aa2c-68e795f3c7da"
   },
   "outputs": [
    {
     "name": "stdout",
     "output_type": "stream",
     "text": [
      "<class 'pandas.core.series.Series'>\n",
      "month\n",
      "2014-11    26639.441\n",
      "2014-12    14641.870\n",
      "2015-01    18223.299\n",
      "2015-02    15522.299\n",
      "2015-03    22750.441\n",
      "Name: duration, dtype: float64\n",
      "<class 'pandas.core.frame.DataFrame'>\n",
      "          duration\n",
      "month             \n",
      "2014-11  26639.441\n",
      "2014-12  14641.870\n",
      "2015-01  18223.299\n",
      "2015-02  15522.299\n",
      "2015-03  22750.441\n"
     ]
    }
   ],
   "source": [
    "# produces Pandas Series\n",
    "print(type(data.groupby('month')['duration'].sum()))\n",
    "print(data.groupby('month')['duration'].sum())\n",
    "# Produces Pandas DataFrame\n",
    "print(type(data.groupby('month')[['duration']].sum()))\n",
    "print(data.groupby('month')[['duration']].sum())"
   ]
  },
  {
   "cell_type": "code",
   "execution_count": null,
   "metadata": {
    "colab": {
     "base_uri": "https://localhost:8080/"
    },
    "executionInfo": {
     "elapsed": 682,
     "status": "ok",
     "timestamp": 1619756939753,
     "user": {
      "displayName": "ISOM3400 Instructor Google Class",
      "photoUrl": "",
      "userId": "10963748770099369781"
     },
     "user_tz": -480
    },
    "id": "F2jXOY78CW0t",
    "outputId": "4a0f57ef-d2a9-492c-f0a0-23552c0312d5"
   },
   "outputs": [
    {
     "data": {
      "text/plain": [
       "26639.441000000003"
      ]
     },
     "execution_count": 63,
     "metadata": {
      "tags": []
     },
     "output_type": "execute_result"
    }
   ],
   "source": [
    "data.groupby('month')[['duration']].sum()['duration'].max()"
   ]
  },
  {
   "cell_type": "code",
   "execution_count": null,
   "metadata": {
    "colab": {
     "base_uri": "https://localhost:8080/"
    },
    "executionInfo": {
     "elapsed": 633,
     "status": "ok",
     "timestamp": 1619756989394,
     "user": {
      "displayName": "ISOM3400 Instructor Google Class",
      "photoUrl": "",
      "userId": "10963748770099369781"
     },
     "user_tz": -480
    },
    "id": "qWws6zodCjId",
    "outputId": "52e02d44-c6ae-4e89-d609-6b813f920e7e"
   },
   "outputs": [
    {
     "data": {
      "text/plain": [
       "month\n",
       "2014-11    26639.441\n",
       "2014-12    14641.870\n",
       "2015-01    18223.299\n",
       "2015-02    15522.299\n",
       "2015-03    22750.441\n",
       "Name: duration, dtype: float64"
      ]
     },
     "execution_count": 65,
     "metadata": {
      "tags": []
     },
     "output_type": "execute_result"
    }
   ],
   "source": [
    "# produces Pandas Series\n",
    "data.groupby('month')['duration'].sum() "
   ]
  },
  {
   "cell_type": "code",
   "execution_count": null,
   "metadata": {
    "colab": {
     "base_uri": "https://localhost:8080/"
    },
    "executionInfo": {
     "elapsed": 674,
     "status": "ok",
     "timestamp": 1619757017827,
     "user": {
      "displayName": "ISOM3400 Instructor Google Class",
      "photoUrl": "",
      "userId": "10963748770099369781"
     },
     "user_tz": -480
    },
    "id": "-mXCuAX3CoWJ",
    "outputId": "08bc8409-195f-4548-df22-8bc40a096b67"
   },
   "outputs": [
    {
     "data": {
      "text/plain": [
       "pandas.core.series.Series"
      ]
     },
     "execution_count": 67,
     "metadata": {
      "tags": []
     },
     "output_type": "execute_result"
    }
   ],
   "source": [
    "type(data.groupby('month')['duration'].sum())"
   ]
  },
  {
   "cell_type": "code",
   "execution_count": null,
   "metadata": {
    "colab": {
     "base_uri": "https://localhost:8080/",
     "height": 230
    },
    "executionInfo": {
     "elapsed": 760,
     "status": "ok",
     "timestamp": 1619756998732,
     "user": {
      "displayName": "ISOM3400 Instructor Google Class",
      "photoUrl": "",
      "userId": "10963748770099369781"
     },
     "user_tz": -480
    },
    "id": "8xps6CRiClTN",
    "outputId": "1e528276-cfba-4f4d-ad2d-0180b584c333"
   },
   "outputs": [
    {
     "data": {
      "text/html": [
       "<div>\n",
       "<style scoped>\n",
       "    .dataframe tbody tr th:only-of-type {\n",
       "        vertical-align: middle;\n",
       "    }\n",
       "\n",
       "    .dataframe tbody tr th {\n",
       "        vertical-align: top;\n",
       "    }\n",
       "\n",
       "    .dataframe thead th {\n",
       "        text-align: right;\n",
       "    }\n",
       "</style>\n",
       "<table border=\"1\" class=\"dataframe\">\n",
       "  <thead>\n",
       "    <tr style=\"text-align: right;\">\n",
       "      <th></th>\n",
       "      <th>duration</th>\n",
       "    </tr>\n",
       "    <tr>\n",
       "      <th>month</th>\n",
       "      <th></th>\n",
       "    </tr>\n",
       "  </thead>\n",
       "  <tbody>\n",
       "    <tr>\n",
       "      <th>2014-11</th>\n",
       "      <td>26639.441</td>\n",
       "    </tr>\n",
       "    <tr>\n",
       "      <th>2014-12</th>\n",
       "      <td>14641.870</td>\n",
       "    </tr>\n",
       "    <tr>\n",
       "      <th>2015-01</th>\n",
       "      <td>18223.299</td>\n",
       "    </tr>\n",
       "    <tr>\n",
       "      <th>2015-02</th>\n",
       "      <td>15522.299</td>\n",
       "    </tr>\n",
       "    <tr>\n",
       "      <th>2015-03</th>\n",
       "      <td>22750.441</td>\n",
       "    </tr>\n",
       "  </tbody>\n",
       "</table>\n",
       "</div>"
      ],
      "text/plain": [
       "          duration\n",
       "month             \n",
       "2014-11  26639.441\n",
       "2014-12  14641.870\n",
       "2015-01  18223.299\n",
       "2015-02  15522.299\n",
       "2015-03  22750.441"
      ]
     },
     "execution_count": 66,
     "metadata": {
      "tags": []
     },
     "output_type": "execute_result"
    }
   ],
   "source": [
    "# Produces Pandas DataFrame\n",
    "data.groupby('month')[['duration']].sum()"
   ]
  },
  {
   "cell_type": "code",
   "execution_count": null,
   "metadata": {
    "id": "_KQ3UgKL3DSk"
   },
   "outputs": [],
   "source": [
    "# Index or not"
   ]
  },
  {
   "cell_type": "code",
   "execution_count": null,
   "metadata": {
    "colab": {
     "base_uri": "https://localhost:8080/",
     "height": 199
    },
    "executionInfo": {
     "elapsed": 676,
     "status": "ok",
     "timestamp": 1619757033440,
     "user": {
      "displayName": "ISOM3400 Instructor Google Class",
      "photoUrl": "",
      "userId": "10963748770099369781"
     },
     "user_tz": -480
    },
    "id": "OhU3V-J7Ct8Z",
    "outputId": "8860e21c-1d70-43bf-e85b-8a3488d4a837"
   },
   "outputs": [
    {
     "data": {
      "text/html": [
       "<div>\n",
       "<style scoped>\n",
       "    .dataframe tbody tr th:only-of-type {\n",
       "        vertical-align: middle;\n",
       "    }\n",
       "\n",
       "    .dataframe tbody tr th {\n",
       "        vertical-align: top;\n",
       "    }\n",
       "\n",
       "    .dataframe thead th {\n",
       "        text-align: right;\n",
       "    }\n",
       "</style>\n",
       "<table border=\"1\" class=\"dataframe\">\n",
       "  <thead>\n",
       "    <tr style=\"text-align: right;\">\n",
       "      <th></th>\n",
       "      <th>month</th>\n",
       "      <th>duration</th>\n",
       "    </tr>\n",
       "  </thead>\n",
       "  <tbody>\n",
       "    <tr>\n",
       "      <th>0</th>\n",
       "      <td>2014-11</td>\n",
       "      <td>26639.441</td>\n",
       "    </tr>\n",
       "    <tr>\n",
       "      <th>1</th>\n",
       "      <td>2014-12</td>\n",
       "      <td>14641.870</td>\n",
       "    </tr>\n",
       "    <tr>\n",
       "      <th>2</th>\n",
       "      <td>2015-01</td>\n",
       "      <td>18223.299</td>\n",
       "    </tr>\n",
       "    <tr>\n",
       "      <th>3</th>\n",
       "      <td>2015-02</td>\n",
       "      <td>15522.299</td>\n",
       "    </tr>\n",
       "    <tr>\n",
       "      <th>4</th>\n",
       "      <td>2015-03</td>\n",
       "      <td>22750.441</td>\n",
       "    </tr>\n",
       "  </tbody>\n",
       "</table>\n",
       "</div>"
      ],
      "text/plain": [
       "     month   duration\n",
       "0  2014-11  26639.441\n",
       "1  2014-12  14641.870\n",
       "2  2015-01  18223.299\n",
       "3  2015-02  15522.299\n",
       "4  2015-03  22750.441"
      ]
     },
     "execution_count": 68,
     "metadata": {
      "tags": []
     },
     "output_type": "execute_result"
    }
   ],
   "source": [
    "data.groupby('month', as_index=False).agg({\"duration\": \"sum\"})"
   ]
  },
  {
   "cell_type": "code",
   "execution_count": null,
   "metadata": {
    "colab": {
     "base_uri": "https://localhost:8080/",
     "height": 230
    },
    "executionInfo": {
     "elapsed": 774,
     "status": "ok",
     "timestamp": 1619757050081,
     "user": {
      "displayName": "ISOM3400 Instructor Google Class",
      "photoUrl": "",
      "userId": "10963748770099369781"
     },
     "user_tz": -480
    },
    "id": "g2MWHFLECxwl",
    "outputId": "57b2fda3-3b39-4f74-c43e-eef990857cb1"
   },
   "outputs": [
    {
     "data": {
      "text/html": [
       "<div>\n",
       "<style scoped>\n",
       "    .dataframe tbody tr th:only-of-type {\n",
       "        vertical-align: middle;\n",
       "    }\n",
       "\n",
       "    .dataframe tbody tr th {\n",
       "        vertical-align: top;\n",
       "    }\n",
       "\n",
       "    .dataframe thead th {\n",
       "        text-align: right;\n",
       "    }\n",
       "</style>\n",
       "<table border=\"1\" class=\"dataframe\">\n",
       "  <thead>\n",
       "    <tr style=\"text-align: right;\">\n",
       "      <th></th>\n",
       "      <th>duration</th>\n",
       "    </tr>\n",
       "    <tr>\n",
       "      <th>month</th>\n",
       "      <th></th>\n",
       "    </tr>\n",
       "  </thead>\n",
       "  <tbody>\n",
       "    <tr>\n",
       "      <th>2014-11</th>\n",
       "      <td>26639.441</td>\n",
       "    </tr>\n",
       "    <tr>\n",
       "      <th>2014-12</th>\n",
       "      <td>14641.870</td>\n",
       "    </tr>\n",
       "    <tr>\n",
       "      <th>2015-01</th>\n",
       "      <td>18223.299</td>\n",
       "    </tr>\n",
       "    <tr>\n",
       "      <th>2015-02</th>\n",
       "      <td>15522.299</td>\n",
       "    </tr>\n",
       "    <tr>\n",
       "      <th>2015-03</th>\n",
       "      <td>22750.441</td>\n",
       "    </tr>\n",
       "  </tbody>\n",
       "</table>\n",
       "</div>"
      ],
      "text/plain": [
       "          duration\n",
       "month             \n",
       "2014-11  26639.441\n",
       "2014-12  14641.870\n",
       "2015-01  18223.299\n",
       "2015-02  15522.299\n",
       "2015-03  22750.441"
      ]
     },
     "execution_count": 69,
     "metadata": {
      "tags": []
     },
     "output_type": "execute_result"
    }
   ],
   "source": [
    "data.groupby('month', as_index=True).agg({\"duration\": \"sum\"})"
   ]
  },
  {
   "cell_type": "code",
   "execution_count": null,
   "metadata": {
    "id": "_G4VswT-3Lzp"
   },
   "outputs": [],
   "source": [
    "# groupby month and item (with plot)"
   ]
  },
  {
   "cell_type": "code",
   "execution_count": null,
   "metadata": {
    "colab": {
     "base_uri": "https://localhost:8080/",
     "height": 533
    },
    "executionInfo": {
     "elapsed": 645,
     "status": "ok",
     "timestamp": 1619757062923,
     "user": {
      "displayName": "ISOM3400 Instructor Google Class",
      "photoUrl": "",
      "userId": "10963748770099369781"
     },
     "user_tz": -480
    },
    "id": "4JA7WULFC08i",
    "outputId": "8e072c86-afb0-4023-e501-39bec4515221"
   },
   "outputs": [
    {
     "data": {
      "text/html": [
       "<div>\n",
       "<style scoped>\n",
       "    .dataframe tbody tr th:only-of-type {\n",
       "        vertical-align: middle;\n",
       "    }\n",
       "\n",
       "    .dataframe tbody tr th {\n",
       "        vertical-align: top;\n",
       "    }\n",
       "\n",
       "    .dataframe thead th {\n",
       "        text-align: right;\n",
       "    }\n",
       "</style>\n",
       "<table border=\"1\" class=\"dataframe\">\n",
       "  <thead>\n",
       "    <tr style=\"text-align: right;\">\n",
       "      <th></th>\n",
       "      <th></th>\n",
       "      <th>duration</th>\n",
       "      <th>network_type</th>\n",
       "    </tr>\n",
       "    <tr>\n",
       "      <th>month</th>\n",
       "      <th>item</th>\n",
       "      <th></th>\n",
       "      <th></th>\n",
       "    </tr>\n",
       "  </thead>\n",
       "  <tbody>\n",
       "    <tr>\n",
       "      <th rowspan=\"3\" valign=\"top\">2014-11</th>\n",
       "      <th>call</th>\n",
       "      <td>25547.000</td>\n",
       "      <td>107</td>\n",
       "    </tr>\n",
       "    <tr>\n",
       "      <th>data</th>\n",
       "      <td>998.441</td>\n",
       "      <td>29</td>\n",
       "    </tr>\n",
       "    <tr>\n",
       "      <th>sms</th>\n",
       "      <td>94.000</td>\n",
       "      <td>94</td>\n",
       "    </tr>\n",
       "    <tr>\n",
       "      <th rowspan=\"3\" valign=\"top\">2014-12</th>\n",
       "      <th>call</th>\n",
       "      <td>13561.000</td>\n",
       "      <td>79</td>\n",
       "    </tr>\n",
       "    <tr>\n",
       "      <th>data</th>\n",
       "      <td>1032.870</td>\n",
       "      <td>30</td>\n",
       "    </tr>\n",
       "    <tr>\n",
       "      <th>sms</th>\n",
       "      <td>48.000</td>\n",
       "      <td>48</td>\n",
       "    </tr>\n",
       "    <tr>\n",
       "      <th rowspan=\"3\" valign=\"top\">2015-01</th>\n",
       "      <th>call</th>\n",
       "      <td>17070.000</td>\n",
       "      <td>88</td>\n",
       "    </tr>\n",
       "    <tr>\n",
       "      <th>data</th>\n",
       "      <td>1067.299</td>\n",
       "      <td>31</td>\n",
       "    </tr>\n",
       "    <tr>\n",
       "      <th>sms</th>\n",
       "      <td>86.000</td>\n",
       "      <td>86</td>\n",
       "    </tr>\n",
       "    <tr>\n",
       "      <th rowspan=\"3\" valign=\"top\">2015-02</th>\n",
       "      <th>call</th>\n",
       "      <td>14416.000</td>\n",
       "      <td>67</td>\n",
       "    </tr>\n",
       "    <tr>\n",
       "      <th>data</th>\n",
       "      <td>1067.299</td>\n",
       "      <td>31</td>\n",
       "    </tr>\n",
       "    <tr>\n",
       "      <th>sms</th>\n",
       "      <td>39.000</td>\n",
       "      <td>39</td>\n",
       "    </tr>\n",
       "    <tr>\n",
       "      <th rowspan=\"3\" valign=\"top\">2015-03</th>\n",
       "      <th>call</th>\n",
       "      <td>21727.000</td>\n",
       "      <td>47</td>\n",
       "    </tr>\n",
       "    <tr>\n",
       "      <th>data</th>\n",
       "      <td>998.441</td>\n",
       "      <td>29</td>\n",
       "    </tr>\n",
       "    <tr>\n",
       "      <th>sms</th>\n",
       "      <td>25.000</td>\n",
       "      <td>25</td>\n",
       "    </tr>\n",
       "  </tbody>\n",
       "</table>\n",
       "</div>"
      ],
      "text/plain": [
       "               duration  network_type\n",
       "month   item                         \n",
       "2014-11 call  25547.000           107\n",
       "        data    998.441            29\n",
       "        sms      94.000            94\n",
       "2014-12 call  13561.000            79\n",
       "        data   1032.870            30\n",
       "        sms      48.000            48\n",
       "2015-01 call  17070.000            88\n",
       "        data   1067.299            31\n",
       "        sms      86.000            86\n",
       "2015-02 call  14416.000            67\n",
       "        data   1067.299            31\n",
       "        sms      39.000            39\n",
       "2015-03 call  21727.000            47\n",
       "        data    998.441            29\n",
       "        sms      25.000            25"
      ]
     },
     "execution_count": 70,
     "metadata": {
      "tags": []
     },
     "output_type": "execute_result"
    }
   ],
   "source": [
    "data.groupby(['month', 'item']\n",
    ").agg(\n",
    "    {\n",
    "     'duration': sum,   # Sum duration per group\n",
    "     'network_type': \"count\" # get the count of networks\n",
    "    }\n",
    ")"
   ]
  },
  {
   "cell_type": "code",
   "execution_count": null,
   "metadata": {
    "id": "F2lB1Kiv3doZ"
   },
   "outputs": [],
   "source": [
    "# groupby month and item (with statistics)"
   ]
  },
  {
   "cell_type": "code",
   "execution_count": null,
   "metadata": {
    "colab": {
     "base_uri": "https://localhost:8080/",
     "height": 296
    },
    "executionInfo": {
     "elapsed": 1157,
     "status": "ok",
     "timestamp": 1619757074727,
     "user": {
      "displayName": "ISOM3400 Instructor Google Class",
      "photoUrl": "",
      "userId": "10963748770099369781"
     },
     "user_tz": -480
    },
    "id": "8dD1v4BeC33x",
    "outputId": "28aa4c79-6f44-42df-c2f7-c2f32729a30f"
   },
   "outputs": [
    {
     "data": {
      "text/plain": [
       "<matplotlib.axes._subplots.AxesSubplot at 0x7fde3a79e610>"
      ]
     },
     "execution_count": 71,
     "metadata": {
      "tags": []
     },
     "output_type": "execute_result"
    },
    {
     "data": {
      "image/png": "[encoded data removed]",
      "text/plain": [
       "<Figure size 432x288 with 1 Axes>"
      ]
     },
     "metadata": {
      "needs_background": "light",
      "tags": []
     },
     "output_type": "display_data"
    }
   ],
   "source": [
    "data.groupby(['month', 'item']\n",
    ").agg(\n",
    "    {\n",
    "     'duration': sum,   # Sum duration per group\n",
    "     'network_type': \"count\" # get the count of networks\n",
    "    }\n",
    ").plot(kind='line')"
   ]
  },
  {
   "cell_type": "code",
   "execution_count": null,
   "metadata": {
    "colab": {
     "base_uri": "https://localhost:8080/",
     "height": 533
    },
    "executionInfo": {
     "elapsed": 641,
     "status": "ok",
     "timestamp": 1619757103230,
     "user": {
      "displayName": "ISOM3400 Instructor Google Class",
      "photoUrl": "",
      "userId": "10963748770099369781"
     },
     "user_tz": -480
    },
    "id": "NOzEHsMIC9B2",
    "outputId": "e24e3e58-d693-47c2-95fd-87f714bd85e7"
   },
   "outputs": [
    {
     "data": {
      "text/html": [
       "<div>\n",
       "<style scoped>\n",
       "    .dataframe tbody tr th:only-of-type {\n",
       "        vertical-align: middle;\n",
       "    }\n",
       "\n",
       "    .dataframe tbody tr th {\n",
       "        vertical-align: top;\n",
       "    }\n",
       "\n",
       "    .dataframe thead th {\n",
       "        text-align: right;\n",
       "    }\n",
       "</style>\n",
       "<table border=\"1\" class=\"dataframe\">\n",
       "  <thead>\n",
       "    <tr style=\"text-align: right;\">\n",
       "      <th></th>\n",
       "      <th></th>\n",
       "      <th>Sum_duration</th>\n",
       "      <th>Network_count</th>\n",
       "      <th>First_date</th>\n",
       "    </tr>\n",
       "    <tr>\n",
       "      <th>month</th>\n",
       "      <th>item</th>\n",
       "      <th></th>\n",
       "      <th></th>\n",
       "      <th></th>\n",
       "    </tr>\n",
       "  </thead>\n",
       "  <tbody>\n",
       "    <tr>\n",
       "      <th rowspan=\"3\" valign=\"top\">2014-11</th>\n",
       "      <th>call</th>\n",
       "      <td>1940.000</td>\n",
       "      <td>107</td>\n",
       "      <td>2014-10-15 06:58:00</td>\n",
       "    </tr>\n",
       "    <tr>\n",
       "      <th>data</th>\n",
       "      <td>34.429</td>\n",
       "      <td>29</td>\n",
       "      <td>2014-10-15 06:58:00</td>\n",
       "    </tr>\n",
       "    <tr>\n",
       "      <th>sms</th>\n",
       "      <td>1.000</td>\n",
       "      <td>94</td>\n",
       "      <td>2014-10-16 22:18:00</td>\n",
       "    </tr>\n",
       "    <tr>\n",
       "      <th rowspan=\"3\" valign=\"top\">2014-12</th>\n",
       "      <th>call</th>\n",
       "      <td>2120.000</td>\n",
       "      <td>79</td>\n",
       "      <td>2014-11-14 17:24:00</td>\n",
       "    </tr>\n",
       "    <tr>\n",
       "      <th>data</th>\n",
       "      <td>34.429</td>\n",
       "      <td>30</td>\n",
       "      <td>2014-11-13 06:58:00</td>\n",
       "    </tr>\n",
       "    <tr>\n",
       "      <th>sms</th>\n",
       "      <td>1.000</td>\n",
       "      <td>48</td>\n",
       "      <td>2014-11-14 17:28:00</td>\n",
       "    </tr>\n",
       "    <tr>\n",
       "      <th rowspan=\"3\" valign=\"top\">2015-01</th>\n",
       "      <th>call</th>\n",
       "      <td>1859.000</td>\n",
       "      <td>88</td>\n",
       "      <td>2014-12-15 20:03:00</td>\n",
       "    </tr>\n",
       "    <tr>\n",
       "      <th>data</th>\n",
       "      <td>34.429</td>\n",
       "      <td>31</td>\n",
       "      <td>2014-12-13 06:58:00</td>\n",
       "    </tr>\n",
       "    <tr>\n",
       "      <th>sms</th>\n",
       "      <td>1.000</td>\n",
       "      <td>86</td>\n",
       "      <td>2014-12-15 19:56:00</td>\n",
       "    </tr>\n",
       "    <tr>\n",
       "      <th rowspan=\"3\" valign=\"top\">2015-02</th>\n",
       "      <th>call</th>\n",
       "      <td>1863.000</td>\n",
       "      <td>67</td>\n",
       "      <td>2015-01-15 10:36:00</td>\n",
       "    </tr>\n",
       "    <tr>\n",
       "      <th>data</th>\n",
       "      <td>34.429</td>\n",
       "      <td>31</td>\n",
       "      <td>2015-01-13 06:58:00</td>\n",
       "    </tr>\n",
       "    <tr>\n",
       "      <th>sms</th>\n",
       "      <td>1.000</td>\n",
       "      <td>39</td>\n",
       "      <td>2015-01-15 12:23:00</td>\n",
       "    </tr>\n",
       "    <tr>\n",
       "      <th rowspan=\"3\" valign=\"top\">2015-03</th>\n",
       "      <th>call</th>\n",
       "      <td>10528.000</td>\n",
       "      <td>47</td>\n",
       "      <td>2015-02-12 20:15:00</td>\n",
       "    </tr>\n",
       "    <tr>\n",
       "      <th>data</th>\n",
       "      <td>34.429</td>\n",
       "      <td>29</td>\n",
       "      <td>2015-02-13 06:58:00</td>\n",
       "    </tr>\n",
       "    <tr>\n",
       "      <th>sms</th>\n",
       "      <td>1.000</td>\n",
       "      <td>25</td>\n",
       "      <td>2015-02-19 18:46:00</td>\n",
       "    </tr>\n",
       "  </tbody>\n",
       "</table>\n",
       "</div>"
      ],
      "text/plain": [
       "              Sum_duration  Network_count          First_date\n",
       "month   item                                                 \n",
       "2014-11 call      1940.000            107 2014-10-15 06:58:00\n",
       "        data        34.429             29 2014-10-15 06:58:00\n",
       "        sms          1.000             94 2014-10-16 22:18:00\n",
       "2014-12 call      2120.000             79 2014-11-14 17:24:00\n",
       "        data        34.429             30 2014-11-13 06:58:00\n",
       "        sms          1.000             48 2014-11-14 17:28:00\n",
       "2015-01 call      1859.000             88 2014-12-15 20:03:00\n",
       "        data        34.429             31 2014-12-13 06:58:00\n",
       "        sms          1.000             86 2014-12-15 19:56:00\n",
       "2015-02 call      1863.000             67 2015-01-15 10:36:00\n",
       "        data        34.429             31 2015-01-13 06:58:00\n",
       "        sms          1.000             39 2015-01-15 12:23:00\n",
       "2015-03 call     10528.000             47 2015-02-12 20:15:00\n",
       "        data        34.429             29 2015-02-13 06:58:00\n",
       "        sms          1.000             25 2015-02-19 18:46:00"
      ]
     },
     "execution_count": 72,
     "metadata": {
      "tags": []
     },
     "output_type": "execute_result"
    }
   ],
   "source": [
    "# Group the data frame by month and item and \n",
    "# extract a number of stats from each group\n",
    "data.groupby(\n",
    "   ['month', 'item'], as_index=True\n",
    ").agg(\n",
    "    Sum_duration = pd.NamedAgg(column='duration',aggfunc=max),    # Sum duration per group\n",
    "    Network_count = pd.NamedAgg(column='network_type', aggfunc='count'),  # get the count of networks\n",
    "    First_date = pd.NamedAgg(column='date', aggfunc='first')  # get the first date per group\n",
    ")"
   ]
  },
  {
   "cell_type": "code",
   "execution_count": null,
   "metadata": {
    "id": "nqL96YIY3mtQ"
   },
   "outputs": [],
   "source": [
    "# groupby month and item (with statistics for each group)"
   ]
  },
  {
   "cell_type": "code",
   "execution_count": null,
   "metadata": {
    "colab": {
     "base_uri": "https://localhost:8080/",
     "height": 563
    },
    "executionInfo": {
     "elapsed": 676,
     "status": "ok",
     "timestamp": 1619757119201,
     "user": {
      "displayName": "ISOM3400 Instructor Google Class",
      "photoUrl": "",
      "userId": "10963748770099369781"
     },
     "user_tz": -480
    },
    "id": "Kv80bnmxDCgd",
    "outputId": "0be7cad8-a32f-4d12-d7b4-519951c3665d"
   },
   "outputs": [
    {
     "data": {
      "text/html": [
       "<div>\n",
       "<style scoped>\n",
       "    .dataframe tbody tr th:only-of-type {\n",
       "        vertical-align: middle;\n",
       "    }\n",
       "\n",
       "    .dataframe tbody tr th {\n",
       "        vertical-align: top;\n",
       "    }\n",
       "\n",
       "    .dataframe thead tr th {\n",
       "        text-align: left;\n",
       "    }\n",
       "\n",
       "    .dataframe thead tr:last-of-type th {\n",
       "        text-align: right;\n",
       "    }\n",
       "</style>\n",
       "<table border=\"1\" class=\"dataframe\">\n",
       "  <thead>\n",
       "    <tr>\n",
       "      <th></th>\n",
       "      <th></th>\n",
       "      <th colspan=\"3\" halign=\"left\">duration</th>\n",
       "      <th>network_type</th>\n",
       "      <th colspan=\"3\" halign=\"left\">date</th>\n",
       "    </tr>\n",
       "    <tr>\n",
       "      <th></th>\n",
       "      <th></th>\n",
       "      <th>min</th>\n",
       "      <th>max</th>\n",
       "      <th>sum</th>\n",
       "      <th>count</th>\n",
       "      <th>min</th>\n",
       "      <th>first</th>\n",
       "      <th>nunique</th>\n",
       "    </tr>\n",
       "    <tr>\n",
       "      <th>month</th>\n",
       "      <th>item</th>\n",
       "      <th></th>\n",
       "      <th></th>\n",
       "      <th></th>\n",
       "      <th></th>\n",
       "      <th></th>\n",
       "      <th></th>\n",
       "      <th></th>\n",
       "    </tr>\n",
       "  </thead>\n",
       "  <tbody>\n",
       "    <tr>\n",
       "      <th rowspan=\"3\" valign=\"top\">2014-11</th>\n",
       "      <th>call</th>\n",
       "      <td>1.000</td>\n",
       "      <td>1940.000</td>\n",
       "      <td>25547.000</td>\n",
       "      <td>107</td>\n",
       "      <td>2014-10-15 06:58:00</td>\n",
       "      <td>2014-10-15 06:58:00</td>\n",
       "      <td>104</td>\n",
       "    </tr>\n",
       "    <tr>\n",
       "      <th>data</th>\n",
       "      <td>34.429</td>\n",
       "      <td>34.429</td>\n",
       "      <td>998.441</td>\n",
       "      <td>29</td>\n",
       "      <td>2014-10-15 06:58:00</td>\n",
       "      <td>2014-10-15 06:58:00</td>\n",
       "      <td>29</td>\n",
       "    </tr>\n",
       "    <tr>\n",
       "      <th>sms</th>\n",
       "      <td>1.000</td>\n",
       "      <td>1.000</td>\n",
       "      <td>94.000</td>\n",
       "      <td>94</td>\n",
       "      <td>2014-10-16 22:18:00</td>\n",
       "      <td>2014-10-16 22:18:00</td>\n",
       "      <td>79</td>\n",
       "    </tr>\n",
       "    <tr>\n",
       "      <th rowspan=\"3\" valign=\"top\">2014-12</th>\n",
       "      <th>call</th>\n",
       "      <td>2.000</td>\n",
       "      <td>2120.000</td>\n",
       "      <td>13561.000</td>\n",
       "      <td>79</td>\n",
       "      <td>2014-11-14 17:24:00</td>\n",
       "      <td>2014-11-14 17:24:00</td>\n",
       "      <td>76</td>\n",
       "    </tr>\n",
       "    <tr>\n",
       "      <th>data</th>\n",
       "      <td>34.429</td>\n",
       "      <td>34.429</td>\n",
       "      <td>1032.870</td>\n",
       "      <td>30</td>\n",
       "      <td>2014-11-13 06:58:00</td>\n",
       "      <td>2014-11-13 06:58:00</td>\n",
       "      <td>30</td>\n",
       "    </tr>\n",
       "    <tr>\n",
       "      <th>sms</th>\n",
       "      <td>1.000</td>\n",
       "      <td>1.000</td>\n",
       "      <td>48.000</td>\n",
       "      <td>48</td>\n",
       "      <td>2014-11-14 17:28:00</td>\n",
       "      <td>2014-11-14 17:28:00</td>\n",
       "      <td>41</td>\n",
       "    </tr>\n",
       "    <tr>\n",
       "      <th rowspan=\"3\" valign=\"top\">2015-01</th>\n",
       "      <th>call</th>\n",
       "      <td>2.000</td>\n",
       "      <td>1859.000</td>\n",
       "      <td>17070.000</td>\n",
       "      <td>88</td>\n",
       "      <td>2014-12-15 20:03:00</td>\n",
       "      <td>2014-12-15 20:03:00</td>\n",
       "      <td>84</td>\n",
       "    </tr>\n",
       "    <tr>\n",
       "      <th>data</th>\n",
       "      <td>34.429</td>\n",
       "      <td>34.429</td>\n",
       "      <td>1067.299</td>\n",
       "      <td>31</td>\n",
       "      <td>2014-12-13 06:58:00</td>\n",
       "      <td>2014-12-13 06:58:00</td>\n",
       "      <td>31</td>\n",
       "    </tr>\n",
       "    <tr>\n",
       "      <th>sms</th>\n",
       "      <td>1.000</td>\n",
       "      <td>1.000</td>\n",
       "      <td>86.000</td>\n",
       "      <td>86</td>\n",
       "      <td>2014-12-15 19:56:00</td>\n",
       "      <td>2014-12-15 19:56:00</td>\n",
       "      <td>58</td>\n",
       "    </tr>\n",
       "    <tr>\n",
       "      <th rowspan=\"3\" valign=\"top\">2015-02</th>\n",
       "      <th>call</th>\n",
       "      <td>1.000</td>\n",
       "      <td>1863.000</td>\n",
       "      <td>14416.000</td>\n",
       "      <td>67</td>\n",
       "      <td>2015-01-15 10:36:00</td>\n",
       "      <td>2015-01-15 10:36:00</td>\n",
       "      <td>67</td>\n",
       "    </tr>\n",
       "    <tr>\n",
       "      <th>data</th>\n",
       "      <td>34.429</td>\n",
       "      <td>34.429</td>\n",
       "      <td>1067.299</td>\n",
       "      <td>31</td>\n",
       "      <td>2015-01-13 06:58:00</td>\n",
       "      <td>2015-01-13 06:58:00</td>\n",
       "      <td>31</td>\n",
       "    </tr>\n",
       "    <tr>\n",
       "      <th>sms</th>\n",
       "      <td>1.000</td>\n",
       "      <td>1.000</td>\n",
       "      <td>39.000</td>\n",
       "      <td>39</td>\n",
       "      <td>2015-01-15 12:23:00</td>\n",
       "      <td>2015-01-15 12:23:00</td>\n",
       "      <td>27</td>\n",
       "    </tr>\n",
       "    <tr>\n",
       "      <th rowspan=\"3\" valign=\"top\">2015-03</th>\n",
       "      <th>call</th>\n",
       "      <td>2.000</td>\n",
       "      <td>10528.000</td>\n",
       "      <td>21727.000</td>\n",
       "      <td>47</td>\n",
       "      <td>2015-02-12 20:15:00</td>\n",
       "      <td>2015-02-12 20:15:00</td>\n",
       "      <td>47</td>\n",
       "    </tr>\n",
       "    <tr>\n",
       "      <th>data</th>\n",
       "      <td>34.429</td>\n",
       "      <td>34.429</td>\n",
       "      <td>998.441</td>\n",
       "      <td>29</td>\n",
       "      <td>2015-02-13 06:58:00</td>\n",
       "      <td>2015-02-13 06:58:00</td>\n",
       "      <td>29</td>\n",
       "    </tr>\n",
       "    <tr>\n",
       "      <th>sms</th>\n",
       "      <td>1.000</td>\n",
       "      <td>1.000</td>\n",
       "      <td>25.000</td>\n",
       "      <td>25</td>\n",
       "      <td>2015-02-19 18:46:00</td>\n",
       "      <td>2015-02-19 18:46:00</td>\n",
       "      <td>17</td>\n",
       "    </tr>\n",
       "  </tbody>\n",
       "</table>\n",
       "</div>"
      ],
      "text/plain": [
       "             duration             ...                date        \n",
       "                  min        max  ...               first nunique\n",
       "month   item                      ...                            \n",
       "2014-11 call    1.000   1940.000  ... 2014-10-15 06:58:00     104\n",
       "        data   34.429     34.429  ... 2014-10-15 06:58:00      29\n",
       "        sms     1.000      1.000  ... 2014-10-16 22:18:00      79\n",
       "2014-12 call    2.000   2120.000  ... 2014-11-14 17:24:00      76\n",
       "        data   34.429     34.429  ... 2014-11-13 06:58:00      30\n",
       "        sms     1.000      1.000  ... 2014-11-14 17:28:00      41\n",
       "2015-01 call    2.000   1859.000  ... 2014-12-15 20:03:00      84\n",
       "        data   34.429     34.429  ... 2014-12-13 06:58:00      31\n",
       "        sms     1.000      1.000  ... 2014-12-15 19:56:00      58\n",
       "2015-02 call    1.000   1863.000  ... 2015-01-15 10:36:00      67\n",
       "        data   34.429     34.429  ... 2015-01-13 06:58:00      31\n",
       "        sms     1.000      1.000  ... 2015-01-15 12:23:00      27\n",
       "2015-03 call    2.000  10528.000  ... 2015-02-12 20:15:00      47\n",
       "        data   34.429     34.429  ... 2015-02-13 06:58:00      29\n",
       "        sms     1.000      1.000  ... 2015-02-19 18:46:00      17\n",
       "\n",
       "[15 rows x 7 columns]"
      ]
     },
     "execution_count": 73,
     "metadata": {
      "tags": []
     },
     "output_type": "execute_result"
    }
   ],
   "source": [
    "# Group the data frame by month and item and \n",
    "# extract a number of stats from each group\n",
    "data.groupby(\n",
    "    ['month', 'item']\n",
    ").agg(\n",
    "    {\n",
    "        # Find the min, max, and sum of the duration column\n",
    "        'duration': [min, max, sum],\n",
    "        # find the number of network type entries\n",
    "        'network_type': \"count\",\n",
    "        # minimum, first, and number of unique dates\n",
    "        'date': [min, 'first', 'nunique']\n",
    "    }\n",
    ")"
   ]
  },
  {
   "cell_type": "code",
   "execution_count": null,
   "metadata": {
    "id": "E2p8YfEz38T5"
   },
   "outputs": [],
   "source": [
    "# call - groupby month (with statistics)"
   ]
  },
  {
   "cell_type": "code",
   "execution_count": null,
   "metadata": {
    "colab": {
     "base_uri": "https://localhost:8080/",
     "height": 230
    },
    "executionInfo": {
     "elapsed": 639,
     "status": "ok",
     "timestamp": 1619757141142,
     "user": {
      "displayName": "ISOM3400 Instructor Google Class",
      "photoUrl": "",
      "userId": "10963748770099369781"
     },
     "user_tz": -480
    },
    "id": "T1j6LZz0DIH8",
    "outputId": "9d82a636-55d0-467b-b0a6-bf8de1f151ec"
   },
   "outputs": [
    {
     "data": {
      "text/html": [
       "<div>\n",
       "<style scoped>\n",
       "    .dataframe tbody tr th:only-of-type {\n",
       "        vertical-align: middle;\n",
       "    }\n",
       "\n",
       "    .dataframe tbody tr th {\n",
       "        vertical-align: top;\n",
       "    }\n",
       "\n",
       "    .dataframe thead th {\n",
       "        text-align: right;\n",
       "    }\n",
       "</style>\n",
       "<table border=\"1\" class=\"dataframe\">\n",
       "  <thead>\n",
       "    <tr style=\"text-align: right;\">\n",
       "      <th></th>\n",
       "      <th>max_duration</th>\n",
       "      <th>min_duration</th>\n",
       "      <th>total_duration</th>\n",
       "    </tr>\n",
       "    <tr>\n",
       "      <th>month</th>\n",
       "      <th></th>\n",
       "      <th></th>\n",
       "      <th></th>\n",
       "    </tr>\n",
       "  </thead>\n",
       "  <tbody>\n",
       "    <tr>\n",
       "      <th>2014-11</th>\n",
       "      <td>1940.0</td>\n",
       "      <td>1.0</td>\n",
       "      <td>25547.0</td>\n",
       "    </tr>\n",
       "    <tr>\n",
       "      <th>2014-12</th>\n",
       "      <td>2120.0</td>\n",
       "      <td>2.0</td>\n",
       "      <td>13561.0</td>\n",
       "    </tr>\n",
       "    <tr>\n",
       "      <th>2015-01</th>\n",
       "      <td>1859.0</td>\n",
       "      <td>2.0</td>\n",
       "      <td>17070.0</td>\n",
       "    </tr>\n",
       "    <tr>\n",
       "      <th>2015-02</th>\n",
       "      <td>1863.0</td>\n",
       "      <td>1.0</td>\n",
       "      <td>14416.0</td>\n",
       "    </tr>\n",
       "    <tr>\n",
       "      <th>2015-03</th>\n",
       "      <td>10528.0</td>\n",
       "      <td>2.0</td>\n",
       "      <td>21727.0</td>\n",
       "    </tr>\n",
       "  </tbody>\n",
       "</table>\n",
       "</div>"
      ],
      "text/plain": [
       "         max_duration  min_duration  total_duration\n",
       "month                                              \n",
       "2014-11        1940.0           1.0         25547.0\n",
       "2014-12        2120.0           2.0         13561.0\n",
       "2015-01        1859.0           2.0         17070.0\n",
       "2015-02        1863.0           1.0         14416.0\n",
       "2015-03       10528.0           2.0         21727.0"
      ]
     },
     "execution_count": 74,
     "metadata": {
      "tags": []
     },
     "output_type": "execute_result"
    }
   ],
   "source": [
    "data[data['item'] == 'call'].groupby('month').agg(\n",
    "    # Get max of the duration column for each group\n",
    "    max_duration=('duration', max),\n",
    "    # Get min of the duration column for each group\n",
    "    min_duration=('duration', min),\n",
    "    # Get sum of the duration column for each group\n",
    "    total_duration=('duration', sum)\n",
    ")"
   ]
  },
  {
   "cell_type": "code",
   "execution_count": null,
   "metadata": {
    "id": "RpUhfX0SDInt"
   },
   "outputs": [],
   "source": [
    "# call - groupby month (with statistics and plots)"
   ]
  },
  {
   "cell_type": "code",
   "execution_count": null,
   "metadata": {
    "colab": {
     "base_uri": "https://localhost:8080/",
     "height": 328
    },
    "executionInfo": {
     "elapsed": 1225,
     "status": "ok",
     "timestamp": 1619757167664,
     "user": {
      "displayName": "ISOM3400 Instructor Google Class",
      "photoUrl": "",
      "userId": "10963748770099369781"
     },
     "user_tz": -480
    },
    "id": "ackrRuowDLku",
    "outputId": "f756684e-bb9e-4671-bdd4-24b940d9ea72"
   },
   "outputs": [
    {
     "data": {
      "text/plain": [
       "<matplotlib.axes._subplots.AxesSubplot at 0x7fde45248bd0>"
      ]
     },
     "execution_count": 75,
     "metadata": {
      "tags": []
     },
     "output_type": "execute_result"
    },
    {
     "data": {
      "image/png": "[encoded data removed]",
      "text/plain": [
       "<Figure size 432x288 with 1 Axes>"
      ]
     },
     "metadata": {
      "needs_background": "light",
      "tags": []
     },
     "output_type": "display_data"
    }
   ],
   "source": [
    "data[data['item'] == 'call'].groupby('month').agg(\n",
    "    # Get max of the duration column for each group\n",
    "    max_duration=('duration', max),\n",
    "    # Get min of the duration column for each group\n",
    "    min_duration=('duration', min),\n",
    "    # Get sum of the duration column for each group\n",
    "    total_duration=('duration', sum)\n",
    ").plot(kind='bar')"
   ]
  },
  {
   "cell_type": "code",
   "execution_count": null,
   "metadata": {
    "id": "K6Lf3xtrDO8-"
   },
   "outputs": [],
   "source": []
  }
 ],
 "metadata": {
  "colab": {
   "authorship_tag": "ABX9TyP8KKyJSmWvXLt9GwGdfQnM",
   "collapsed_sections": [],
   "name": "30_BusinessAnalystics_template_(complete).ipynb",
   "provenance": []
  },
  "kernelspec": {
   "display_name": "Python 3",
   "language": "python",
   "name": "python3"
  },
  "language_info": {
   "codemirror_mode": {
    "name": "ipython",
    "version": 3
   },
   "file_extension": ".py",
   "mimetype": "text/x-python",
   "name": "python",
   "nbconvert_exporter": "python",
   "pygments_lexer": "ipython3",
   "version": "3.8.3"
  }
 },
 "nbformat": 4,
 "nbformat_minor": 1
}
