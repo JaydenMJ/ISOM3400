{
 "cells": [
  {
   "cell_type": "markdown",
   "metadata": {
    "id": "D22JGStF-IdI"
   },
   "source": [
    "**Preparation**"
   ]
  },
  {
   "cell_type": "code",
   "execution_count": 1,
   "metadata": {
    "colab": {
     "base_uri": "https://localhost:8080/"
    },
    "executionInfo": {
     "elapsed": 38012,
     "status": "ok",
     "timestamp": 1618562010883,
     "user": {
      "displayName": "ISOM3400 Instructor Google Class",
      "photoUrl": "",
      "userId": "10963748770099369781"
     },
     "user_tz": -480
    },
    "id": "4smcLuHB9asE",
    "outputId": "1fbafcab-663c-4ebe-bf84-c64eef3a4d70"
   },
   "outputs": [
    {
     "name": "stdout",
     "output_type": "stream",
     "text": [
      "\u001b[K     |████████████████████████████████| 911kB 3.7MB/s \n",
      "\u001b[?25h"
     ]
    }
   ],
   "source": [
    "#install selenium\n",
    "#install Chromedriver\n",
    "\n",
    "!pip -qq install selenium\n",
    "!apt-get -qq -y --force-yes update > /tmp/tmp.txt 2>&1\n",
    "\n",
    "# src: https://askubuntu.com/questions/778375/redirecting-apt-get-output\n",
    "!apt -qq -y --force-yes install chromium-chromedriver > /tmp/tmp.txt 2>&1"
   ]
  },
  {
   "cell_type": "code",
   "execution_count": 2,
   "metadata": {
    "executionInfo": {
     "elapsed": 39870,
     "status": "ok",
     "timestamp": 1618562012745,
     "user": {
      "displayName": "ISOM3400 Instructor Google Class",
      "photoUrl": "",
      "userId": "10963748770099369781"
     },
     "user_tz": -480
    },
    "id": "kzROH8Fi9e_k"
   },
   "outputs": [],
   "source": [
    "# import selenium and setup the driver\n",
    "from selenium import webdriver\n",
    "\n",
    "options = webdriver.ChromeOptions()\n",
    "options.add_argument('-headless')\n",
    "options.add_argument('-no-sandbox')\n",
    "options.add_argument('-disable-dev-shm-usage')\n",
    "#Create the driver\n",
    "driver = webdriver.Chrome('chromedriver',options=options)"
   ]
  },
  {
   "cell_type": "markdown",
   "metadata": {
    "id": "M-cy89pN-Fax"
   },
   "source": [
    "**Task 1: Connection**"
   ]
  },
  {
   "cell_type": "code",
   "execution_count": 3,
   "metadata": {
    "executionInfo": {
     "elapsed": 39870,
     "status": "ok",
     "timestamp": 1618562012746,
     "user": {
      "displayName": "ISOM3400 Instructor Google Class",
      "photoUrl": "",
      "userId": "10963748770099369781"
     },
     "user_tz": -480
    },
    "id": "M_qO1N0M-PlS"
   },
   "outputs": [],
   "source": [
    "from selenium import webdriver\n",
    "from selenium.webdriver.common.by import By\n",
    "from selenium.webdriver.support.ui import WebDriverWait\n",
    "from selenium.webdriver.support import expected_conditions as EC\n",
    "\n",
    "from selenium.webdriver.common.keys import Keys\n",
    "import time"
   ]
  },
  {
   "cell_type": "code",
   "execution_count": 4,
   "metadata": {
    "executionInfo": {
     "elapsed": 42491,
     "status": "ok",
     "timestamp": 1618562015369,
     "user": {
      "displayName": "ISOM3400 Instructor Google Class",
      "photoUrl": "",
      "userId": "10963748770099369781"
     },
     "user_tz": -480
    },
    "id": "Vo_uBagP9hQk"
   },
   "outputs": [],
   "source": [
    "#Connect to a site (URL)\n",
    "URL = \"https://finance.yahoo.com/quote/IBM/community?p=IBM\"\n",
    "driver.get(URL)"
   ]
  },
  {
   "cell_type": "markdown",
   "metadata": {
    "id": "GIJ_P-Bj-mjr"
   },
   "source": [
    "**Task 2: Get the date**"
   ]
  },
  {
   "cell_type": "code",
   "execution_count": 5,
   "metadata": {
    "executionInfo": {
     "elapsed": 43538,
     "status": "ok",
     "timestamp": 1618562016419,
     "user": {
      "displayName": "ISOM3400 Instructor Google Class",
      "photoUrl": "",
      "userId": "10963748770099369781"
     },
     "user_tz": -480
    },
    "id": "phmHaN3GN-RN"
   },
   "outputs": [],
   "source": [
    "comments =  driver.find_elements_by_css_selector(\"[class='Pos(r) Pstart(52px) ']\")"
   ]
  },
  {
   "cell_type": "markdown",
   "metadata": {
    "id": "yCNZnvdvOhK1"
   },
   "source": [
    "**Task 3: Print the date**"
   ]
  },
  {
   "cell_type": "code",
   "execution_count": 6,
   "metadata": {
    "colab": {
     "base_uri": "https://localhost:8080/"
    },
    "executionInfo": {
     "elapsed": 44535,
     "status": "ok",
     "timestamp": 1618562017421,
     "user": {
      "displayName": "ISOM3400 Instructor Google Class",
      "photoUrl": "",
      "userId": "10963748770099369781"
     },
     "user_tz": -480
    },
    "id": "LIoQTJOxN_i8",
    "outputId": "45ec5dc0-4ed3-4e15-db59-8bdd6f06371c"
   },
   "outputs": [
    {
     "name": "stdout",
     "output_type": "stream",
     "text": [
      "4 days ago\n",
      "3 days ago\n",
      "3 days ago\n",
      "2 days ago\n",
      "3 days ago\n",
      "3 days ago\n",
      "16 hours ago\n",
      "3 days ago\n",
      "3 days ago\n",
      "3 days ago\n",
      "4 days ago\n",
      "2 days ago\n",
      "3 days ago\n",
      "3 days ago\n",
      "3 days ago\n",
      "3 days ago\n",
      "6 days ago\n",
      "3 days ago\n",
      "3 days ago\n",
      "11 days ago\n"
     ]
    }
   ],
   "source": [
    "for i in comments:\n",
    "    duration = i.find_element_by_css_selector(\"[class='Fz(12px) C(#828c93)']\").text\n",
    "    print(duration)"
   ]
  },
  {
   "cell_type": "markdown",
   "metadata": {
    "id": "kjiuK0I9PEFd"
   },
   "source": [
    "**Task 4: Close the driver**"
   ]
  },
  {
   "cell_type": "code",
   "execution_count": 7,
   "metadata": {
    "executionInfo": {
     "elapsed": 44534,
     "status": "ok",
     "timestamp": 1618562017422,
     "user": {
      "displayName": "ISOM3400 Instructor Google Class",
      "photoUrl": "",
      "userId": "10963748770099369781"
     },
     "user_tz": -480
    },
    "id": "kryyfZT8PHoj"
   },
   "outputs": [],
   "source": [
    "driver.close()"
   ]
  },
  {
   "cell_type": "code",
   "execution_count": 7,
   "metadata": {
    "executionInfo": {
     "elapsed": 44533,
     "status": "ok",
     "timestamp": 1618562017422,
     "user": {
      "displayName": "ISOM3400 Instructor Google Class",
      "photoUrl": "",
      "userId": "10963748770099369781"
     },
     "user_tz": -480
    },
    "id": "ckslQpplHw0z"
   },
   "outputs": [],
   "source": []
  }
 ],
 "metadata": {
  "colab": {
   "authorship_tag": "ABX9TyPbJZGRdmpLci2AXKlIll8n",
   "collapsed_sections": [],
   "name": "Practice_YahooFinance_IBM.ipynb",
   "provenance": []
  },
  "kernelspec": {
   "display_name": "Python 3",
   "language": "python",
   "name": "python3"
  },
  "language_info": {
   "codemirror_mode": {
    "name": "ipython",
    "version": 3
   },
   "file_extension": ".py",
   "mimetype": "text/x-python",
   "name": "python",
   "nbconvert_exporter": "python",
   "pygments_lexer": "ipython3",
   "version": "3.8.3"
  }
 },
 "nbformat": 4,
 "nbformat_minor": 1
}
