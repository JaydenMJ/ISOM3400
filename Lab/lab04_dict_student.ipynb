{
 "cells": [
  {
   "cell_type": "markdown",
   "metadata": {},
   "source": [
    "# Lab 4: Dictionaries"
   ]
  },
  {
   "cell_type": "markdown",
   "metadata": {},
   "source": [
    "# The `for` Statement\n",
    "\n",
    "\n",
    "A `for` statement allows for looping over sequences, processing them one item at a time.\n",
    "\n",
    "The simple form of a `for` loop is as follows:\n",
    "\n",
    "\n",
    " <br>\n",
    "\n",
    "<pre class=\"lang-python\">\n",
    "<span style=\"color:#2767C5\";>for</span> <span style=\"color:#BB2F29\";>&lt;variable&gt;</span> <span style=\"color:#2767C5\";>in</span> <span style=\"color:#BB2F29\";>&lt;iterable&gt;</span>:  \n",
    "\n",
    "    statement(s)                 <span style=\"font-style: italic; color:dark teal;\"># The break and continue statements also work the same here</span>\n",
    "\n",
    "following statements</pre>\n",
    "\n",
    "      \n",
    "<br>\n",
    "\n",
    "\n",
    "<img src=\"https://raw.githubusercontent.com/justinjiajia/img/master/python/forloop.png\" width=600/> \n"
   ]
  },
  {
   "cell_type": "markdown",
   "metadata": {},
   "source": [
    "# Parallel Traversals with **`zip()`**\n",
    "\n",
    "\n",
    "The built-in [`zip()`](https://docs.python.org/3/library/functions.html#zip) function allows us to use `for` loops to visit multiple sequences ***in parallel***.\n",
    "\n",
    "\n",
    "`zip()` takes one or more sequences as arguments and returns a series of tuples that pair up parallel items taken from those sequences:\n",
    "\n",
    "<img src=\"https://raw.githubusercontent.com/justinjiajia/img/master/python/zip1.svg\" width=500/>\n"
   ]
  },
  {
   "cell_type": "markdown",
   "metadata": {},
   "source": [
    "# How to implement logic into your code?\n",
    "\n",
    "\n",
    "In many cases, we want programs to have behaviors other than **sequential execution** of statements.\n",
    "\n",
    "For a bank to consider whether or not to offer someone a loan:"
   ]
  },
  {
   "cell_type": "markdown",
   "metadata": {},
   "source": [
    "\n",
    "| Name |  Income | Decision |\n",
    "|-----|-----|-----|\n",
    "| Amy | 27 | ? |\n",
    "\n",
    "<img src=\"https://raw.githubusercontent.com/justinjiajia/img/master/python/1dt.png\" width=500   style=\"float: left; \"  />\n",
    "\n",
    "Pseudo code:\n",
    "\n",
    "<pre>\n",
    "\n",
    "<span style=\"color:#2767C5\";>if</span> <span style=\"color:#BB2F29\";>income >= 30</span> <span style=\"color:#2767C5\";>=></span> approve\n",
    "\n",
    "<span style=\"color:#2767C5\";>else</span> <span style=\"color:#2767C5\";>=></span> reject\n",
    "\n",
    "</pre>"
   ]
  },
  {
   "cell_type": "markdown",
   "metadata": {},
   "source": [
    "# The `if` Statement\n",
    "\n",
    "\n",
    "The `if` statement tests a condition and acts on it depending on whether it's ***true*** or ***false***. \n",
    "\n",
    "The simplest form is as follows:"
   ]
  },
  {
   "cell_type": "markdown",
   "metadata": {},
   "source": [
    "\n",
    "<pre class=\"lang-python\">\n",
    "<span style=\"color:#2767C5\";>if</span> <span style=\"color:#BB2F29\";>&lt;condition&gt;</span>:             <span style=\"font-style: italic; color:dark teal;\"># The colon (:) is required</span>\n",
    "                            <span style=\"font-style: italic; color:dark teal;\"># Indentation is used to define a group of statements.</span>\n",
    "<div style=\" border-left: 6px solid red; background-color: #e8e9ea;\">  statement 1               \n",
    "  statement 2                  \n",
    "  ...\n",
    "  statement N</div>    \n",
    "following statement(s) \n",
    "</pre>"
   ]
  },
  {
   "cell_type": "markdown",
   "metadata": {},
   "source": [
    "# Task 1"
   ]
  },
  {
   "cell_type": "markdown",
   "metadata": {},
   "source": [
    "Print a dictionary \n",
    "\n",
    "(a) without using comprehension \n",
    "\n",
    "(b) with using comprehension\n",
    "\n",
    "where the keys are numbers between 1 and 50 (both included) and the values are cube of the keys.\n",
    "\n",
    "To stick with what you have learnt from class, you may want to utilise the following list:\n",
    "\n",
    ">listNum = [1,2,3,4,5,6,7,8,9,10,11,12,13,14,15,16,17,18,19,20,21,22,23,24,25,26,27,28,29,30,31,32,33,34,35,36,37,38,39,40,41,42,43,44,45,46,47,48,49,50]\n"
   ]
  },
  {
   "cell_type": "code",
   "execution_count": 3,
   "metadata": {},
   "outputs": [],
   "source": [
    "listNum = [1,2,3,4,5,6,7,8,9,10,11,12,13,14,15,16,17,18,19,20,21,22,23,24,25,26,27,28,29,30,31,32,33,34,35,36,37,38,39,40,41,42,43,44,45,46,47,48,49,50]"
   ]
  },
  {
   "cell_type": "code",
   "execution_count": 20,
   "metadata": {},
   "outputs": [],
   "source": [
    "result_dict={}\n",
    "\n",
    "for i in listNum:\n",
    "    result_dict[i]=i**3"
   ]
  },
  {
   "cell_type": "code",
   "execution_count": 21,
   "metadata": {
    "scrolled": true
   },
   "outputs": [
    {
     "name": "stdout",
     "output_type": "stream",
     "text": [
      "{1: 1, 2: 8, 3: 27, 4: 64, 5: 125, 6: 216, 7: 343, 8: 512, 9: 729, 10: 1000, 11: 1331, 12: 1728, 13: 2197, 14: 2744, 15: 3375, 16: 4096, 17: 4913, 18: 5832, 19: 6859, 20: 8000, 21: 9261, 22: 10648, 23: 12167, 24: 13824, 25: 15625, 26: 17576, 27: 19683, 28: 21952, 29: 24389, 30: 27000, 31: 29791, 32: 32768, 33: 35937, 34: 39304, 35: 42875, 36: 46656, 37: 50653, 38: 54872, 39: 59319, 40: 64000, 41: 68921, 42: 74088, 43: 79507, 44: 85184, 45: 91125, 46: 97336, 47: 103823, 48: 110592, 49: 117649, 50: 125000}\n"
     ]
    }
   ],
   "source": [
    "print(result_dict)"
   ]
  },
  {
   "cell_type": "code",
   "execution_count": 28,
   "metadata": {},
   "outputs": [
    {
     "name": "stdout",
     "output_type": "stream",
     "text": [
      "{1: 1, 2: 8, 3: 27, 4: 64, 5: 125, 6: 216, 7: 343, 8: 512, 9: 729, 10: 1000, 11: 1331, 12: 1728, 13: 2197, 14: 2744, 15: 3375, 16: 4096, 17: 4913, 18: 5832, 19: 6859, 20: 8000, 21: 9261, 22: 10648, 23: 12167, 24: 13824, 25: 15625, 26: 17576, 27: 19683, 28: 21952, 29: 24389, 30: 27000, 31: 29791, 32: 32768, 33: 35937, 34: 39304, 35: 42875, 36: 46656, 37: 50653, 38: 54872, 39: 59319, 40: 64000, 41: 68921, 42: 74088, 43: 79507, 44: 85184, 45: 91125, 46: 97336, 47: 103823, 48: 110592, 49: 117649, 50: 125000}\n"
     ]
    }
   ],
   "source": [
    "print({i:i**3 for i in listNum})"
   ]
  },
  {
   "cell_type": "code",
   "execution_count": 34,
   "metadata": {},
   "outputs": [
    {
     "name": "stdout",
     "output_type": "stream",
     "text": [
      "{1: 1, 2: 8, 3: 27, 4: 64, 5: 125, 6: 216, 7: 343, 8: 512, 9: 729, 10: 1000, 11: 1331, 12: 1728, 13: 2197, 14: 2744, 15: 3375, 16: 4096, 17: 4913, 18: 5832, 19: 6859, 20: 8000, 21: 9261, 22: 10648, 23: 12167, 24: 13824, 25: 15625, 26: 17576, 27: 19683, 28: 21952, 29: 24389, 30: 27000, 31: 29791, 32: 32768, 33: 35937, 34: 39304, 35: 42875, 36: 46656, 37: 50653, 38: 54872, 39: 59319, 40: 64000, 41: 68921, 42: 74088, 43: 79507, 44: 85184, 45: 91125, 46: 97336, 47: 103823, 48: 110592, 49: 117649, 50: 125000}\n"
     ]
    }
   ],
   "source": [
    "print({i:i**3 for i in range(1,51)})"
   ]
  },
  {
   "cell_type": "code",
   "execution_count": null,
   "metadata": {},
   "outputs": [],
   "source": []
  },
  {
   "cell_type": "markdown",
   "metadata": {},
   "source": [
    "# Task 2"
   ]
  },
  {
   "cell_type": "markdown",
   "metadata": {},
   "source": [
    "Consider the following two lists:\n",
    "\n",
    ">ustStu = ['intelligent','hard-working','passive','smart','selfish','brilliant','rude','boring']<br>\n",
    ">comment = ['ofcourse','nodoubt','disagree','agree','disagree','yup','disagree','disagree']\n",
    "\n",
    "(a) By using comprehension, combine useStu and comment (with ustStu as key and comment as value) into a dict named dictUstStu.\n",
    "\n",
    "Expected output:\n",
    ">{'intelligent': 'ofcourse', 'hard-working': 'nodoubt', 'passive': 'disagree', 'smart': 'agree', 'selfish': 'disagree', 'brilliant': 'yup', 'rude': 'disagree', 'boring': 'disagree'}\n",
    "\n",
    "(b) Use built-in function len() to check the length of dictUstStu\n",
    "\n",
    "(c) Apply **.clear()** to dictUstStu. What happens now? Can you print it out again? What is the length of the dict?\n",
    "\n",
    "(d) Run the following code, print the dict out and check it's length.\n",
    "\n",
    "> dictTest = {k:v for k,v in enumerate(ustStu)}\n",
    "\n",
    "(e) Apply **del** to dictTest. What happens now? Can you print it out again? What is the length of the dict?\n",
    "\n"
   ]
  },
  {
   "cell_type": "code",
   "execution_count": 22,
   "metadata": {},
   "outputs": [],
   "source": [
    "ustStu = ['intelligent','hard-working','passive','smart','selfish','brilliant','rude','boring']\n",
    "comment = ['ofcourse','nodoubt','disagree','agree','disagree','yup','disagree','disagree']"
   ]
  },
  {
   "cell_type": "code",
   "execution_count": 35,
   "metadata": {},
   "outputs": [
    {
     "name": "stdout",
     "output_type": "stream",
     "text": [
      "intelligent ofcourse\n",
      "hard-working nodoubt\n",
      "passive disagree\n",
      "smart agree\n",
      "selfish disagree\n",
      "brilliant yup\n",
      "rude disagree\n",
      "boring disagree\n"
     ]
    }
   ],
   "source": [
    "for k,v in zip(ustStu,comment):\n",
    "    print(k,v)"
   ]
  },
  {
   "cell_type": "code",
   "execution_count": 36,
   "metadata": {},
   "outputs": [],
   "source": [
    "dictUstStu={k:v for k,v in zip(ustStu,comment)}"
   ]
  },
  {
   "cell_type": "code",
   "execution_count": 38,
   "metadata": {
    "scrolled": true
   },
   "outputs": [
    {
     "name": "stdout",
     "output_type": "stream",
     "text": [
      "{'intelligent': 'ofcourse', 'hard-working': 'nodoubt', 'passive': 'disagree', 'smart': 'agree', 'selfish': 'disagree', 'brilliant': 'yup', 'rude': 'disagree', 'boring': 'disagree'}\n"
     ]
    }
   ],
   "source": [
    "print (dictUstStu)"
   ]
  },
  {
   "cell_type": "code",
   "execution_count": 40,
   "metadata": {},
   "outputs": [
    {
     "data": {
      "text/plain": [
       "8"
      ]
     },
     "execution_count": 40,
     "metadata": {},
     "output_type": "execute_result"
    }
   ],
   "source": [
    "len(dictUstStu)"
   ]
  },
  {
   "cell_type": "code",
   "execution_count": 41,
   "metadata": {},
   "outputs": [],
   "source": [
    "dictUstStu.clear()"
   ]
  },
  {
   "cell_type": "code",
   "execution_count": 42,
   "metadata": {},
   "outputs": [
    {
     "name": "stdout",
     "output_type": "stream",
     "text": [
      "{}\n"
     ]
    }
   ],
   "source": [
    "print (dictUstStu)"
   ]
  },
  {
   "cell_type": "code",
   "execution_count": 43,
   "metadata": {},
   "outputs": [
    {
     "data": {
      "text/plain": [
       "0"
      ]
     },
     "execution_count": 43,
     "metadata": {},
     "output_type": "execute_result"
    }
   ],
   "source": [
    "len(dictUstStu)"
   ]
  },
  {
   "cell_type": "code",
   "execution_count": 46,
   "metadata": {},
   "outputs": [
    {
     "name": "stdout",
     "output_type": "stream",
     "text": [
      "{0: 'intelligent', 1: 'hard-working', 2: 'passive', 3: 'smart', 4: 'selfish', 5: 'brilliant', 6: 'rude', 7: 'boring'}\n"
     ]
    }
   ],
   "source": [
    "dictTest = {k:v for k,v in enumerate(ustStu)}\n",
    "print(dictTest)"
   ]
  },
  {
   "cell_type": "code",
   "execution_count": 47,
   "metadata": {},
   "outputs": [],
   "source": [
    "del dictTest # completely delete the dict"
   ]
  },
  {
   "cell_type": "code",
   "execution_count": 48,
   "metadata": {},
   "outputs": [
    {
     "name": "stdout",
     "output_type": "stream",
     "text": [
      "{}\n"
     ]
    }
   ],
   "source": []
  },
  {
   "cell_type": "code",
   "execution_count": null,
   "metadata": {},
   "outputs": [],
   "source": []
  },
  {
   "cell_type": "markdown",
   "metadata": {},
   "source": [
    "# Task 3"
   ]
  },
  {
   "cell_type": "markdown",
   "metadata": {},
   "source": [
    "Consider the following dict:\n",
    "\n",
    ">ustPeople = {\n",
    "    \"Aries\":[\"Male\", 16, \"SBM\"],\n",
    "    \"Taurus\":[\"Female\", 20, \"SENG\"],\n",
    "    \"Gemini\":[\"Male\", 21, \"SHSS\"],\n",
    "    \"Cancer\":[\"Neutral\", 23, \"SSCI\"],\n",
    "    \"Virgo\":[\"Unknown\", 22, \"IPO\"]\n",
    "}\n",
    "\n",
    "From ustPeople, extract (i) Name (ii) Gender (iii) Age (iv) Program\n",
    "\n",
    "and store them into lists named **name**, **gender**, **age**, **program** respectively.\n"
   ]
  },
  {
   "cell_type": "code",
   "execution_count": 49,
   "metadata": {},
   "outputs": [],
   "source": [
    "ustPeople = { \"Aries\":[\"Male\", 16, \"SBM\"],\n",
    "             \"Taurus\":[\"Female\", 20, \"SENG\"],\n",
    "             \"Gemini\":[\"Male\", 21, \"SHSS\"],\n",
    "             \"Cancer\":[\"Neutral\", 23, \"SSCI\"],\n",
    "             \"Virgo\":[\"Unknown\", 22, \"IPO\"] }"
   ]
  },
  {
   "cell_type": "code",
   "execution_count": 50,
   "metadata": {},
   "outputs": [
    {
     "name": "stdout",
     "output_type": "stream",
     "text": [
      "Aries\n",
      "Taurus\n",
      "Gemini\n",
      "Cancer\n",
      "Virgo\n"
     ]
    }
   ],
   "source": [
    "for i in ustPeople:\n",
    "    print(i)"
   ]
  },
  {
   "cell_type": "code",
   "execution_count": 53,
   "metadata": {},
   "outputs": [
    {
     "name": "stdout",
     "output_type": "stream",
     "text": [
      "['Aries', 'Taurus', 'Gemini', 'Cancer', 'Virgo']\n"
     ]
    }
   ],
   "source": [
    "name=[name for name in ustPeople]\n",
    "print(name)"
   ]
  },
  {
   "cell_type": "code",
   "execution_count": 57,
   "metadata": {},
   "outputs": [
    {
     "name": "stdout",
     "output_type": "stream",
     "text": [
      "SBM\n",
      "SENG\n",
      "SHSS\n",
      "SSCI\n",
      "IPO\n"
     ]
    }
   ],
   "source": [
    "for i in ustPeople.values():\n",
    "    print(i[2])"
   ]
  },
  {
   "cell_type": "code",
   "execution_count": null,
   "metadata": {},
   "outputs": [],
   "source": []
  },
  {
   "cell_type": "code",
   "execution_count": 56,
   "metadata": {},
   "outputs": [
    {
     "name": "stdout",
     "output_type": "stream",
     "text": [
      "16\n",
      "20\n",
      "21\n",
      "23\n",
      "22\n"
     ]
    }
   ],
   "source": [
    "for gender,age,program in ustPeople.values():\n",
    "    print(age)"
   ]
  },
  {
   "cell_type": "code",
   "execution_count": 60,
   "metadata": {},
   "outputs": [],
   "source": [
    "sexfor=[gender for gender,age,program in ustPeople.values()]"
   ]
  },
  {
   "cell_type": "code",
   "execution_count": 61,
   "metadata": {},
   "outputs": [
    {
     "name": "stdout",
     "output_type": "stream",
     "text": [
      "['Male', 'Female', 'Male', 'Neutral', 'Unknown']\n"
     ]
    }
   ],
   "source": [
    "print(sexfor)"
   ]
  },
  {
   "cell_type": "code",
   "execution_count": 58,
   "metadata": {},
   "outputs": [],
   "source": [
    "sex=[i[0] for i in ustPeople.values()]"
   ]
  },
  {
   "cell_type": "code",
   "execution_count": 59,
   "metadata": {},
   "outputs": [
    {
     "name": "stdout",
     "output_type": "stream",
     "text": [
      "['Male', 'Female', 'Male', 'Neutral', 'Unknown']\n"
     ]
    }
   ],
   "source": [
    "print(sex)"
   ]
  },
  {
   "cell_type": "code",
   "execution_count": null,
   "metadata": {},
   "outputs": [],
   "source": []
  },
  {
   "cell_type": "code",
   "execution_count": null,
   "metadata": {},
   "outputs": [],
   "source": []
  },
  {
   "cell_type": "code",
   "execution_count": null,
   "metadata": {},
   "outputs": [],
   "source": []
  },
  {
   "cell_type": "markdown",
   "metadata": {},
   "source": [
    "# Task 4"
   ]
  },
  {
   "cell_type": "markdown",
   "metadata": {},
   "source": [
    "Run the code in the next cell.\n",
    "\n",
    "**Note: Utilise if-statement, for-loop and/ or comprehension in this question, do not hard-code it.**\n",
    "\n",
    "(a) Check the length of the dict.\n",
    "\n",
    "(b) Extract name and first appearance of all movies.\n",
    "\n",
    "(c) For each movie, extract the abilities and store them into a separate list.\n",
    "\n",
    "Expected output:\n",
    ">[['Superhuman strength', 'Superhuman breath', 'Rapid healing'], ['Genius intellect', 'Superhuman strength', 'Precognitive spider-sense ability']]\n"
   ]
  },
  {
   "cell_type": "code",
   "execution_count": 2,
   "metadata": {},
   "outputs": [
    {
     "name": "stdout",
     "output_type": "stream",
     "text": [
      "[{'name': 'Superman', 'First appearance': 1938, 'Place of origin': 'Kryptonopolis (Krypton)', 'partnerships': ['Supergirl', 'Superboy', 'Batman', 'Wonder Woman'], 'Abilities': ['Superhuman strength', 'Superhuman breath', 'Rapid healing']}, {'name': 'Spider-Man', 'First appearance': 1962, 'Place of origin': 'Queens, New York City', 'partnerships': ['Spider-Woman', 'Black Cat', 'Deadpool', 'Iron Man'], 'Abilities': ['Genius intellect', 'Superhuman strength', 'Precognitive spider-sense ability']}]\n"
     ]
    }
   ],
   "source": [
    "data = {\n",
    "    \"Super-hero\": [\n",
    "        {\n",
    "            \"name\": \"Superman\",\n",
    "            \"First appearance\": 1938,\n",
    "            \"Place of origin\": \"Kryptonopolis (Krypton)\",\n",
    "            \"partnerships\": [\n",
    "                \"Supergirl\",\n",
    "                \"Superboy\",\n",
    "                \"Batman\",\n",
    "                \"Wonder Woman\"\n",
    "            ],\n",
    "            \"Abilities\": [\n",
    "                \"Superhuman strength\",\n",
    "                \"Superhuman breath\",\n",
    "                \"Rapid healing\"\n",
    "            ]\n",
    "        },\n",
    "        {\n",
    "            \"name\": \"Spider-Man\",\n",
    "            \"First appearance\": 1962,\n",
    "            \"Place of origin\": \"Queens, New York City\",\n",
    "            \"partnerships\": [\n",
    "                \"Spider-Woman\",\n",
    "                \"Black Cat\",\n",
    "                \"Deadpool\",\n",
    "                \"Iron Man\"\n",
    "            ],\n",
    "            \"Abilities\": [\n",
    "                \"Genius intellect\",\n",
    "                \"Superhuman strength\",\n",
    "                \"Precognitive spider-sense ability\"\n",
    "            ]\n",
    "        }\n",
    "    ]\n",
    "}\n",
    "\n",
    "\n",
    "data_list = data[\"Super-hero\"]\n",
    "\n",
    "print(data_list)"
   ]
  },
  {
   "cell_type": "code",
   "execution_count": 63,
   "metadata": {
    "scrolled": true
   },
   "outputs": [
    {
     "name": "stdout",
     "output_type": "stream",
     "text": [
      "the length 1\n"
     ]
    }
   ],
   "source": [
    "print(\"the length\", len(data))"
   ]
  },
  {
   "cell_type": "code",
   "execution_count": 70,
   "metadata": {},
   "outputs": [
    {
     "name": "stdout",
     "output_type": "stream",
     "text": [
      "[{'name': 'Superman', 'First appearance': 1938, 'Place of origin': 'Kryptonopolis (Krypton)', 'partnerships': ['Supergirl', 'Superboy', 'Batman', 'Wonder Woman'], 'Abilities': ['Superhuman strength', 'Superhuman breath', 'Rapid healing']}, {'name': 'Spider-Man', 'First appearance': 1962, 'Place of origin': 'Queens, New York City', 'partnerships': ['Spider-Woman', 'Black Cat', 'Deadpool', 'Iron Man'], 'Abilities': ['Genius intellect', 'Superhuman strength', 'Precognitive spider-sense ability']}]\n"
     ]
    }
   ],
   "source": [
    "for i in data.values():\n",
    "    print(i)"
   ]
  },
  {
   "cell_type": "code",
   "execution_count": 71,
   "metadata": {
    "scrolled": true
   },
   "outputs": [
    {
     "name": "stdout",
     "output_type": "stream",
     "text": [
      "{'name': 'Superman', 'First appearance': 1938, 'Place of origin': 'Kryptonopolis (Krypton)', 'partnerships': ['Supergirl', 'Superboy', 'Batman', 'Wonder Woman'], 'Abilities': ['Superhuman strength', 'Superhuman breath', 'Rapid healing']}\n",
      "{'name': 'Spider-Man', 'First appearance': 1962, 'Place of origin': 'Queens, New York City', 'partnerships': ['Spider-Woman', 'Black Cat', 'Deadpool', 'Iron Man'], 'Abilities': ['Genius intellect', 'Superhuman strength', 'Precognitive spider-sense ability']}\n"
     ]
    }
   ],
   "source": [
    "for info in data_list:\n",
    "    print(info)"
   ]
  },
  {
   "cell_type": "code",
   "execution_count": 8,
   "metadata": {},
   "outputs": [
    {
     "name": "stdout",
     "output_type": "stream",
     "text": [
      "Superman\n",
      "1938\n",
      "Spider-Man\n",
      "1962\n"
     ]
    }
   ],
   "source": [
    "for info in data_list:\n",
    "    print(info[\"name\"])\n",
    "    print(info[\"First appearance\"])"
   ]
  },
  {
   "cell_type": "code",
   "execution_count": 12,
   "metadata": {},
   "outputs": [
    {
     "name": "stdout",
     "output_type": "stream",
     "text": [
      "['Genius intellect', 'Superhuman strength', 'Precognitive spider-sense ability']\n"
     ]
    }
   ],
   "source": [
    "print(info[\"Abilities\"])"
   ]
  },
  {
   "cell_type": "code",
   "execution_count": 15,
   "metadata": {},
   "outputs": [],
   "source": [
    "ability=[info[\"Abilities\"] for info in data_list]"
   ]
  },
  {
   "cell_type": "code",
   "execution_count": 17,
   "metadata": {},
   "outputs": [
    {
     "name": "stdout",
     "output_type": "stream",
     "text": [
      "[['Superhuman strength', 'Superhuman breath', 'Rapid healing'], ['Genius intellect', 'Superhuman strength', 'Precognitive spider-sense ability']]\n"
     ]
    }
   ],
   "source": [
    "print(ability)"
   ]
  },
  {
   "cell_type": "code",
   "execution_count": null,
   "metadata": {},
   "outputs": [],
   "source": []
  },
  {
   "cell_type": "code",
   "execution_count": null,
   "metadata": {},
   "outputs": [],
   "source": []
  },
  {
   "cell_type": "code",
   "execution_count": null,
   "metadata": {},
   "outputs": [],
   "source": []
  }
 ],
 "metadata": {
  "kernelspec": {
   "display_name": "Python 3",
   "language": "python",
   "name": "python3"
  },
  "language_info": {
   "codemirror_mode": {
    "name": "ipython",
    "version": 3
   },
   "file_extension": ".py",
   "mimetype": "text/x-python",
   "name": "python",
   "nbconvert_exporter": "python",
   "pygments_lexer": "ipython3",
   "version": "3.8.3"
  }
 },
 "nbformat": 4,
 "nbformat_minor": 4
}
