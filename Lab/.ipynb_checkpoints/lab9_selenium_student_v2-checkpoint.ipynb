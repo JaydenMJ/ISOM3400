{
 "cells": [
  {
   "cell_type": "markdown",
   "metadata": {},
   "source": [
    "# Lab 9: Selenium"
   ]
  },
  {
   "cell_type": "markdown",
   "metadata": {},
   "source": [
    "# Task 0"
   ]
  },
  {
   "cell_type": "markdown",
   "metadata": {},
   "source": [
    "Assume that you put the ChromeDriver together with this lab file in the same folder, run the codes in the following two code cells. Do you receive any error?"
   ]
  },
  {
   "cell_type": "code",
   "execution_count": 89,
   "metadata": {},
   "outputs": [],
   "source": [
    "from selenium import webdriver"
   ]
  },
  {
   "cell_type": "code",
   "execution_count": 90,
   "metadata": {},
   "outputs": [],
   "source": [
    "driver = webdriver.Chrome('./chromedriver')"
   ]
  },
  {
   "cell_type": "markdown",
   "metadata": {},
   "source": [
    "If so, **do not** move on to Task 1.\n",
    "\n",
    "Please download the manual from Canvas, properly install Selenium and the ChromeDriver into your computer before spending time on the tasks."
   ]
  },
  {
   "cell_type": "markdown",
   "metadata": {},
   "source": [
    "## DO NOT MOVE TO TASK 1 UNTIL YOU FIX THE PROBLEMS"
   ]
  },
  {
   "cell_type": "markdown",
   "metadata": {},
   "source": [
    "## READY?"
   ]
  },
  {
   "cell_type": "markdown",
   "metadata": {},
   "source": [
    "# Task 1"
   ]
  },
  {
   "cell_type": "markdown",
   "metadata": {},
   "source": [
    "Launch the ChromeDriver, drive the ChromeDriver to open amazon(i.e. `https://www.amazon.com/`) and read in the source code."
   ]
  },
  {
   "cell_type": "code",
   "execution_count": 92,
   "metadata": {},
   "outputs": [],
   "source": [
    "from selenium import webdriver\n",
    "driver = webdriver.Chrome('./chromedriver')\n",
    "driver.get('https://www.amazon.com/?language=en_US')"
   ]
  },
  {
   "cell_type": "markdown",
   "metadata": {},
   "source": [
    "# Task 2"
   ]
  },
  {
   "cell_type": "markdown",
   "metadata": {},
   "source": [
    "(a) You should see a header `Sign in for the best experience` and there is a button `Sign in securely` under it. Utilise `find_element_by_link_text` to search for it and click on it. Then go back to the homepage.\n",
    "\n",
    "(b) Right below the search bar is a navigator bar that includes \"Today's Deals\", \"Customer Service\" etc. Utilise `find_element_by_partial_link_text` to search for `Today's Deals` and click on it to see what is selling on Amazon. Minimize the window and go back to the homepage afterwards.\n",
    "\n",
    "(c) Maximize the window and refresh it, is there anything different? Particularly the goods recommended to you.\n"
   ]
  },
  {
   "cell_type": "code",
   "execution_count": 44,
   "metadata": {},
   "outputs": [],
   "source": [
    "driver.find_element_by_link_text('Sign in securely').click()\n"
   ]
  },
  {
   "cell_type": "code",
   "execution_count": 51,
   "metadata": {},
   "outputs": [],
   "source": [
    "driver.find_element_by_partial_link_text('Today').click()\n",
    "driver.minimize_window()\n",
    "driver.refresh()"
   ]
  },
  {
   "cell_type": "code",
   "execution_count": 52,
   "metadata": {},
   "outputs": [],
   "source": [
    "driver.back()"
   ]
  },
  {
   "cell_type": "markdown",
   "metadata": {},
   "source": [
    "# Task 3"
   ]
  },
  {
   "cell_type": "markdown",
   "metadata": {},
   "source": [
    "(a) Use `find_element_by_name` and locate the search bar, input `hand sanitizer`.\n",
    "\n",
    "(b) Replace `hand sanitizer` with `Mask`. Utilise `send_keys` to load subsequent slide.\n",
    "\n",
    "(c) On the left you can show a bunch of options to filter the masks searched. Utilise `find_element_by_id` to locate the minimum price input box and input `10`.\n",
    "\n",
    "(d) Utilise `find_element_by_xpath` to locate the maximum price input box and input `20`. Press the `Go` button using xpath as well.\n"
   ]
  },
  {
   "cell_type": "code",
   "execution_count": 104,
   "metadata": {},
   "outputs": [],
   "source": [
    "search_bar=driver.find_element_by_name(\"field-keywords\")"
   ]
  },
  {
   "cell_type": "code",
   "execution_count": 96,
   "metadata": {},
   "outputs": [],
   "source": [
    "search_bar.send_keys('hand sanitizer')\n",
    "driver.find_element_by_id('nav-search-submit-button').click()"
   ]
  },
  {
   "cell_type": "code",
   "execution_count": 105,
   "metadata": {},
   "outputs": [],
   "source": [
    "search_bar=driver.find_element_by_name(\"field-keywords\")\n",
    "search_bar.clear()\n",
    "search_bar.send_keys(\"mask\")\n",
    "#driver.find_element_by_id('nav-search-submit-button').click()"
   ]
  },
  {
   "cell_type": "code",
   "execution_count": 106,
   "metadata": {},
   "outputs": [],
   "source": [
    "from selenium.webdriver.common.keys import Keys\n",
    "search_bar.send_keys(Keys.RETURN)"
   ]
  },
  {
   "cell_type": "code",
   "execution_count": null,
   "metadata": {},
   "outputs": [],
   "source": [
    "driver.find_element_by_id(\"low-price\")"
   ]
  },
  {
   "cell_type": "code",
   "execution_count": 112,
   "metadata": {},
   "outputs": [],
   "source": [
    "driver.find_element_by_xpath('//*[@id=\"low-price\"]').send_keys('10')\n",
    "\n",
    "#driver.find_element_by_xpath('//*[@id=\"low-price\"]').send_keysd_keys(Keys.RETURN)\n",
    "driver.find_element_by_xpath('//*[@id=\"a-autoid-1\"]/span/input').click()"
   ]
  },
  {
   "cell_type": "code",
   "execution_count": null,
   "metadata": {},
   "outputs": [],
   "source": [
    "driver.find_element_by_xpath('//*[@id=\"low-price\"]').clear()"
   ]
  },
  {
   "cell_type": "markdown",
   "metadata": {},
   "source": [
    "# Task 4"
   ]
  },
  {
   "cell_type": "markdown",
   "metadata": {},
   "source": [
    "(a) From the filtered result, click on the first product using `find_element_by_css_selector`.\n",
    "\n",
    "(b) Apply `find_element_by_tag_name(\"button\").click()` and run. What happens? (Note: It may not work)\n",
    "\n",
    "(c) Use whatever method except direct copy & paste, extract the product title and print it out.\n",
    "\n",
    "(d) Close the browser window.\n"
   ]
  },
  {
   "cell_type": "code",
   "execution_count": 115,
   "metadata": {},
   "outputs": [],
   "source": [
    "driver.find_element_by_css_selector('#search > div.s-desktop-width-max.s-opposite-dir > div > div.s-matching-dir.sg-col-16-of-20.sg-col.sg-col-8-of-12.sg-col-12-of-16 > div > span:nth-child(4) > div.s-main-slot.s-result-list.s-search-results.sg-row > div:nth-child(3) > div > span > div > div > div > div > div:nth-child(3) > h2 > a > span').click()"
   ]
  },
  {
   "cell_type": "code",
   "execution_count": 114,
   "metadata": {},
   "outputs": [
    {
     "name": "stdout",
     "output_type": "stream",
     "text": [
      "KN95 Face Mask 25 Pack, Filter Efficiency≥95%, WWDOLL 5-Ply Black KN95 Masks Protection Against PM2.5 Dust, Pollen and Haze-Proof KN95 Mask Black\n"
     ]
    }
   ],
   "source": [
    "print(driver.find_element_by_id(\"productTitle\").text)"
   ]
  },
  {
   "cell_type": "code",
   "execution_count": 37,
   "metadata": {},
   "outputs": [],
   "source": [
    "driver.close()"
   ]
  },
  {
   "cell_type": "code",
   "execution_count": null,
   "metadata": {},
   "outputs": [],
   "source": []
  }
 ],
 "metadata": {
  "kernelspec": {
   "display_name": "Python 3",
   "language": "python",
   "name": "python3"
  },
  "language_info": {
   "codemirror_mode": {
    "name": "ipython",
    "version": 3
   },
   "file_extension": ".py",
   "mimetype": "text/x-python",
   "name": "python",
   "nbconvert_exporter": "python",
   "pygments_lexer": "ipython3",
   "version": "3.8.3"
  }
 },
 "nbformat": 4,
 "nbformat_minor": 4
}
