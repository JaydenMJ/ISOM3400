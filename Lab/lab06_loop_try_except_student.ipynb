{
 "cells": [
  {
   "cell_type": "markdown",
   "metadata": {},
   "source": [
    "# Lab 6: for-loop, while-loop, try-except"
   ]
  },
  {
   "cell_type": "markdown",
   "metadata": {},
   "source": [
    "# Task 1 (Re-visit)"
   ]
  },
  {
   "cell_type": "markdown",
   "metadata": {},
   "source": [
    "Run the code in the next cell.\n",
    "\n",
    "**Note: Do not hard-code it, do not use comprehension. Write a nested for-loop to solve this task.**\n",
    "\n",
    "(a) Extract name and first appearance of all movies.\n",
    "\n",
    "(b) For each movie, extract the abilities and store them into a separate list.\n",
    "\n",
    "Expected output:\n",
    ">[['Superhuman strength', 'Superhuman breath', 'Rapid healing'], ['Genius intellect', 'Superhuman strength', 'Precognitive spider-sense ability']]\n",
    "\n",
    "(c) From (a) and (b), you can see the importance of knowing the right key when you want to get the corresponding value out. What will happen if a wrong key is input by accident, e.g.**<font color='red'>a</font>bilities** instead of **<font color='red'>A</font>bilities**? How about wrong loop variable, e.g. **<font color='red'>k</font>** instead of **<font color='red'>i</font>** when you execute `for i in data_list:`?\n",
    "\n",
    "(d) Incorporate try-except to the code in (c) and see what will happen."
   ]
  },
  {
   "cell_type": "code",
   "execution_count": 1,
   "metadata": {},
   "outputs": [
    {
     "name": "stdout",
     "output_type": "stream",
     "text": [
      "[{'name': 'Superman', 'First appearance': 1938, 'Place of origin': 'Kryptonopolis (Krypton)', 'partnerships': ['Supergirl', 'Superboy', 'Batman', 'Wonder Woman'], 'Abilities': ['Superhuman strength', 'Superhuman breath', 'Rapid healing']}, {'name': 'Spider-Man', 'First appearance': 1962, 'Place of origin': 'Queens, New York City', 'partnerships': ['Spider-Woman', 'Black Cat', 'Deadpool', 'Iron Man'], 'Abilities': ['Genius intellect', 'Superhuman strength', 'Precognitive spider-sense ability']}]\n"
     ]
    }
   ],
   "source": [
    "data = {\n",
    "    \"Super-hero\": [\n",
    "        {\n",
    "            \"name\": \"Superman\",\n",
    "            \"First appearance\": 1938,\n",
    "            \"Place of origin\": \"Kryptonopolis (Krypton)\",\n",
    "            \"partnerships\": [\n",
    "                \"Supergirl\",\n",
    "                \"Superboy\",\n",
    "                \"Batman\",\n",
    "                \"Wonder Woman\"\n",
    "            ],\n",
    "            \"Abilities\": [\n",
    "                \"Superhuman strength\",\n",
    "                \"Superhuman breath\",\n",
    "                \"Rapid healing\"\n",
    "            ]\n",
    "        },\n",
    "        {\n",
    "            \"name\": \"Spider-Man\",\n",
    "            \"First appearance\": 1962,\n",
    "            \"Place of origin\": \"Queens, New York City\",\n",
    "            \"partnerships\": [\n",
    "                \"Spider-Woman\",\n",
    "                \"Black Cat\",\n",
    "                \"Deadpool\",\n",
    "                \"Iron Man\"\n",
    "            ],\n",
    "            \"Abilities\": [\n",
    "                \"Genius intellect\",\n",
    "                \"Superhuman strength\",\n",
    "                \"Precognitive spider-sense ability\"\n",
    "            ]\n",
    "        }\n",
    "    ]\n",
    "}\n",
    "\n",
    "\n",
    "data_list = data[\"Super-hero\"]\n",
    "\n",
    "print(data_list)"
   ]
  },
  {
   "cell_type": "code",
   "execution_count": 8,
   "metadata": {},
   "outputs": [
    {
     "name": "stdout",
     "output_type": "stream",
     "text": [
      "Name:  Superman\n",
      "First appearance:  1938\n",
      "Name:  Spider-Man\n",
      "First appearance:  1962\n"
     ]
    }
   ],
   "source": [
    "for i in data_list:\n",
    "    for j in i:\n",
    "        if j==\"name\":\n",
    "            print(\"Name: \", i[j])\n",
    "        elif j==\"First appearance\":\n",
    "            print(\"First appearance: \",i[j])\n",
    "        "
   ]
  },
  {
   "cell_type": "code",
   "execution_count": 10,
   "metadata": {},
   "outputs": [
    {
     "name": "stdout",
     "output_type": "stream",
     "text": [
      "Name:  Superman\n",
      "First appearance:  1938\n",
      "Name:  Spider-Man\n",
      "First appearance:  1962\n"
     ]
    }
   ],
   "source": [
    "for i in data_list:\n",
    "    print(\"Name: \",i[\"name\"])\n",
    "    print(\"First appearance: \",i[\"First appearance\"])"
   ]
  },
  {
   "cell_type": "code",
   "execution_count": 11,
   "metadata": {},
   "outputs": [
    {
     "name": "stdout",
     "output_type": "stream",
     "text": [
      "[['Superhuman strength', 'Superhuman breath', 'Rapid healing'], ['Genius intellect', 'Superhuman strength', 'Precognitive spider-sense ability']]\n"
     ]
    }
   ],
   "source": [
    "listb=[]\n",
    "\n",
    "for i in data_list:\n",
    "    for j in i:\n",
    "        if j==\"Abilities\":\n",
    "            listb.append(i[j])\n",
    "print(listb)"
   ]
  },
  {
   "cell_type": "code",
   "execution_count": 13,
   "metadata": {},
   "outputs": [
    {
     "name": "stdout",
     "output_type": "stream",
     "text": [
      "[['Superhuman strength', 'Superhuman breath', 'Rapid healing'], ['Genius intellect', 'Superhuman strength', 'Precognitive spider-sense ability']]\n"
     ]
    }
   ],
   "source": [
    "listb=[]\n",
    "\n",
    "for i in data_list:\n",
    "        listb.append(i[\"Abilities\"])\n",
    "print(listb)"
   ]
  },
  {
   "cell_type": "code",
   "execution_count": 14,
   "metadata": {},
   "outputs": [
    {
     "ename": "NameError",
     "evalue": "name 'k' is not defined",
     "output_type": "error",
     "traceback": [
      "\u001b[1;31m---------------------------------------------------------------------------\u001b[0m",
      "\u001b[1;31mNameError\u001b[0m                                 Traceback (most recent call last)",
      "\u001b[1;32m<ipython-input-14-1ab452c57270>\u001b[0m in \u001b[0;36m<module>\u001b[1;34m\u001b[0m\n\u001b[1;32m----> 1\u001b[1;33m \u001b[0mk\u001b[0m\u001b[1;33m[\u001b[0m\u001b[1;34m\"Abilities\"\u001b[0m\u001b[1;33m]\u001b[0m\u001b[1;33m\u001b[0m\u001b[1;33m\u001b[0m\u001b[0m\n\u001b[0m",
      "\u001b[1;31mNameError\u001b[0m: name 'k' is not defined"
     ]
    }
   ],
   "source": [
    "k[\"Abilities\"]"
   ]
  },
  {
   "cell_type": "code",
   "execution_count": 15,
   "metadata": {},
   "outputs": [
    {
     "ename": "KeyError",
     "evalue": "'abilities'",
     "output_type": "error",
     "traceback": [
      "\u001b[1;31m---------------------------------------------------------------------------\u001b[0m",
      "\u001b[1;31mKeyError\u001b[0m                                  Traceback (most recent call last)",
      "\u001b[1;32m<ipython-input-15-5596257f2ebc>\u001b[0m in \u001b[0;36m<module>\u001b[1;34m\u001b[0m\n\u001b[1;32m----> 1\u001b[1;33m \u001b[0mi\u001b[0m\u001b[1;33m[\u001b[0m\u001b[1;34m\"abilities\"\u001b[0m\u001b[1;33m]\u001b[0m\u001b[1;33m\u001b[0m\u001b[1;33m\u001b[0m\u001b[0m\n\u001b[0m",
      "\u001b[1;31mKeyError\u001b[0m: 'abilities'"
     ]
    }
   ],
   "source": [
    "i[\"abilities\"]"
   ]
  },
  {
   "cell_type": "code",
   "execution_count": 19,
   "metadata": {},
   "outputs": [
    {
     "name": "stdout",
     "output_type": "stream",
     "text": [
      "Key error\n"
     ]
    }
   ],
   "source": [
    "try:\n",
    "    for i in data_list:\n",
    "        print(i[\"abilities\"])\n",
    "        print(\"Hello\")\n",
    "except :\n",
    "    print(\"Key error\")"
   ]
  },
  {
   "cell_type": "code",
   "execution_count": null,
   "metadata": {},
   "outputs": [],
   "source": []
  },
  {
   "cell_type": "code",
   "execution_count": null,
   "metadata": {},
   "outputs": [],
   "source": []
  },
  {
   "cell_type": "code",
   "execution_count": null,
   "metadata": {},
   "outputs": [],
   "source": []
  },
  {
   "cell_type": "markdown",
   "metadata": {},
   "source": [
    "# Task 2"
   ]
  },
  {
   "cell_type": "markdown",
   "metadata": {},
   "source": [
    "For integers from 1 to 500,\n",
    "\n",
    "(a) Store all values that are divisible by 5 but do not include multiples of 10 into a list **list_2**, using at most 1 for-loop and 1 if-statement.\n",
    "\n",
    "(b) Verify that all elements in list_2 are smaller than 500 using a for-else statement. Print out `All elements are smaller than 500!` if all elements indeed are smaller than 500.\n"
   ]
  },
  {
   "cell_type": "code",
   "execution_count": 20,
   "metadata": {},
   "outputs": [
    {
     "name": "stdout",
     "output_type": "stream",
     "text": [
      "[5, 15, 25, 35, 45, 55, 65, 75, 85, 95, 105, 115, 125, 135, 145, 155, 165, 175, 185, 195, 205, 215, 225, 235, 245, 255, 265, 275, 285, 295, 305, 315, 325, 335, 345, 355, 365, 375, 385, 395, 405, 415, 425, 435, 445, 455, 465, 475, 485, 495]\n"
     ]
    }
   ],
   "source": [
    "list_2=[]\n",
    "for i in range(5,500,5):\n",
    "    if i%10==0:\n",
    "        continue\n",
    "    else:\n",
    "        list_2.append(i)\n",
    "print(list_2)"
   ]
  },
  {
   "cell_type": "code",
   "execution_count": 23,
   "metadata": {},
   "outputs": [
    {
     "name": "stdout",
     "output_type": "stream",
     "text": [
      "B\n"
     ]
    }
   ],
   "source": [
    "for i in list_2:\n",
    "    if i>500:\n",
    "        print(\"A\")\n",
    "        break\n",
    "else:\n",
    "    print(\"B\")"
   ]
  },
  {
   "cell_type": "markdown",
   "metadata": {},
   "source": [
    "# Task 3"
   ]
  },
  {
   "cell_type": "markdown",
   "metadata": {},
   "source": [
    "Consider a random integer, that you never know until you run the program. The value will be stored into a variable `n`, say `n = 10000`,\n",
    "\n",
    "(a) Write a while-loop and search for the first 20 numbers in descending order (i.e. start from 10,000) that are divisible by 3, 7 and 13, and store them into a list **list_3a**.\n",
    "\n",
    "(b) Print out the value of `n`, what does it tell you about while loop?\n",
    "\n",
    "(c) Starting from the value `n` you printed out in (b), search again for the first number in descending order that is divisible by 2, 17 and 23.\n",
    "\n"
   ]
  },
  {
   "cell_type": "code",
   "execution_count": 26,
   "metadata": {},
   "outputs": [
    {
     "name": "stdout",
     "output_type": "stream",
     "text": [
      "while loop is done\n",
      "[9828, 9555, 9282, 9009, 8736, 8463, 8190, 7917, 7644, 7371, 7098, 6825, 6552, 6279, 6006, 5733, 5460, 5187, 4914, 4641]\n"
     ]
    }
   ],
   "source": [
    "n=10000\n",
    "list3=[]\n",
    "\n",
    "while len(list3)<20:\n",
    "    if n%3==0 and n%7==0 and n%13==0:\n",
    "        list3.append(n)\n",
    "    n-=1\n",
    "    \n",
    "print(\"while loop is done\")\n",
    "print(list3)"
   ]
  },
  {
   "cell_type": "code",
   "execution_count": 27,
   "metadata": {},
   "outputs": [
    {
     "name": "stdout",
     "output_type": "stream",
     "text": [
      "4640\n"
     ]
    }
   ],
   "source": [
    "print(n)"
   ]
  },
  {
   "cell_type": "code",
   "execution_count": null,
   "metadata": {},
   "outputs": [],
   "source": []
  }
 ],
 "metadata": {
  "kernelspec": {
   "display_name": "Python 3",
   "language": "python",
   "name": "python3"
  },
  "language_info": {
   "codemirror_mode": {
    "name": "ipython",
    "version": 3
   },
   "file_extension": ".py",
   "mimetype": "text/x-python",
   "name": "python",
   "nbconvert_exporter": "python",
   "pygments_lexer": "ipython3",
   "version": "3.8.3"
  }
 },
 "nbformat": 4,
 "nbformat_minor": 4
}
