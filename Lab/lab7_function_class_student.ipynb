{
 "cells": [
  {
   "cell_type": "markdown",
   "metadata": {},
   "source": [
    "# Lab 7: Functions and Classes"
   ]
  },
  {
   "cell_type": "markdown",
   "metadata": {},
   "source": [
    "# Task 1"
   ]
  },
  {
   "cell_type": "markdown",
   "metadata": {},
   "source": [
    "Define a function **sphone_info** that takes in following arguments:\n",
    "1. sphone_name: Smartphone's name, String\n",
    "2. sphone_brand: Smartphone's brand, String\n",
    "3. sphone_os: Operating system, String\n",
    "4. sphone_year: When the smartphone is released, int\n",
    "\n",
    "Such that when the fuction is called,e.g. `sphone_info(\"iPhone 12 Pro Max\", \"Apple\", \"iOS\", 2020)`, the smartphone's information will be printed out.\n"
   ]
  },
  {
   "cell_type": "code",
   "execution_count": 4,
   "metadata": {},
   "outputs": [
    {
     "name": "stdout",
     "output_type": "stream",
     "text": [
      "Name\tiPhone 12 Pro Max\n",
      "Brand:\tApple\n",
      "OS:\tiOS\n",
      "Year:\t2020\n"
     ]
    }
   ],
   "source": [
    "def sphone_info(sphone_name,sphone_brand,sphone_os,sphone_year):\n",
    "    #print(\"Name\\t{}\\nBrand:\\t{}\\nOS:\\t{}.format(sphone_name,sphone_brand,sphone_os,sphone_year)\")\n",
    "    print(f\"Name\\t{sphone_name}\\nBrand:\\t{sphone_brand}\\nOS:\\t{sphone_os}\\nYear:\\t{sphone_year}\")\n",
    "    \n",
    "    \n",
    "    \n",
    "sphone_info(\"iPhone 12 Pro Max\", \"Apple\", \"iOS\", 2020)\n",
    "    \n",
    "    \n",
    "    \n",
    "    "
   ]
  },
  {
   "cell_type": "markdown",
   "metadata": {},
   "source": [
    "# Task 2"
   ]
  },
  {
   "cell_type": "markdown",
   "metadata": {},
   "source": [
    "Create a class **SPHONE**, then\n",
    "\n",
    "(a) Add one more function **sphone_initialize** such that\n",
    "\n",
    "- After an object is created, all 4 attributes/ properties (name, brand, os and year) are initialized by calling this function\n",
    "\n",
    "(b) Integrate the function **sphone_info** created in Task 1 into the class. Modify the function such that:\n",
    "\n",
    "- The function does not need to take in any argument and still be able to print out the object's attributes\n",
    "\n",
    "(c) If you do not call **sphone_info**, is it possible to print out the object's attributes?\n",
    "\n",
    "Afterwards, create an object `i12promax = SPHONE()` and `i12promax.sphone_initialize(\"iPhone 12 Pro Max\", \"Apple\", \"iOS\", 2020)` to verify your work.\n",
    "\n"
   ]
  },
  {
   "cell_type": "code",
   "execution_count": 22,
   "metadata": {},
   "outputs": [
    {
     "name": "stdout",
     "output_type": "stream",
     "text": [
      "Name:\tiPhone 12 Pro Max\n",
      "Brand:\tApple\n",
      "OS:\tiOS\n",
      "Year:\t2020\n"
     ]
    }
   ],
   "source": [
    "class SPHONE:\n",
    "    #constructor \n",
    "    \n",
    "    def __init__(self,sphone_name,sphone_brand,sphone_os,sphone_year):\n",
    "        self.p_name = sphone_name\n",
    "        self.p_brand = sphone_brand\n",
    "        self.p_os = sphone_os\n",
    "        self.p_yes = sphone_year\n",
    "        \n",
    "    def show_info(self):\n",
    "        print(f\"Name:\\t{self.p_name}\\nBrand:\\t{self.p_brand}\\nOS:\\t{self.p_os}\\nYear:\\t{self.p_yes}\")\n",
    "    \n",
    "    def show_info2(self):\n",
    "        print(f\"Name\\t{self.p_name}\")\n",
    "     \n",
    "    def show_info3(self):\n",
    "        print(f\"Brand\\t{self.p_brand}\")\n",
    "myphone1=SPHONE(\"iPhone 12 Pro Max\", \"Apple\", \"iOS\", 2020)\n",
    "myphone1.show_info()   "
   ]
  },
  {
   "cell_type": "code",
   "execution_count": 12,
   "metadata": {},
   "outputs": [
    {
     "name": "stdout",
     "output_type": "stream",
     "text": [
      "Name\tiPhone 12 Pro Max\n",
      "Brand:\tApple\n",
      "OS:\tiOS\n",
      "Year:\t2020\n"
     ]
    }
   ],
   "source": [
    "myphone1.sphone_info(\"iPhone 12 Pro Max\", \"Apple\", \"iOS\", 2020)"
   ]
  },
  {
   "cell_type": "code",
   "execution_count": null,
   "metadata": {},
   "outputs": [],
   "source": []
  },
  {
   "cell_type": "markdown",
   "metadata": {},
   "source": [
    "# Task 3"
   ]
  },
  {
   "cell_type": "markdown",
   "metadata": {},
   "source": [
    "Modify **SPHONE** such that\n",
    "\n",
    "1. All 4 attributes/ properties (name, brand, os and year) are initialized upon the creation of an object\n",
    "\n",
    "Afterwards, create an object `i12mini = SPHONE(\"iPhone 12 Mini\", \"Apple\", \"iOS\", 2020)` and verify your work.\n",
    "\n"
   ]
  },
  {
   "cell_type": "code",
   "execution_count": null,
   "metadata": {},
   "outputs": [],
   "source": []
  },
  {
   "cell_type": "markdown",
   "metadata": {},
   "source": [
    "# Task 4"
   ]
  },
  {
   "cell_type": "markdown",
   "metadata": {},
   "source": [
    "Keep the constructor remains unchanged, update **SPHONE** as instructed below:\n",
    "\n",
    "(a) Define a function **add_price** that sets the smartphone's price\n",
    "\n",
    "(b) Update **sphone_info** and include the price of the smartphone\n",
    "\n",
    "(c) Define a function **compare_sphone** that compares prices of two smartphones, and print out which one is more expensive\n",
    "\n",
    "Verify your work with `i12 = SPHONE(\"iPhone 12\", \"Apple\", \"iOS\", 2020)` with price `6799` and `xperia1II = SPHONE(\"Xperia 1 II\", \"Sony\", \"Android\", 2020)` with price `7999`.\n",
    "\n"
   ]
  },
  {
   "cell_type": "code",
   "execution_count": 27,
   "metadata": {},
   "outputs": [
    {
     "name": "stdout",
     "output_type": "stream",
     "text": [
      "Name\tiPhone 12 Pro Max\n",
      "Price:\t8890.0\n"
     ]
    }
   ],
   "source": [
    "class SPHONE2:\n",
    "    #constructor \n",
    "    \n",
    "    def __init__(self,sphone_name,sphone_brand,sphone_os,sphone_year):\n",
    "        self.p_name = sphone_name\n",
    "        self.p_brand = sphone_brand\n",
    "        self.p_os = sphone_os\n",
    "        self.p_yes = sphone_year\n",
    "        \n",
    "    def show_info(self):\n",
    "        print(f\"Name\\t{self.p_name}\\nBrand:\\t{self.p_brand}\\nOS:\\t{self.p_os}\\nYear:\\t{self.p_yes}\")\n",
    "    \n",
    "    def show_info2(self):\n",
    "        print(f\"Name\\t{self.p_name}\\nPrice:\\t{self.p_price}\")\n",
    "     \n",
    "    def show_info3(self):\n",
    "        print(f\"Brand\\t{self.p_brand}\")\n",
    "#More actions        \n",
    "    def add_price(self,price):\n",
    "        self.p_price=price\n",
    "        \n",
    "        \n",
    "myphone1=SPHONE2(\"iPhone 12 Pro Max\", \"Apple\", \"iOS\", 2020)\n",
    "myphone1.add_price(8890.00)\n",
    "myphone1.show_info2()   "
   ]
  },
  {
   "cell_type": "code",
   "execution_count": null,
   "metadata": {},
   "outputs": [],
   "source": []
  },
  {
   "cell_type": "code",
   "execution_count": null,
   "metadata": {},
   "outputs": [],
   "source": []
  },
  {
   "cell_type": "markdown",
   "metadata": {},
   "source": [
    "# Task 5"
   ]
  },
  {
   "cell_type": "markdown",
   "metadata": {},
   "source": [
    "Update the class you created in Task 3 with a destructor, print out `Object deleted!` in the destructor.\n",
    "\n",
    "Verify your work with `i12pro = SPHONE(\"iPhone 12 Pro\", \"Apple\", \"iOS\", 2020)`\n",
    "\n"
   ]
  },
  {
   "cell_type": "code",
   "execution_count": 30,
   "metadata": {},
   "outputs": [
    {
     "name": "stdout",
     "output_type": "stream",
     "text": [
      "Name\tiPhone 12 Pro Max\n",
      "Price:\t8890.0\n",
      "....being killed\n"
     ]
    }
   ],
   "source": [
    "class SPHONE2:\n",
    "    \n",
    "    #constructor \n",
    "    \n",
    "    def __init__(self,sphone_name,sphone_brand,sphone_os,sphone_year):\n",
    "        self.p_name = sphone_name\n",
    "        self.p_brand = sphone_brand\n",
    "        self.p_os = sphone_os\n",
    "        self.p_yes = sphone_year\n",
    "        \n",
    "    def show_info(self):\n",
    "        print(f\"Name\\t{self.p_name}\\nBrand:\\t{self.p_brand}\\nOS:\\t{self.p_os}\\nYear:\\t{self.p_yes}\")\n",
    "    \n",
    "    def show_info2(self):\n",
    "        print(f\"Name\\t{self.p_name}\\nPrice:\\t{self.p_price}\")\n",
    "     \n",
    "    def show_info3(self):\n",
    "        print(f\"Brand\\t{self.p_brand}\")\n",
    "        \n",
    "# More actions        \n",
    "    def add_price(self,price):\n",
    "        self.p_price=price\n",
    "        \n",
    "# destructor        \n",
    "    def __del__(self):\n",
    "        print(\"ByeBye!\")\n",
    "    \n",
    "    \n",
    "# Main     \n",
    "    \n",
    "myphone1=SPHONE2(\"iPhone 12 Pro Max\", \"Apple\", \"iOS\", 2020)\n",
    "myphone1.add_price(8890.00)\n",
    "myphone1.show_info2()\n",
    "\n",
    "print(\"....being killed\")\n"
   ]
  },
  {
   "cell_type": "code",
   "execution_count": 31,
   "metadata": {},
   "outputs": [
    {
     "name": "stdout",
     "output_type": "stream",
     "text": [
      "{'p_name': 'iPhone 12 Pro Max', 'p_brand': 'Apple', 'p_os': 'iOS', 'p_yes': 2020, 'p_price': 8890.0}\n"
     ]
    }
   ],
   "source": [
    "print(myphone1.__dict__)"
   ]
  },
  {
   "cell_type": "code",
   "execution_count": null,
   "metadata": {},
   "outputs": [],
   "source": []
  }
 ],
 "metadata": {
  "kernelspec": {
   "display_name": "Python 3",
   "language": "python",
   "name": "python3"
  },
  "language_info": {
   "codemirror_mode": {
    "name": "ipython",
    "version": 3
   },
   "file_extension": ".py",
   "mimetype": "text/x-python",
   "name": "python",
   "nbconvert_exporter": "python",
   "pygments_lexer": "ipython3",
   "version": "3.8.3"
  }
 },
 "nbformat": 4,
 "nbformat_minor": 4
}
