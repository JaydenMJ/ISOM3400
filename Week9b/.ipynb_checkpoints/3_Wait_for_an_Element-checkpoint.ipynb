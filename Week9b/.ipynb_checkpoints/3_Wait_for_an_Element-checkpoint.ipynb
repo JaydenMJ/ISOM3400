{
 "cells": [
  {
   "cell_type": "markdown",
   "metadata": {
    "id": "D22JGStF-IdI"
   },
   "source": [
    "**Preparation**"
   ]
  },
  {
   "cell_type": "code",
   "execution_count": 1,
   "metadata": {
    "executionInfo": {
     "elapsed": 10967,
     "status": "ok",
     "timestamp": 1618319032777,
     "user": {
      "displayName": "ISOM3400 Instructor Google Class",
      "photoUrl": "",
      "userId": "10963748770099369781"
     },
     "user_tz": -480
    },
    "id": "4smcLuHB9asE"
   },
   "outputs": [
    {
     "name": "stderr",
     "output_type": "stream",
     "text": [
      "系統找不到指定的路徑。\n",
      "系統找不到指定的路徑。\n"
     ]
    }
   ],
   "source": [
    "#install selenium\n",
    "#install Chromedriver\n",
    "\n",
    "!pip -qq install selenium\n",
    "!apt-get -qq -y --force-yes update > /tmp/tmp.txt 2>&1\n",
    "\n",
    "# src: https://askubuntu.com/questions/778375/redirecting-apt-get-output\n",
    "!apt -qq -y --force-yes install chromium-chromedriver > /tmp/tmp.txt 2>&1"
   ]
  },
  {
   "cell_type": "code",
   "execution_count": 8,
   "metadata": {
    "executionInfo": {
     "elapsed": 2289,
     "status": "ok",
     "timestamp": 1618319086477,
     "user": {
      "displayName": "ISOM3400 Instructor Google Class",
      "photoUrl": "",
      "userId": "10963748770099369781"
     },
     "user_tz": -480
    },
    "id": "kzROH8Fi9e_k"
   },
   "outputs": [
    {
     "ename": "WebDriverException",
     "evalue": "Message: 'chromedriver' executable needs to be in PATH. Please see https://sites.google.com/a/chromium.org/chromedriver/home\n",
     "output_type": "error",
     "traceback": [
      "\u001b[1;31m---------------------------------------------------------------------------\u001b[0m",
      "\u001b[1;31mFileNotFoundError\u001b[0m                         Traceback (most recent call last)",
      "\u001b[1;32m~\\anaconda3\\lib\\site-packages\\selenium\\webdriver\\common\\service.py\u001b[0m in \u001b[0;36mstart\u001b[1;34m(self)\u001b[0m\n\u001b[0;32m     71\u001b[0m             \u001b[0mcmd\u001b[0m\u001b[1;33m.\u001b[0m\u001b[0mextend\u001b[0m\u001b[1;33m(\u001b[0m\u001b[0mself\u001b[0m\u001b[1;33m.\u001b[0m\u001b[0mcommand_line_args\u001b[0m\u001b[1;33m(\u001b[0m\u001b[1;33m)\u001b[0m\u001b[1;33m)\u001b[0m\u001b[1;33m\u001b[0m\u001b[1;33m\u001b[0m\u001b[0m\n\u001b[1;32m---> 72\u001b[1;33m             self.process = subprocess.Popen(cmd, env=self.env,\n\u001b[0m\u001b[0;32m     73\u001b[0m                                             \u001b[0mclose_fds\u001b[0m\u001b[1;33m=\u001b[0m\u001b[0mplatform\u001b[0m\u001b[1;33m.\u001b[0m\u001b[0msystem\u001b[0m\u001b[1;33m(\u001b[0m\u001b[1;33m)\u001b[0m \u001b[1;33m!=\u001b[0m \u001b[1;34m'Windows'\u001b[0m\u001b[1;33m,\u001b[0m\u001b[1;33m\u001b[0m\u001b[1;33m\u001b[0m\u001b[0m\n",
      "\u001b[1;32m~\\anaconda3\\lib\\subprocess.py\u001b[0m in \u001b[0;36m__init__\u001b[1;34m(self, args, bufsize, executable, stdin, stdout, stderr, preexec_fn, close_fds, shell, cwd, env, universal_newlines, startupinfo, creationflags, restore_signals, start_new_session, pass_fds, encoding, errors, text)\u001b[0m\n\u001b[0;32m    853\u001b[0m \u001b[1;33m\u001b[0m\u001b[0m\n\u001b[1;32m--> 854\u001b[1;33m             self._execute_child(args, executable, preexec_fn, close_fds,\n\u001b[0m\u001b[0;32m    855\u001b[0m                                 \u001b[0mpass_fds\u001b[0m\u001b[1;33m,\u001b[0m \u001b[0mcwd\u001b[0m\u001b[1;33m,\u001b[0m \u001b[0menv\u001b[0m\u001b[1;33m,\u001b[0m\u001b[1;33m\u001b[0m\u001b[1;33m\u001b[0m\u001b[0m\n",
      "\u001b[1;32m~\\anaconda3\\lib\\subprocess.py\u001b[0m in \u001b[0;36m_execute_child\u001b[1;34m(self, args, executable, preexec_fn, close_fds, pass_fds, cwd, env, startupinfo, creationflags, shell, p2cread, p2cwrite, c2pread, c2pwrite, errread, errwrite, unused_restore_signals, unused_start_new_session)\u001b[0m\n\u001b[0;32m   1306\u001b[0m             \u001b[1;32mtry\u001b[0m\u001b[1;33m:\u001b[0m\u001b[1;33m\u001b[0m\u001b[1;33m\u001b[0m\u001b[0m\n\u001b[1;32m-> 1307\u001b[1;33m                 hp, ht, pid, tid = _winapi.CreateProcess(executable, args,\n\u001b[0m\u001b[0;32m   1308\u001b[0m                                          \u001b[1;31m# no special security\u001b[0m\u001b[1;33m\u001b[0m\u001b[1;33m\u001b[0m\u001b[1;33m\u001b[0m\u001b[0m\n",
      "\u001b[1;31mFileNotFoundError\u001b[0m: [WinError 2] 系統找不到指定的檔案。",
      "\nDuring handling of the above exception, another exception occurred:\n",
      "\u001b[1;31mWebDriverException\u001b[0m                        Traceback (most recent call last)",
      "\u001b[1;32m<ipython-input-8-745082c2378c>\u001b[0m in \u001b[0;36m<module>\u001b[1;34m\u001b[0m\n\u001b[0;32m      2\u001b[0m \u001b[1;32mfrom\u001b[0m \u001b[0mselenium\u001b[0m \u001b[1;32mimport\u001b[0m \u001b[0mwebdriver\u001b[0m\u001b[1;33m\u001b[0m\u001b[1;33m\u001b[0m\u001b[0m\n\u001b[0;32m      3\u001b[0m \u001b[1;33m\u001b[0m\u001b[0m\n\u001b[1;32m----> 4\u001b[1;33m \u001b[0mdriver\u001b[0m \u001b[1;33m=\u001b[0m \u001b[0mwebdriver\u001b[0m\u001b[1;33m.\u001b[0m\u001b[0mChrome\u001b[0m\u001b[1;33m(\u001b[0m\u001b[1;34m'./isom3400/Week9b/chromedriver'\u001b[0m\u001b[1;33m)\u001b[0m\u001b[1;33m\u001b[0m\u001b[1;33m\u001b[0m\u001b[0m\n\u001b[0m\u001b[0;32m      5\u001b[0m \u001b[1;33m\u001b[0m\u001b[0m\n\u001b[0;32m      6\u001b[0m \u001b[1;31m# options = webdriver.ChromeOptions()\u001b[0m\u001b[1;33m\u001b[0m\u001b[1;33m\u001b[0m\u001b[1;33m\u001b[0m\u001b[0m\n",
      "\u001b[1;32m~\\anaconda3\\lib\\site-packages\\selenium\\webdriver\\chrome\\webdriver.py\u001b[0m in \u001b[0;36m__init__\u001b[1;34m(self, executable_path, port, options, service_args, desired_capabilities, service_log_path, chrome_options, keep_alive)\u001b[0m\n\u001b[0;32m     71\u001b[0m             \u001b[0mservice_args\u001b[0m\u001b[1;33m=\u001b[0m\u001b[0mservice_args\u001b[0m\u001b[1;33m,\u001b[0m\u001b[1;33m\u001b[0m\u001b[1;33m\u001b[0m\u001b[0m\n\u001b[0;32m     72\u001b[0m             log_path=service_log_path)\n\u001b[1;32m---> 73\u001b[1;33m         \u001b[0mself\u001b[0m\u001b[1;33m.\u001b[0m\u001b[0mservice\u001b[0m\u001b[1;33m.\u001b[0m\u001b[0mstart\u001b[0m\u001b[1;33m(\u001b[0m\u001b[1;33m)\u001b[0m\u001b[1;33m\u001b[0m\u001b[1;33m\u001b[0m\u001b[0m\n\u001b[0m\u001b[0;32m     74\u001b[0m \u001b[1;33m\u001b[0m\u001b[0m\n\u001b[0;32m     75\u001b[0m         \u001b[1;32mtry\u001b[0m\u001b[1;33m:\u001b[0m\u001b[1;33m\u001b[0m\u001b[1;33m\u001b[0m\u001b[0m\n",
      "\u001b[1;32m~\\anaconda3\\lib\\site-packages\\selenium\\webdriver\\common\\service.py\u001b[0m in \u001b[0;36mstart\u001b[1;34m(self)\u001b[0m\n\u001b[0;32m     79\u001b[0m         \u001b[1;32mexcept\u001b[0m \u001b[0mOSError\u001b[0m \u001b[1;32mas\u001b[0m \u001b[0merr\u001b[0m\u001b[1;33m:\u001b[0m\u001b[1;33m\u001b[0m\u001b[1;33m\u001b[0m\u001b[0m\n\u001b[0;32m     80\u001b[0m             \u001b[1;32mif\u001b[0m \u001b[0merr\u001b[0m\u001b[1;33m.\u001b[0m\u001b[0merrno\u001b[0m \u001b[1;33m==\u001b[0m \u001b[0merrno\u001b[0m\u001b[1;33m.\u001b[0m\u001b[0mENOENT\u001b[0m\u001b[1;33m:\u001b[0m\u001b[1;33m\u001b[0m\u001b[1;33m\u001b[0m\u001b[0m\n\u001b[1;32m---> 81\u001b[1;33m                 raise WebDriverException(\n\u001b[0m\u001b[0;32m     82\u001b[0m                     \"'%s' executable needs to be in PATH. %s\" % (\n\u001b[0;32m     83\u001b[0m                         os.path.basename(self.path), self.start_error_message)\n",
      "\u001b[1;31mWebDriverException\u001b[0m: Message: 'chromedriver' executable needs to be in PATH. Please see https://sites.google.com/a/chromium.org/chromedriver/home\n"
     ]
    }
   ],
   "source": [
    "# import selenium and setup the driver\n",
    "from selenium import webdriver\n",
    "\n",
    "\n",
    "options = webdriver.ChromeOptions()\n",
    "options.add_argument('-headless')\n",
    "options.add_argument('-no-sandbox')\n",
    "options.add_argument('-disable-dev-shm-usage')\n",
    "#Create the driver\n",
    "driver = webdriver.Chrome('chromedriver',options=options)"
   ]
  },
  {
   "cell_type": "markdown",
   "metadata": {
    "id": "M-cy89pN-Fax"
   },
   "source": [
    "**Step 1: Connection**"
   ]
  },
  {
   "cell_type": "code",
   "execution_count": 5,
   "metadata": {
    "executionInfo": {
     "elapsed": 1255,
     "status": "ok",
     "timestamp": 1618319089234,
     "user": {
      "displayName": "ISOM3400 Instructor Google Class",
      "photoUrl": "",
      "userId": "10963748770099369781"
     },
     "user_tz": -480
    },
    "id": "M_qO1N0M-PlS"
   },
   "outputs": [],
   "source": [
    "from selenium import webdriver\n",
    "from selenium.webdriver.common.by import By\n",
    "from selenium.webdriver.support.ui import WebDriverWait\n",
    "from selenium.webdriver.support import expected_conditions as EC\n",
    "\n",
    "from selenium.webdriver.common.keys import Keys\n",
    "import time"
   ]
  },
  {
   "cell_type": "code",
   "execution_count": 6,
   "metadata": {
    "executionInfo": {
     "elapsed": 3856,
     "status": "ok",
     "timestamp": 1618319093111,
     "user": {
      "displayName": "ISOM3400 Instructor Google Class",
      "photoUrl": "",
      "userId": "10963748770099369781"
     },
     "user_tz": -480
    },
    "id": "Vo_uBagP9hQk"
   },
   "outputs": [
    {
     "ename": "WebDriverException",
     "evalue": "Message: 'chromedriver' executable needs to be in PATH. Please see https://sites.google.com/a/chromium.org/chromedriver/home\n",
     "output_type": "error",
     "traceback": [
      "\u001b[1;31m---------------------------------------------------------------------------\u001b[0m",
      "\u001b[1;31mFileNotFoundError\u001b[0m                         Traceback (most recent call last)",
      "\u001b[1;32m~\\anaconda3\\lib\\site-packages\\selenium\\webdriver\\common\\service.py\u001b[0m in \u001b[0;36mstart\u001b[1;34m(self)\u001b[0m\n\u001b[0;32m     71\u001b[0m             \u001b[0mcmd\u001b[0m\u001b[1;33m.\u001b[0m\u001b[0mextend\u001b[0m\u001b[1;33m(\u001b[0m\u001b[0mself\u001b[0m\u001b[1;33m.\u001b[0m\u001b[0mcommand_line_args\u001b[0m\u001b[1;33m(\u001b[0m\u001b[1;33m)\u001b[0m\u001b[1;33m)\u001b[0m\u001b[1;33m\u001b[0m\u001b[1;33m\u001b[0m\u001b[0m\n\u001b[1;32m---> 72\u001b[1;33m             self.process = subprocess.Popen(cmd, env=self.env,\n\u001b[0m\u001b[0;32m     73\u001b[0m                                             \u001b[0mclose_fds\u001b[0m\u001b[1;33m=\u001b[0m\u001b[0mplatform\u001b[0m\u001b[1;33m.\u001b[0m\u001b[0msystem\u001b[0m\u001b[1;33m(\u001b[0m\u001b[1;33m)\u001b[0m \u001b[1;33m!=\u001b[0m \u001b[1;34m'Windows'\u001b[0m\u001b[1;33m,\u001b[0m\u001b[1;33m\u001b[0m\u001b[1;33m\u001b[0m\u001b[0m\n",
      "\u001b[1;32m~\\anaconda3\\lib\\subprocess.py\u001b[0m in \u001b[0;36m__init__\u001b[1;34m(self, args, bufsize, executable, stdin, stdout, stderr, preexec_fn, close_fds, shell, cwd, env, universal_newlines, startupinfo, creationflags, restore_signals, start_new_session, pass_fds, encoding, errors, text)\u001b[0m\n\u001b[0;32m    853\u001b[0m \u001b[1;33m\u001b[0m\u001b[0m\n\u001b[1;32m--> 854\u001b[1;33m             self._execute_child(args, executable, preexec_fn, close_fds,\n\u001b[0m\u001b[0;32m    855\u001b[0m                                 \u001b[0mpass_fds\u001b[0m\u001b[1;33m,\u001b[0m \u001b[0mcwd\u001b[0m\u001b[1;33m,\u001b[0m \u001b[0menv\u001b[0m\u001b[1;33m,\u001b[0m\u001b[1;33m\u001b[0m\u001b[1;33m\u001b[0m\u001b[0m\n",
      "\u001b[1;32m~\\anaconda3\\lib\\subprocess.py\u001b[0m in \u001b[0;36m_execute_child\u001b[1;34m(self, args, executable, preexec_fn, close_fds, pass_fds, cwd, env, startupinfo, creationflags, shell, p2cread, p2cwrite, c2pread, c2pwrite, errread, errwrite, unused_restore_signals, unused_start_new_session)\u001b[0m\n\u001b[0;32m   1306\u001b[0m             \u001b[1;32mtry\u001b[0m\u001b[1;33m:\u001b[0m\u001b[1;33m\u001b[0m\u001b[1;33m\u001b[0m\u001b[0m\n\u001b[1;32m-> 1307\u001b[1;33m                 hp, ht, pid, tid = _winapi.CreateProcess(executable, args,\n\u001b[0m\u001b[0;32m   1308\u001b[0m                                          \u001b[1;31m# no special security\u001b[0m\u001b[1;33m\u001b[0m\u001b[1;33m\u001b[0m\u001b[1;33m\u001b[0m\u001b[0m\n",
      "\u001b[1;31mFileNotFoundError\u001b[0m: [WinError 2] 系統找不到指定的檔案。",
      "\nDuring handling of the above exception, another exception occurred:\n",
      "\u001b[1;31mWebDriverException\u001b[0m                        Traceback (most recent call last)",
      "\u001b[1;32m<ipython-input-6-f34bce632dd1>\u001b[0m in \u001b[0;36m<module>\u001b[1;34m\u001b[0m\n\u001b[0;32m      1\u001b[0m \u001b[1;31m#Connect to a site (URL)\u001b[0m\u001b[1;33m\u001b[0m\u001b[1;33m\u001b[0m\u001b[1;33m\u001b[0m\u001b[0m\n\u001b[1;32m----> 2\u001b[1;33m \u001b[0mdriver\u001b[0m \u001b[1;33m=\u001b[0m \u001b[0mwebdriver\u001b[0m\u001b[1;33m.\u001b[0m\u001b[0mChrome\u001b[0m\u001b[1;33m(\u001b[0m\u001b[1;34m'./chromedriver'\u001b[0m\u001b[1;33m)\u001b[0m\u001b[1;33m\u001b[0m\u001b[1;33m\u001b[0m\u001b[0m\n\u001b[0m\u001b[0;32m      3\u001b[0m \u001b[0mURL\u001b[0m \u001b[1;33m=\u001b[0m \u001b[1;34m\"https://www.youtube.com/\"\u001b[0m\u001b[1;33m\u001b[0m\u001b[1;33m\u001b[0m\u001b[0m\n\u001b[0;32m      4\u001b[0m \u001b[0mdriver\u001b[0m\u001b[1;33m.\u001b[0m\u001b[0mget\u001b[0m\u001b[1;33m(\u001b[0m\u001b[0mURL\u001b[0m\u001b[1;33m)\u001b[0m\u001b[1;33m\u001b[0m\u001b[1;33m\u001b[0m\u001b[0m\n",
      "\u001b[1;32m~\\anaconda3\\lib\\site-packages\\selenium\\webdriver\\chrome\\webdriver.py\u001b[0m in \u001b[0;36m__init__\u001b[1;34m(self, executable_path, port, options, service_args, desired_capabilities, service_log_path, chrome_options, keep_alive)\u001b[0m\n\u001b[0;32m     71\u001b[0m             \u001b[0mservice_args\u001b[0m\u001b[1;33m=\u001b[0m\u001b[0mservice_args\u001b[0m\u001b[1;33m,\u001b[0m\u001b[1;33m\u001b[0m\u001b[1;33m\u001b[0m\u001b[0m\n\u001b[0;32m     72\u001b[0m             log_path=service_log_path)\n\u001b[1;32m---> 73\u001b[1;33m         \u001b[0mself\u001b[0m\u001b[1;33m.\u001b[0m\u001b[0mservice\u001b[0m\u001b[1;33m.\u001b[0m\u001b[0mstart\u001b[0m\u001b[1;33m(\u001b[0m\u001b[1;33m)\u001b[0m\u001b[1;33m\u001b[0m\u001b[1;33m\u001b[0m\u001b[0m\n\u001b[0m\u001b[0;32m     74\u001b[0m \u001b[1;33m\u001b[0m\u001b[0m\n\u001b[0;32m     75\u001b[0m         \u001b[1;32mtry\u001b[0m\u001b[1;33m:\u001b[0m\u001b[1;33m\u001b[0m\u001b[1;33m\u001b[0m\u001b[0m\n",
      "\u001b[1;32m~\\anaconda3\\lib\\site-packages\\selenium\\webdriver\\common\\service.py\u001b[0m in \u001b[0;36mstart\u001b[1;34m(self)\u001b[0m\n\u001b[0;32m     79\u001b[0m         \u001b[1;32mexcept\u001b[0m \u001b[0mOSError\u001b[0m \u001b[1;32mas\u001b[0m \u001b[0merr\u001b[0m\u001b[1;33m:\u001b[0m\u001b[1;33m\u001b[0m\u001b[1;33m\u001b[0m\u001b[0m\n\u001b[0;32m     80\u001b[0m             \u001b[1;32mif\u001b[0m \u001b[0merr\u001b[0m\u001b[1;33m.\u001b[0m\u001b[0merrno\u001b[0m \u001b[1;33m==\u001b[0m \u001b[0merrno\u001b[0m\u001b[1;33m.\u001b[0m\u001b[0mENOENT\u001b[0m\u001b[1;33m:\u001b[0m\u001b[1;33m\u001b[0m\u001b[1;33m\u001b[0m\u001b[0m\n\u001b[1;32m---> 81\u001b[1;33m                 raise WebDriverException(\n\u001b[0m\u001b[0;32m     82\u001b[0m                     \"'%s' executable needs to be in PATH. %s\" % (\n\u001b[0;32m     83\u001b[0m                         os.path.basename(self.path), self.start_error_message)\n",
      "\u001b[1;31mWebDriverException\u001b[0m: Message: 'chromedriver' executable needs to be in PATH. Please see https://sites.google.com/a/chromium.org/chromedriver/home\n"
     ]
    }
   ],
   "source": [
    "#Connect to a site (URL)\n",
    "driver = webdriver.Chrome('./chromedriver')\n",
    "URL = \"https://www.youtube.com/\"\n",
    "driver.get(URL)"
   ]
  },
  {
   "cell_type": "markdown",
   "metadata": {
    "id": "GIJ_P-Bj-mjr"
   },
   "source": [
    "**Step 2: Enter a search term**"
   ]
  },
  {
   "cell_type": "code",
   "execution_count": 17,
   "metadata": {
    "executionInfo": {
     "elapsed": 606,
     "status": "ok",
     "timestamp": 1618319097858,
     "user": {
      "displayName": "ISOM3400 Instructor Google Class",
      "photoUrl": "",
      "userId": "10963748770099369781"
     },
     "user_tz": -480
    },
    "id": "ggbgt5oO-ynp"
   },
   "outputs": [],
   "source": [
    "# Step 2: Enter a search term\n",
    "\n",
    "from selenium.webdriver.support.ui import WebDriverWait\n",
    "\n",
    "wait = WebDriverWait(driver, 3)\n",
    "visible = EC.visibility_of_element_located"
   ]
  },
  {
   "cell_type": "code",
   "execution_count": 18,
   "metadata": {
    "executionInfo": {
     "elapsed": 1714,
     "status": "ok",
     "timestamp": 1618319099926,
     "user": {
      "displayName": "ISOM3400 Instructor Google Class",
      "photoUrl": "",
      "userId": "10963748770099369781"
     },
     "user_tz": -480
    },
    "id": "5QRPsyvq-zZx"
   },
   "outputs": [],
   "source": [
    "# Search for the video.\n",
    "wait.until(visible((By.NAME, \"search_query\")))\n",
    "driver.find_element_by_name(\"search_query\").click()\n",
    "driver.find_element_by_name(\"search_query\").send_keys(\"python for kids\")\n",
    "driver.find_element_by_id(\"search-icon-legacy\").click()"
   ]
  },
  {
   "cell_type": "markdown",
   "metadata": {
    "id": "nkgjp3xzIFY-"
   },
   "source": [
    "**Step 3: Use elements to show all listed items**"
   ]
  },
  {
   "cell_type": "code",
   "execution_count": 7,
   "metadata": {
    "colab": {
     "base_uri": "https://localhost:8080/",
     "height": 35
    },
    "executionInfo": {
     "elapsed": 15815,
     "status": "ok",
     "timestamp": 1618319037654,
     "user": {
      "displayName": "ISOM3400 Instructor Google Class",
      "photoUrl": "",
      "userId": "10963748770099369781"
     },
     "user_tz": -480
    },
    "id": "BRGhvkjgKv52",
    "outputId": "c1bfc294-07ae-4aac-f8ce-4887d3797b53"
   },
   "outputs": [
    {
     "data": {
      "application/vnd.google.colaboratory.intrinsic+json": {
       "type": "string"
      },
      "text/plain": [
       "'\\n<ytd-video-renderer \\n    class=\"style-scope ytd-item-section-renderer\" \\n    lockup=\"\" prominent-thumb-style=\"DEFAULT\"><!--css-build:shady-->\\n    \\n'"
      ]
     },
     "execution_count": 7,
     "metadata": {
      "tags": []
     },
     "output_type": "execute_result"
    }
   ],
   "source": [
    "'''\n",
    "<ytd-video-renderer \n",
    "    class=\"style-scope ytd-item-section-renderer\" \n",
    "    lockup=\"\" prominent-thumb-style=\"DEFAULT\"><!--css-build:shady-->\n",
    "    \n",
    "'''"
   ]
  },
  {
   "cell_type": "code",
   "execution_count": 19,
   "metadata": {
    "executionInfo": {
     "elapsed": 645,
     "status": "ok",
     "timestamp": 1618319103893,
     "user": {
      "displayName": "ISOM3400 Instructor Google Class",
      "photoUrl": "",
      "userId": "10963748770099369781"
     },
     "user_tz": -480
    },
    "id": "gn1worRr-3IF"
   },
   "outputs": [],
   "source": [
    "# Find Elements\n",
    "list_items = driver.find_elements_by_tag_name(\"ytd-video-renderer\")"
   ]
  },
  {
   "cell_type": "markdown",
   "metadata": {
    "id": "PuotRVrRLuJy"
   },
   "source": [
    "**HTML - video title (header)**"
   ]
  },
  {
   "cell_type": "code",
   "execution_count": 9,
   "metadata": {
    "colab": {
     "base_uri": "https://localhost:8080/",
     "height": 35
    },
    "executionInfo": {
     "elapsed": 16046,
     "status": "ok",
     "timestamp": 1618319037892,
     "user": {
      "displayName": "ISOM3400 Instructor Google Class",
      "photoUrl": "",
      "userId": "10963748770099369781"
     },
     "user_tz": -480
    },
    "id": "NkFwR_8OLyHR",
    "outputId": "1d23047e-813f-490d-bed2-23f3d2462ec8"
   },
   "outputs": [
    {
     "data": {
      "application/vnd.google.colaboratory.intrinsic+json": {
       "type": "string"
      },
      "text/plain": [
       "'\\nheader = list_items[0].find_element_by_id(\"video-title\")\\nprint(header.text)\\n'"
      ]
     },
     "execution_count": 9,
     "metadata": {
      "tags": []
     },
     "output_type": "execute_result"
    }
   ],
   "source": [
    "'''\n",
    "<a id=\"video-title\" \n",
    "    class=\"yt-simple-endpoint style-scope ytd-video-renderer\" \n",
    "    title=\"Learn Python - Full Course for Beginners [Tutorial]\" \n",
    "    href=\"/watch?v=rfscVS0vtbw\" \n",
    "    aria-label=\"Learn Python - Full Course for Beginners [Tutorial] by freeCodeCamp.org 2 years ago 4 hours, 26 minutes 17,432,298 views\">\n",
    "                 </a>\n",
    "'''\n",
    "\n",
    "'''\n",
    "header = list_items[0].find_element_by_id(\"video-title\")\n",
    "print(header.text)\n",
    "'''"
   ]
  },
  {
   "cell_type": "markdown",
   "metadata": {
    "id": "7FamadiULz27"
   },
   "source": [
    "**HTML - description text (description)**"
   ]
  },
  {
   "cell_type": "code",
   "execution_count": 10,
   "metadata": {
    "colab": {
     "base_uri": "https://localhost:8080/",
     "height": 35
    },
    "executionInfo": {
     "elapsed": 16041,
     "status": "ok",
     "timestamp": 1618319037892,
     "user": {
      "displayName": "ISOM3400 Instructor Google Class",
      "photoUrl": "",
      "userId": "10963748770099369781"
     },
     "user_tz": -480
    },
    "id": "_gTQnMX2K2BZ",
    "outputId": "72fa838c-762a-4fad-c25f-6424a721fe9a"
   },
   "outputs": [
    {
     "data": {
      "application/vnd.google.colaboratory.intrinsic+json": {
       "type": "string"
      },
      "text/plain": [
       "'\\ndescription = item.find_element_by_id(\"description-text\") \\nprint(description.text)\\n'"
      ]
     },
     "execution_count": 10,
     "metadata": {
      "tags": []
     },
     "output_type": "execute_result"
    }
   ],
   "source": [
    "'''\n",
    "HTML - description text\n",
    "<yt-formatted-string \n",
    "    id=\"description-text\" \n",
    "    class=\"style-scope ytd-video-renderer\">\n",
    "         Minecraft Hardcore Survival Let's Play - Welcome to Minecraft Hardcore Survival Season 4! This time, we're taking things a bit&nbsp;...\n",
    "</yt-formatted-string>\n",
    "'''\n",
    "\n",
    "'''\n",
    "description = item.find_element_by_id(\"description-text\") \n",
    "print(description.text)\n",
    "'''"
   ]
  },
  {
   "cell_type": "markdown",
   "metadata": {
    "id": "W9u7hE2LL4ly"
   },
   "source": [
    "**HTML - Hyperlink (link)**"
   ]
  },
  {
   "cell_type": "code",
   "execution_count": 11,
   "metadata": {
    "colab": {
     "base_uri": "https://localhost:8080/",
     "height": 35
    },
    "executionInfo": {
     "elapsed": 16037,
     "status": "ok",
     "timestamp": 1618319037893,
     "user": {
      "displayName": "ISOM3400 Instructor Google Class",
      "photoUrl": "",
      "userId": "10963748770099369781"
     },
     "user_tz": -480
    },
    "id": "wG9gb2UhL7El",
    "outputId": "2865f26a-e92a-45c7-e641-d352addefb0e"
   },
   "outputs": [
    {
     "data": {
      "application/vnd.google.colaboratory.intrinsic+json": {
       "type": "string"
      },
      "text/plain": [
       "'\\nlink = item.find_element_by_tag_name(\"a\").get_attribute(\"href\")\\nprint(link.text)\\n'"
      ]
     },
     "execution_count": 11,
     "metadata": {
      "tags": []
     },
     "output_type": "execute_result"
    }
   ],
   "source": [
    "'''\n",
    "<a id=\"video-title\" \n",
    "    class=\"yt-simple-endpoint style-scope ytd-video-renderer\" \n",
    "    title=\"Learn Python - Full Course for Beginners [Tutorial]\" \n",
    "    href=\"/watch?v=rfscVS0vtbw\" \n",
    "    aria-label=\"Learn Python - Full Course for Beginners [Tutorial] by freeCodeCamp.org 2 years ago 4 hours, 26 minutes 17,432,298 views\">\n",
    "                 </a>\n",
    "'''\n",
    "\n",
    "'''\n",
    "link = item.find_element_by_tag_name(\"a\").get_attribute(\"href\")\n",
    "print(link.text)\n",
    "'''"
   ]
  },
  {
   "cell_type": "markdown",
   "metadata": {
    "id": "j0uJB8kVICMC"
   },
   "source": [
    "**Step 4: Save data to CSV file**"
   ]
  },
  {
   "cell_type": "code",
   "execution_count": 20,
   "metadata": {
    "colab": {
     "base_uri": "https://localhost:8080/"
    },
    "executionInfo": {
     "elapsed": 2264,
     "status": "ok",
     "timestamp": 1618319111866,
     "user": {
      "displayName": "ISOM3400 Instructor Google Class",
      "photoUrl": "",
      "userId": "10963748770099369781"
     },
     "user_tz": -480
    },
    "id": "Qin83-P2HoZ7",
    "outputId": "b96b9267-4999-4c65-b83f-b0aa7b942417"
   },
   "outputs": [
    {
     "name": "stdout",
     "output_type": "stream",
     "text": [
      "Coding For Kids in Python Part 1 This is my first video in the series Coding For Kids in Python. I will walk you through the book written by Adrienne Tacke and hope ... https://www.youtube.com/watch?v=uzyiCpsS0qQ\n",
      "\"Python for kids\" course, chapter 1. Full course you can find at Udemy! The new entry in my portfolio! Python course for kids who are just beginning to learn to program. If you have in mind the idea of ... https://www.youtube.com/watch?v=YoHLbpjIByE\n",
      "Learn Python - Full Course for Beginners [Tutorial] ⭐️ Contents ⭐ ⌨️ (0:00) Introduction ⌨️ (1:45) Installing Python & PyCharm ⌨️ (6:40) Setup & Hello World ⌨️ (10:23) Drawing ... https://www.youtube.com/watch?v=rfscVS0vtbw\n",
      "Python Tutorial - Python for Beginners [Full Course] Want to learn more from me? Courses: https://codewithmosh.com Twitter: https://twitter.com/moshhamedani Facebook: ... https://www.youtube.com/watch?v=_uQrJ0TkZlc\n",
      "Coding For Kids in Python Part 2 Welcome to the 2nd video in the series Coding For Kids in Python!! In this video I will show you how to Save your Python https://www.youtube.com/watch?v=-zPUKUuVOPk\n",
      "#1 Python Playground: Computer Programming and Coding for Kids and Beginners Lesson 1 What is Python? Scene1 Emma Hi, Daniel. I want to be an engineer, a modern-day wizard. Because an engineer is free ... https://www.youtube.com/watch?v=meq5JF5_YiY\n",
      "Coding For Kids in Python Part 3 This is the third video in the series Coding For Kids in Python. I will walk you through the book written by Adrienne Tacke and ... https://www.youtube.com/watch?v=leKHKkh7vHM\n",
      "Hello! Programming with Python for Kids and Beginners 2/10 [A Part of Udemy Course] This is a part of the following Udemy course. https://www.udemy.com/share/101GUqBUofeV9bQng=/ This course is designed to ... https://www.youtube.com/watch?v=qQHl0VqM8Ac\n",
      "Coding For Kids in Python Part 6 This is the sixth video in the series Coding For Kids in Python. I will walk you through the book written by Adrienne Tacke and ... https://www.youtube.com/watch?v=GOTVbwdAgYA\n",
      "🇺🇸 Programming (coding) for kids 2. How to create your first Scratch game. In this video I'll show how to create your first own real game in Scratch. You will learn what the sprites (objects) are and will create ... https://www.youtube.com/watch?v=BdBV-Cy9fNg\n",
      "Python Tutorial for Beginners - Learn Python in 1 Hour #Python, #MachineLearning, #WebDevelopment Python Exercises for Beginners: https://goo.gl/1XnQB1 ⭐ My Favorite https://www.youtube.com/watch?v=kqtD5dpn9C8\n",
      "How to teach children to code Scratch Jr. teaches children how to program. https://www.youtube.com/watch?v=1M6X0kAfnoY\n",
      "14-Year-Old Prodigy Programmer Dreams In Code Fourteen-year-old programmer and software developer Santiago Gonzalez might just be the next Steve Jobs. He already has 15 ... https://www.youtube.com/watch?v=DBXZWB_dNsw\n",
      "Coding for Kids - Install Python and create first program This is the first video in the series about the book \"Python for kids\". We are going to install python and write our first program! https://www.youtube.com/watch?v=G5mhre36aCE\n",
      "Coding For Kids in Python Part 9 In this video, we will go through some of the operations we can do on Lists in Python like Slicing Lists, Append/Add Items in a list, ... https://www.youtube.com/watch?v=RoUvHNujdro\n",
      "Coding For Kids in Python Part 7 This is the 7th video in the series Coding For Kids in Python. I will walk you through the book written by Adrienne Tacke and hope ... https://www.youtube.com/watch?v=QWdx0auE2uc\n",
      "Python for Kids (Book Review) \"Python for Kids\" by Jason R. Briggs was a delight to read even for someone with many years of programming experience. https://www.youtube.com/watch?v=9Ep4UmJ6EZI\n",
      "Snakes - The Dr. Binocs Show | Best Learning Videos For Kids | Peekaboo Kidz Are Snakes really dangerous? How many types of Snakes exist? How do they contribute to our environment? Learn about Snakes ... https://www.youtube.com/watch?v=xlIxjtTJrq4\n",
      "Coding For Kids in Python using Google Colab - Part 5 Thanks for watching the Coding For Kids in Python Part 5. This video series is in a sequential order. To better understand the ... https://www.youtube.com/watch?v=r88iFZoAWzw\n",
      "Coding For Kids in Python Part 4 Thanks for watching the Coding For Kids in Python Part 4. This video series is in a sequential order. To better understand the ... https://www.youtube.com/watch?v=xkOLSMHRLzE\n"
     ]
    }
   ],
   "source": [
    "# Write data to CSV\n",
    "import csv\n",
    "import random\n",
    "import time\n",
    "from datetime import datetime\n",
    "\n",
    "filename = 'youtube_data.csv'\n",
    "fieldnames = [\"title\", \"description\", \"link\"]\n",
    "\n",
    "# Write column headers\n",
    "with open(filename, 'w') as csv_file:\n",
    "        csv_writer = csv.DictWriter(csv_file, fieldnames=fieldnames)\n",
    "        csv_writer.writeheader()\n",
    "\n",
    "        for idx, item in enumerate(list_items):\n",
    "                header = item.find_element_by_id(\"video-title\")      # Title\n",
    "                description = item.find_element_by_id(\"description-text\")    # Description\n",
    "                link = item.find_element_by_tag_name(\"a\").get_attribute(\"href\")  # Link\n",
    "        \n",
    "                data = {\n",
    "                        \"title\": header.text,\n",
    "                        \"description\": description.text,\n",
    "                        \"link\": link}\n",
    "                csv_writer.writerow(data)\n",
    "                print(data[\"title\"], data[\"description\"], data[\"link\"])\n"
   ]
  },
  {
   "cell_type": "markdown",
   "metadata": {
    "id": "gn4TGtipJBlx"
   },
   "source": [
    "**Step 5: Close the driver**"
   ]
  },
  {
   "cell_type": "code",
   "execution_count": 21,
   "metadata": {
    "executionInfo": {
     "elapsed": 1237,
     "status": "ok",
     "timestamp": 1618319117308,
     "user": {
      "displayName": "ISOM3400 Instructor Google Class",
      "photoUrl": "",
      "userId": "10963748770099369781"
     },
     "user_tz": -480
    },
    "id": "6QQSipB_Hswi"
   },
   "outputs": [],
   "source": [
    "driver.close()"
   ]
  },
  {
   "cell_type": "markdown",
   "metadata": {
    "id": "uEETDPNhc6Y5"
   },
   "source": [
    "**Step 6: Read CSV**"
   ]
  },
  {
   "cell_type": "code",
   "execution_count": 23,
   "metadata": {
    "colab": {
     "base_uri": "https://localhost:8080/"
    },
    "executionInfo": {
     "elapsed": 1385,
     "status": "ok",
     "timestamp": 1618321121049,
     "user": {
      "displayName": "ISOM3400 Instructor Google Class",
      "photoUrl": "",
      "userId": "10963748770099369781"
     },
     "user_tz": -480
    },
    "id": "QNRGZB0Nc9l8",
    "outputId": "0d538d70-2451-4911-e803-1cb0a01b0377"
   },
   "outputs": [
    {
     "name": "stdout",
     "output_type": "stream",
     "text": [
      "                                                title  ...                                         link\n",
      "0                    Coding For Kids in Python Part 1  ...  https://www.youtube.com/watch?v=uzyiCpsS0qQ\n",
      "1   \"Python for kids\" course, chapter 1. Full cour...  ...  https://www.youtube.com/watch?v=YoHLbpjIByE\n",
      "2   Learn Python - Full Course for Beginners [Tuto...  ...  https://www.youtube.com/watch?v=rfscVS0vtbw\n",
      "3   Python Tutorial - Python for Beginners [Full C...  ...  https://www.youtube.com/watch?v=_uQrJ0TkZlc\n",
      "4                    Coding For Kids in Python Part 2  ...  https://www.youtube.com/watch?v=-zPUKUuVOPk\n",
      "5   #1 Python Playground: Computer Programming and...  ...  https://www.youtube.com/watch?v=meq5JF5_YiY\n",
      "6                    Coding For Kids in Python Part 3  ...  https://www.youtube.com/watch?v=leKHKkh7vHM\n",
      "7   Hello! Programming with Python for Kids and Be...  ...  https://www.youtube.com/watch?v=qQHl0VqM8Ac\n",
      "8                    Coding For Kids in Python Part 6  ...  https://www.youtube.com/watch?v=GOTVbwdAgYA\n",
      "9   🇺🇸 Programming (coding) for kids 2. How to cre...  ...  https://www.youtube.com/watch?v=BdBV-Cy9fNg\n",
      "10  Python Tutorial for Beginners - Learn Python i...  ...  https://www.youtube.com/watch?v=kqtD5dpn9C8\n",
      "11                      How to teach children to code  ...  https://www.youtube.com/watch?v=1M6X0kAfnoY\n",
      "12      14-Year-Old Prodigy Programmer Dreams In Code  ...  https://www.youtube.com/watch?v=DBXZWB_dNsw\n",
      "13  Coding for Kids - Install Python and create fi...  ...  https://www.youtube.com/watch?v=G5mhre36aCE\n",
      "14                   Coding For Kids in Python Part 9  ...  https://www.youtube.com/watch?v=RoUvHNujdro\n",
      "15                   Coding For Kids in Python Part 7  ...  https://www.youtube.com/watch?v=QWdx0auE2uc\n",
      "16                      Python for Kids (Book Review)  ...  https://www.youtube.com/watch?v=9Ep4UmJ6EZI\n",
      "17  Snakes - The Dr. Binocs Show | Best Learning V...  ...  https://www.youtube.com/watch?v=xlIxjtTJrq4\n",
      "18  Coding For Kids in Python using Google Colab -...  ...  https://www.youtube.com/watch?v=r88iFZoAWzw\n",
      "19                   Coding For Kids in Python Part 4  ...  https://www.youtube.com/watch?v=xkOLSMHRLzE\n",
      "\n",
      "[20 rows x 3 columns]\n"
     ]
    }
   ],
   "source": [
    "import pandas\n",
    "df = pandas.read_csv(filename)\n",
    "print(df)"
   ]
  },
  {
   "cell_type": "code",
   "execution_count": 13,
   "metadata": {
    "executionInfo": {
     "elapsed": 16760,
     "status": "ok",
     "timestamp": 1618319038626,
     "user": {
      "displayName": "ISOM3400 Instructor Google Class",
      "photoUrl": "",
      "userId": "10963748770099369781"
     },
     "user_tz": -480
    },
    "id": "ckslQpplHw0z"
   },
   "outputs": [],
   "source": []
  }
 ],
 "metadata": {
  "colab": {
   "authorship_tag": "ABX9TyP3hfWjkLNwM2Rm/rSxV406",
   "collapsed_sections": [],
   "name": "3_Wait_for_an_Element.ipynb",
   "provenance": []
  },
  "kernelspec": {
   "display_name": "Python 3",
   "language": "python",
   "name": "python3"
  },
  "language_info": {
   "codemirror_mode": {
    "name": "ipython",
    "version": 3
   },
   "file_extension": ".py",
   "mimetype": "text/x-python",
   "name": "python",
   "nbconvert_exporter": "python",
   "pygments_lexer": "ipython3",
   "version": "3.8.3"
  }
 },
 "nbformat": 4,
 "nbformat_minor": 1
}
